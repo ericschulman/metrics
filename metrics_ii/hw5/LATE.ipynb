{
 "cells": [
  {
   "cell_type": "code",
   "execution_count": 2,
   "metadata": {},
   "outputs": [],
   "source": [
    "import pandas as pd\n",
    "import numpy as np\n",
    "import math\n",
    "\n",
    "import statsmodels.api as sm\n",
    "from statsmodels.sandbox.regression.gmm import IV2SLS"
   ]
  },
  {
   "cell_type": "markdown",
   "metadata": {},
   "source": [
    "### Part 1) - Part 2)"
   ]
  },
  {
   "cell_type": "code",
   "execution_count": 3,
   "metadata": {},
   "outputs": [],
   "source": [
    "sigma = .1\n",
    "var = [[1, sigma ], [sigma , 1]]\n",
    "mean = [0., 0.]\n",
    "N = int(1e6)\n",
    "\n",
    "ey, ex = np.random.multivariate_normal(mean, var, size = N).transpose()"
   ]
  },
  {
   "cell_type": "code",
   "execution_count": 4,
   "metadata": {},
   "outputs": [],
   "source": [
    "pz = .3\n",
    "\n",
    "z = np.random.binomial(1,pz,N).astype(np.float)"
   ]
  },
  {
   "cell_type": "code",
   "execution_count": 5,
   "metadata": {},
   "outputs": [],
   "source": [
    "beta_0x = -.5\n",
    "beta_1x = 2\n",
    "\n",
    "x = (beta_0x + beta_1x*z + ex > 0).astype(np.float) "
   ]
  },
  {
   "cell_type": "code",
   "execution_count": 6,
   "metadata": {},
   "outputs": [],
   "source": [
    "beta_0y = 1\n",
    "beta_1y = 1\n",
    "\n",
    "y = beta_0y + beta_1y*x + ey"
   ]
  },
  {
   "cell_type": "markdown",
   "metadata": {},
   "source": [
    "### Part 5\n",
    "\n",
    "$E(y(1) -y(0)) = E(\\beta_{0y} + \\beta_{1jy} + \\epsilon_{yj} |x=1 ) - E(\\beta_{0y} + \\epsilon_{yj} | x_j=0 ) = E(\\beta_{1jy} |x_j =1) = \\beta_{1y} + E(\\epsilon_{yj}|x_j = 1) -E(\\epsilon_{yj}|x_j=0) $"
   ]
  },
  {
   "cell_type": "markdown",
   "metadata": {},
   "source": [
    "### Part 6\n",
    "\n",
    "* What happens to the OLS estimator applied to this data?\n",
    "It does not recover the average treatment effect of $X$ on $Y$\n",
    "* Is that expected or unexpected?"
   ]
  },
  {
   "cell_type": "code",
   "execution_count": 40,
   "metadata": {},
   "outputs": [
    {
     "name": "stdout",
     "output_type": "stream",
     "text": [
      "                            OLS Regression Results                            \n",
      "==============================================================================\n",
      "Dep. Variable:                      y   R-squared:                       0.238\n",
      "Model:                            OLS   Adj. R-squared:                  0.238\n",
      "Method:                 Least Squares   F-statistic:                 3.115e+05\n",
      "Date:                Tue, 13 Nov 2018   Prob (F-statistic):               0.00\n",
      "Time:                        16:51:01   Log-Likelihood:            -1.4187e+06\n",
      "No. Observations:             1000000   AIC:                         2.837e+06\n",
      "Df Residuals:                  999998   BIC:                         2.837e+06\n",
      "Df Model:                           1                                         \n",
      "Covariance Type:            nonrobust                                         \n",
      "==============================================================================\n",
      "                 coef    std err          t      P>|t|      [0.025      0.975]\n",
      "------------------------------------------------------------------------------\n",
      "const          0.9415      0.001    668.668      0.000       0.939       0.944\n",
      "x1             1.1159      0.002    558.112      0.000       1.112       1.120\n",
      "==============================================================================\n",
      "Omnibus:                        0.764   Durbin-Watson:                   2.000\n",
      "Prob(Omnibus):                  0.682   Jarque-Bera (JB):                0.766\n",
      "Skew:                           0.002   Prob(JB):                        0.682\n",
      "Kurtosis:                       2.999   Cond. No.                         2.61\n",
      "==============================================================================\n",
      "\n",
      "Warnings:\n",
      "[1] Standard Errors assume that the covariance matrix of the errors is correctly specified.\n"
     ]
    }
   ],
   "source": [
    "y1 = (y*x).sum()/x.sum()\n",
    "y0 =  (y*(1-x)).sum()/(1-x).sum()\n",
    "\n",
    "y1 - y0\n",
    "\n",
    "model = sm.OLS(y, sm.add_constant(x))\n",
    "model = model.fit()\n",
    "print model.summary()"
   ]
  },
  {
   "cell_type": "markdown",
   "metadata": {},
   "source": [
    "### Part 7\n",
    "\n",
    "Using the IV estimator is much closer"
   ]
  },
  {
   "cell_type": "code",
   "execution_count": 41,
   "metadata": {},
   "outputs": [
    {
     "name": "stdout",
     "output_type": "stream",
     "text": [
      "1.0006466148033146\n",
      "                          IV2SLS Regression Results                           \n",
      "==============================================================================\n",
      "Dep. Variable:                      y   R-squared:                       0.235\n",
      "Model:                         IV2SLS   Adj. R-squared:                  0.235\n",
      "Method:                     Two Stage   F-statistic:                 8.191e+04\n",
      "                        Least Squares   Prob (F-statistic):               0.00\n",
      "Date:                Tue, 13 Nov 2018                                         \n",
      "Time:                        16:52:17                                         \n",
      "No. Observations:             1000000                                         \n",
      "Df Residuals:                  999998                                         \n",
      "Df Model:                           1                                         \n",
      "==============================================================================\n",
      "                 coef    std err          t      P>|t|      [0.025      0.975]\n",
      "------------------------------------------------------------------------------\n",
      "const          0.9987      0.002    498.807      0.000       0.995       1.003\n",
      "x1             1.0006      0.003    286.206      0.000       0.994       1.007\n",
      "==============================================================================\n",
      "Omnibus:                        1.052   Durbin-Watson:                   2.000\n",
      "Prob(Omnibus):                  0.591   Jarque-Bera (JB):                1.053\n",
      "Skew:                           0.002   Prob(JB):                        0.591\n",
      "Kurtosis:                       2.999   Cond. No.                         2.61\n",
      "==============================================================================\n"
     ]
    }
   ],
   "source": [
    "y1 = (y*z).sum()/z.sum()\n",
    "y0 =  (y*(1-z)).sum()/(1-z).sum()\n",
    "\n",
    "x1 = (x*z).sum()/z.sum()\n",
    "x0 =  (x*(1-z)).sum()/(1-z).sum()\n",
    "\n",
    "print (y1 - y0)/(x1 - x0)\n",
    "\n",
    "\n",
    "model =  IV2SLS(y, sm.add_constant(x), sm.add_constant(z))\n",
    "model = model.fit()\n",
    "print model.summary()"
   ]
  },
  {
   "cell_type": "markdown",
   "metadata": {},
   "source": [
    "### Part 8 \n",
    "\n",
    "\n",
    "* If $x_i = 1$, and $z_i = 1$ (compliers) then $\\epsilon_{xj} > -\\beta_{0x} - \\beta_{1x}$\n",
    "* If $x_i = 0$, and $z_i = 1$ (never takers) then $\\epsilon_{xj} \\leq -\\beta_{0x} - \\beta_{1x}$\n",
    "* If $x_i = 1$, and $z_i = 0$ (defiers) then $\\epsilon_{xj} > -\\beta_{0x} $\n",
    "* If $x_i = 0$, and $z_i = 0$ (never takers) then $\\epsilon_{xj} \\leq -\\beta_{0x} $\n",
    "\n",
    "\n",
    "### Part 9 \n",
    "\n",
    "Above we can see that defiers have $\\epsilon_{xj} \\leq -\\beta_{0x} + \\beta_{1x}$\n",
    "When  $min(\\epsilon_{xj}) > -\\beta_{0x} + \\beta_{1x}$, we have no defiers\n",
    "\n",
    "### Part 10"
   ]
  },
  {
   "cell_type": "code",
   "execution_count": 9,
   "metadata": {},
   "outputs": [
    {
     "name": "stdout",
     "output_type": "stream",
     "text": [
      "compliers: 0.279964\n",
      "never takers: 0.019956\n",
      "defiers: 0.215909\n",
      "never takers: 0.484171\n"
     ]
    }
   ],
   "source": [
    "c = (x*z).sum()/N \n",
    "print 'compliers: %s'%c\n",
    "\n",
    "d = ((1-x)*z).sum()/N\n",
    "print 'never takers: %s'%d\n",
    "\n",
    "a =   (x*(1-z)).sum()/N\n",
    "print 'defiers: %s'%a\n",
    "\n",
    "n= ((1-x)*(1-z)).sum()/N\n",
    "print 'never takers: %s'%n\n"
   ]
  },
  {
   "cell_type": "markdown",
   "metadata": {},
   "source": [
    "### Part 11"
   ]
  },
  {
   "cell_type": "code",
   "execution_count": 10,
   "metadata": {},
   "outputs": [
    {
     "name": "stdout",
     "output_type": "stream",
     "text": [
      "1.0940596057485483\n"
     ]
    }
   ],
   "source": [
    "c = ( ex > - beta_0x -  beta_1x ).astype(np.float) \n",
    "\n",
    "x1c = x*c #x is 1 and a complier\n",
    "x0c = (1-x)*c #x is 0 and a complier\n",
    "\n",
    "\n",
    "y1c = (y*x1c).sum()/x1c.sum()\n",
    "y0c =  (y*x0c).sum()/x0c.sum()\n",
    "\n",
    "print y1c - y0c"
   ]
  },
  {
   "cell_type": "markdown",
   "metadata": {},
   "source": [
    "### Part 12 \n",
    "\n",
    "The average treatment effect is the LATE. The IV estimate is not the LATE\n",
    "\n",
    "### Part 13\n",
    "\n",
    "Since $\\beta_{1jy} =1$ for all $j$, the treatment effect and the local average treatment effect should be the same. Everyone has the same treatment effect essentially. As a result, it is unclear how to interpret the IV estimate\n",
    "\n",
    "### Part 14"
   ]
  },
  {
   "cell_type": "code",
   "execution_count": 18,
   "metadata": {},
   "outputs": [],
   "source": [
    "beta_1jy = np.random.normal(1, 1, size = N)\n",
    "\n",
    "yj = beta_0y + beta_1jy*x + ey"
   ]
  },
  {
   "cell_type": "markdown",
   "metadata": {},
   "source": [
    "### Part 15\n",
    "\n",
    "\n",
    "$E(y(1) -y(0)) = E(\\beta_{0y} + \\beta_{1jy} + \\epsilon_{yj} |x=1 ) - E(\\beta_{0y} + \\epsilon_{yj} | x_j=0 ) =  E(\\beta_{1jy} + \\epsilon_{yj}|x_j = 1) -E(\\epsilon_{yj}|x_j=0) $\n",
    "\n",
    "### Part 16\n",
    "\n",
    "Yes it does, this is expected because the individual coefficient was independent from the data"
   ]
  },
  {
   "cell_type": "code",
   "execution_count": 43,
   "metadata": {},
   "outputs": [
    {
     "name": "stdout",
     "output_type": "stream",
     "text": [
      "1.1188063193204991\n",
      "                            OLS Regression Results                            \n",
      "==============================================================================\n",
      "Dep. Variable:                      y   R-squared:                       0.173\n",
      "Model:                            OLS   Adj. R-squared:                  0.173\n",
      "Method:                 Least Squares   F-statistic:                 2.093e+05\n",
      "Date:                Tue, 13 Nov 2018   Prob (F-statistic):               0.00\n",
      "Time:                        16:56:05   Log-Likelihood:            -1.6199e+06\n",
      "No. Observations:             1000000   AIC:                         3.240e+06\n",
      "Df Residuals:                  999998   BIC:                         3.240e+06\n",
      "Df Model:                           1                                         \n",
      "Covariance Type:            nonrobust                                         \n",
      "==============================================================================\n",
      "                 coef    std err          t      P>|t|      [0.025      0.975]\n",
      "------------------------------------------------------------------------------\n",
      "const          0.9415      0.002    546.760      0.000       0.938       0.945\n",
      "x1             1.1188      0.002    457.530      0.000       1.114       1.124\n",
      "==============================================================================\n",
      "Omnibus:                     3231.102   Durbin-Watson:                   2.003\n",
      "Prob(Omnibus):                  0.000   Jarque-Bera (JB):             4326.007\n",
      "Skew:                           0.002   Prob(JB):                         0.00\n",
      "Kurtosis:                       3.322   Cond. No.                         2.61\n",
      "==============================================================================\n",
      "\n",
      "Warnings:\n",
      "[1] Standard Errors assume that the covariance matrix of the errors is correctly specified.\n"
     ]
    }
   ],
   "source": [
    "yj1 = (yj*x).sum()/x.sum()\n",
    "yj0 =  (yj*(1-x)).sum()/(1-x).sum()\n",
    "\n",
    "print yj1 - yj0\n",
    "\n",
    "model = sm.OLS(yj, sm.add_constant(x))\n",
    "model = model.fit()\n",
    "print model.summary()"
   ]
  },
  {
   "cell_type": "markdown",
   "metadata": {},
   "source": [
    "### Part 17"
   ]
  },
  {
   "cell_type": "code",
   "execution_count": 44,
   "metadata": {},
   "outputs": [
    {
     "name": "stdout",
     "output_type": "stream",
     "text": [
      "1.0057087091703603\n",
      "                          IV2SLS Regression Results                           \n",
      "==============================================================================\n",
      "Dep. Variable:                      y   R-squared:                       0.171\n",
      "Model:                         IV2SLS   Adj. R-squared:                  0.171\n",
      "Method:                     Two Stage   F-statistic:                 5.539e+04\n",
      "                        Least Squares   Prob (F-statistic):               0.00\n",
      "Date:                Tue, 13 Nov 2018                                         \n",
      "Time:                        16:56:49                                         \n",
      "No. Observations:             1000000                                         \n",
      "Df Residuals:                  999998                                         \n",
      "Df Model:                           1                                         \n",
      "==============================================================================\n",
      "                 coef    std err          t      P>|t|      [0.025      0.975]\n",
      "------------------------------------------------------------------------------\n",
      "const          0.9976      0.002    407.662      0.000       0.993       1.002\n",
      "x1             1.0057      0.004    235.349      0.000       0.997       1.014\n",
      "==============================================================================\n",
      "Omnibus:                     3605.959   Durbin-Watson:                   2.003\n",
      "Prob(Omnibus):                  0.000   Jarque-Bera (JB):             4691.119\n",
      "Skew:                           0.049   Prob(JB):                         0.00\n",
      "Kurtosis:                       3.321   Cond. No.                         2.61\n",
      "==============================================================================\n"
     ]
    }
   ],
   "source": [
    "yj1 = (yj*z).sum()/z.sum()\n",
    "yj0 =  (yj*(1-z)).sum()/(1-z).sum()\n",
    "\n",
    "x1 = (x*z).sum()/z.sum()\n",
    "x0 =  (x*(1-z)).sum()/(1-z).sum()\n",
    "\n",
    "print (yj1 - yj0)/(x1 - x0)\n",
    "\n",
    "model =  IV2SLS(yj, sm.add_constant(x), sm.add_constant(z))\n",
    "model = model.fit()\n",
    "print model.summary()"
   ]
  },
  {
   "cell_type": "markdown",
   "metadata": {},
   "source": [
    "### Part 18\n",
    "\n",
    "They do not. The coefficient is random, but it does not depend on $\\epsilon_x$ or $\\epsilon_y$\n",
    "\n",
    "### Part 19"
   ]
  },
  {
   "cell_type": "code",
   "execution_count": 21,
   "metadata": {},
   "outputs": [
    {
     "name": "stdout",
     "output_type": "stream",
     "text": [
      "1.096921552257902\n"
     ]
    }
   ],
   "source": [
    "yj1c = (yj*x1c).sum()/x1c.sum()\n",
    "yj0c =  (yj*x0c).sum()/x0c.sum()\n",
    "\n",
    "print yj1c - yj0c"
   ]
  },
  {
   "cell_type": "markdown",
   "metadata": {},
   "source": [
    "### Part 20\n",
    "* 19 and 15 are roughly the same\n",
    "* The IV estimate is not the local average treatment effect\n",
    "\n",
    "### Part 21\n",
    "The local average treatment effect is the average treatment effect\n",
    "### Part 22"
   ]
  },
  {
   "cell_type": "code",
   "execution_count": 35,
   "metadata": {},
   "outputs": [],
   "source": [
    "beta_1iy = np.random.normal(1 + ex, 1, size = N)\n",
    "\n",
    "yi = beta_0y + beta_1iy*x + ey"
   ]
  },
  {
   "cell_type": "markdown",
   "metadata": {},
   "source": [
    "### Part 23\n",
    "The average treatment effect increases"
   ]
  },
  {
   "cell_type": "markdown",
   "metadata": {},
   "source": [
    "### Part 24\n",
    "Below we calculate the OLS estimator based on the numerical simulation"
   ]
  },
  {
   "cell_type": "code",
   "execution_count": 48,
   "metadata": {},
   "outputs": [
    {
     "name": "stdout",
     "output_type": "stream",
     "text": [
      "1.6918891102800409\n",
      "                            OLS Regression Results                            \n",
      "==============================================================================\n",
      "Dep. Variable:                      y   R-squared:                       0.266\n",
      "Model:                            OLS   Adj. R-squared:                  0.266\n",
      "Method:                 Least Squares   F-statistic:                 3.631e+05\n",
      "Date:                Tue, 13 Nov 2018   Prob (F-statistic):               0.00\n",
      "Time:                        16:58:13   Log-Likelihood:            -1.7581e+06\n",
      "No. Observations:             1000000   AIC:                         3.516e+06\n",
      "Df Residuals:                  999998   BIC:                         3.516e+06\n",
      "Df Model:                           1                                         \n",
      "Covariance Type:            nonrobust                                         \n",
      "==============================================================================\n",
      "                 coef    std err          t      P>|t|      [0.025      0.975]\n",
      "------------------------------------------------------------------------------\n",
      "const          0.9415      0.002    476.207      0.000       0.938       0.945\n",
      "x1             1.6919      0.003    602.609      0.000       1.686       1.697\n",
      "==============================================================================\n",
      "Omnibus:                    11817.921   Durbin-Watson:                   1.998\n",
      "Prob(Omnibus):                  0.000   Jarque-Bera (JB):            21029.309\n",
      "Skew:                          -0.028   Prob(JB):                         0.00\n",
      "Kurtosis:                       3.708   Cond. No.                         2.61\n",
      "==============================================================================\n",
      "\n",
      "Warnings:\n",
      "[1] Standard Errors assume that the covariance matrix of the errors is correctly specified.\n"
     ]
    }
   ],
   "source": [
    "yi1 = (yi*x).sum()/x.sum()\n",
    "yi0 =  (yi*(1-x)).sum()/(1-x).sum()\n",
    "\n",
    "print yi1 - yi0\n",
    "\n",
    "model = sm.OLS(yi, sm.add_constant(x))\n",
    "model = model.fit()\n",
    "print model.summary()"
   ]
  },
  {
   "cell_type": "markdown",
   "metadata": {},
   "source": [
    "### Part 25"
   ]
  },
  {
   "cell_type": "code",
   "execution_count": 46,
   "metadata": {},
   "outputs": [
    {
     "name": "stdout",
     "output_type": "stream",
     "text": [
      "0.6419121526807274\n",
      "                          IV2SLS Regression Results                           \n",
      "==============================================================================\n",
      "Dep. Variable:                      y   R-squared:                       0.164\n",
      "Model:                         IV2SLS   Adj. R-squared:                  0.164\n",
      "Method:                     Two Stage   F-statistic:                 1.505e+04\n",
      "                        Least Squares   Prob (F-statistic):               0.00\n",
      "Date:                Tue, 13 Nov 2018                                         \n",
      "Time:                        16:57:53                                         \n",
      "No. Observations:             1000000                                         \n",
      "Df Residuals:                  999998                                         \n",
      "Df Model:                           1                                         \n",
      "==============================================================================\n",
      "                 coef    std err          t      P>|t|      [0.025      0.975]\n",
      "------------------------------------------------------------------------------\n",
      "const          1.4621      0.003    487.960      0.000       1.456       1.468\n",
      "x1             0.6419      0.005    122.675      0.000       0.632       0.652\n",
      "==============================================================================\n",
      "Omnibus:                    35596.715   Durbin-Watson:                   1.998\n",
      "Prob(Omnibus):                  0.000   Jarque-Bera (JB):            41626.228\n",
      "Skew:                           0.437   Prob(JB):                         0.00\n",
      "Kurtosis:                       3.487   Cond. No.                         2.61\n",
      "==============================================================================\n"
     ]
    }
   ],
   "source": [
    "yi1 = (yi*z).sum()/z.sum()\n",
    "yi0 =  (yi*(1-z)).sum()/(1-z).sum()\n",
    "\n",
    "x1 = (x*z).sum()/z.sum()\n",
    "x0 =  (x*(1-z)).sum()/(1-z).sum()\n",
    "\n",
    "print (yi1 - yi0)/(x1 - x0)\n",
    "\n",
    "model =  IV2SLS(yi, sm.add_constant(x), sm.add_constant(z))\n",
    "model = model.fit()\n",
    "print model.summary()"
   ]
  },
  {
   "cell_type": "markdown",
   "metadata": {},
   "source": [
    "### Part 26\n",
    "\n",
    "They increase"
   ]
  },
  {
   "cell_type": "markdown",
   "metadata": {},
   "source": [
    "### Part 27"
   ]
  },
  {
   "cell_type": "code",
   "execution_count": 38,
   "metadata": {},
   "outputs": [
    {
     "name": "stdout",
     "output_type": "stream",
     "text": [
      "1.6700043432174438\n"
     ]
    }
   ],
   "source": [
    "yi1c = (yi*x1c).sum()/x1c.sum()\n",
    "yi0c =  (yi*x0c).sum()/x0c.sum()\n",
    "\n",
    "print yi1c - yi0c"
   ]
  },
  {
   "cell_type": "markdown",
   "metadata": {},
   "source": [
    "### Part 28\n",
    "\n",
    "It is the same"
   ]
  },
  {
   "cell_type": "code",
   "execution_count": null,
   "metadata": {},
   "outputs": [],
   "source": []
  }
 ],
 "metadata": {
  "kernelspec": {
   "display_name": "Python 2",
   "language": "python",
   "name": "python2"
  },
  "language_info": {
   "codemirror_mode": {
    "name": "ipython",
    "version": 2
   },
   "file_extension": ".py",
   "mimetype": "text/x-python",
   "name": "python",
   "nbconvert_exporter": "python",
   "pygments_lexer": "ipython2",
   "version": "2.7.15"
  }
 },
 "nbformat": 4,
 "nbformat_minor": 2
}
