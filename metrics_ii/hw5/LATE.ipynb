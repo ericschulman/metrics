{
 "cells": [
  {
   "cell_type": "markdown",
   "metadata": {},
   "source": [
    "# Econometrics II: Homework 5\n",
    "## Eric Schulman\n",
    "## November 15, 2018"
   ]
  },
  {
   "cell_type": "code",
   "execution_count": 1,
   "metadata": {},
   "outputs": [],
   "source": [
    "import pandas as pd\n",
    "import numpy as np\n",
    "import math\n",
    "\n",
    "import statsmodels.api as sm\n",
    "from statsmodels.sandbox.regression.gmm import IV2SLS"
   ]
  },
  {
   "cell_type": "markdown",
   "metadata": {},
   "source": [
    "### Part 1 - Part 4"
   ]
  },
  {
   "cell_type": "code",
   "execution_count": 2,
   "metadata": {},
   "outputs": [],
   "source": [
    "sigma = .1\n",
    "var = [[1, sigma ], [sigma , 1]]\n",
    "mean = [0., 0.]\n",
    "N = int(1e6)\n",
    "\n",
    "ey, ex = np.random.multivariate_normal(mean, var, size = N).transpose()"
   ]
  },
  {
   "cell_type": "code",
   "execution_count": 3,
   "metadata": {},
   "outputs": [],
   "source": [
    "pz = .3\n",
    "\n",
    "z = np.random.binomial(1,pz,N).astype(np.float)"
   ]
  },
  {
   "cell_type": "code",
   "execution_count": 4,
   "metadata": {},
   "outputs": [],
   "source": [
    "beta_0x = -.5\n",
    "beta_1x = 2\n",
    "\n",
    "x = (beta_0x + beta_1x*z + ex > 0).astype(np.float) "
   ]
  },
  {
   "cell_type": "code",
   "execution_count": 5,
   "metadata": {},
   "outputs": [],
   "source": [
    "beta_0y = 1\n",
    "beta_1y = 1\n",
    "\n",
    "y = beta_0y + beta_1y*x + ey"
   ]
  },
  {
   "cell_type": "markdown",
   "metadata": {},
   "source": [
    "### Part 5\n",
    "\n",
    "$$E(y(1) -y(0)) = $$\n",
    "$$E( (\\beta_{0y} + \\beta_{1jy} + \\epsilon_{yj}) - (\\beta_{0y} + \\epsilon_{yj}) ) =$$\n",
    "$$E(\\beta_{1jy}) = \\beta_{1y} = 1$$\n",
    "\n",
    "### Part 6\n",
    "\n",
    "* What happens to the OLS estimator applied to this data?\n",
    "\n",
    "OLS is biased upward.\n",
    "\n",
    "* Is that expected or unexpected?\n",
    "\n",
    "This is expected since treatment is endogenously determined."
   ]
  },
  {
   "cell_type": "code",
   "execution_count": 6,
   "metadata": {},
   "outputs": [
    {
     "name": "stdout",
     "output_type": "stream",
     "text": [
      "                            OLS Regression Results                            \n",
      "==============================================================================\n",
      "Dep. Variable:                      y   R-squared:                       0.238\n",
      "Model:                            OLS   Adj. R-squared:                  0.238\n",
      "Method:                 Least Squares   F-statistic:                 3.124e+05\n",
      "Date:                Wed, 14 Nov 2018   Prob (F-statistic):               0.00\n",
      "Time:                        14:22:22   Log-Likelihood:            -1.4162e+06\n",
      "No. Observations:             1000000   AIC:                         2.832e+06\n",
      "Df Residuals:                  999998   BIC:                         2.832e+06\n",
      "Df Model:                           1                                         \n",
      "Covariance Type:            nonrobust                                         \n",
      "==============================================================================\n",
      "                 coef    std err          t      P>|t|      [0.025      0.975]\n",
      "------------------------------------------------------------------------------\n",
      "const          0.9447      0.001    672.935      0.000       0.942       0.947\n",
      "x1             1.1149      0.002    558.952      0.000       1.111       1.119\n",
      "==============================================================================\n",
      "Omnibus:                        6.145   Durbin-Watson:                   1.996\n",
      "Prob(Omnibus):                  0.046   Jarque-Bera (JB):                6.142\n",
      "Skew:                          -0.006   Prob(JB):                       0.0464\n",
      "Kurtosis:                       3.004   Cond. No.                         2.61\n",
      "==============================================================================\n",
      "\n",
      "Warnings:\n",
      "[1] Standard Errors assume that the covariance matrix of the errors is correctly specified.\n"
     ]
    }
   ],
   "source": [
    "model = sm.OLS(y, sm.add_constant(x))\n",
    "model = model.fit()\n",
    "print model.summary()"
   ]
  },
  {
   "cell_type": "markdown",
   "metadata": {},
   "source": [
    "### Part 7\n",
    "\n",
    "Using the IV estimator recovers the average treatment effect."
   ]
  },
  {
   "cell_type": "code",
   "execution_count": 7,
   "metadata": {},
   "outputs": [
    {
     "name": "stdout",
     "output_type": "stream",
     "text": [
      "                          IV2SLS Regression Results                           \n",
      "==============================================================================\n",
      "Dep. Variable:                      y   R-squared:                       0.236\n",
      "Model:                         IV2SLS   Adj. R-squared:                  0.236\n",
      "Method:                     Two Stage   F-statistic:                 8.245e+04\n",
      "                        Least Squares   Prob (F-statistic):               0.00\n",
      "Date:                Wed, 14 Nov 2018                                         \n",
      "Time:                        14:22:24                                         \n",
      "No. Observations:             1000000                                         \n",
      "Df Residuals:                  999998                                         \n",
      "Df Model:                           1                                         \n",
      "==============================================================================\n",
      "                 coef    std err          t      P>|t|      [0.025      0.975]\n",
      "------------------------------------------------------------------------------\n",
      "const          1.0006      0.002    501.236      0.000       0.997       1.005\n",
      "x1             1.0020      0.003    287.140      0.000       0.995       1.009\n",
      "==============================================================================\n",
      "Omnibus:                        5.504   Durbin-Watson:                   1.996\n",
      "Prob(Omnibus):                  0.064   Jarque-Bera (JB):                5.500\n",
      "Skew:                          -0.005   Prob(JB):                       0.0639\n",
      "Kurtosis:                       3.003   Cond. No.                         2.61\n",
      "==============================================================================\n"
     ]
    }
   ],
   "source": [
    "model =  IV2SLS(y, sm.add_constant(x), sm.add_constant(z))\n",
    "model = model.fit()\n",
    "print model.summary()"
   ]
  },
  {
   "cell_type": "markdown",
   "metadata": {},
   "source": [
    "### Part 8 \n",
    "\n",
    "\n",
    "* They are **compliers**:\n",
    "    \n",
    "    If $x_i = 1, z_i = 1$ and $x_i = 0, z_i = 0$ \n",
    "    \n",
    "    Thus, $-\\beta_{0x} > \\epsilon_{xj} > -\\beta_{0x} - \\beta_{1x}$\n",
    "\n",
    "*  They are **defiers**:\n",
    "    \n",
    "    If $x_i = 0, z_i = 1$ and $x_i = 1, z_i = 0$  \n",
    "    \n",
    "    Thus, $\\epsilon_{xj} \\leq -\\beta_{0x} - \n",
    "\\beta_{1x}$ and $\\epsilon_{xj} > - \\beta_{1x}$ \n",
    "\n",
    "* They are never **takers**:\n",
    "    \n",
    "    If $x_i = 0, z_i = 0$ and $x_i = 0, z_i = 1$ \n",
    "    \n",
    "    Thus, $\\epsilon_{xj} > -\\beta_{0x} $\n",
    "\n",
    "* They are **always takers**:\n",
    "    \n",
    "    If $x_i = 1, z_i = 0$ and $x_i = 1, z_i = 0$\n",
    "    \n",
    "    Thus, $\\epsilon_{xj} \\leq -\\beta_{0x} - \\beta_{1x}$\n",
    "\n",
    "\n",
    "### Part 9 \n",
    "\n",
    "Above we can see that defiers have $\\epsilon_{xj} \\leq -\\beta_{0x} - \\beta_{1x}$ and $\\epsilon_{xj} > - \\beta_{1x}$ \n",
    "\n",
    "When   $\\beta_{0x} < \\beta_{0x} + \\beta_{1x}$ we have no defiers because this set is empty. This is essentially a monotone treatment selection assumptions. Essentially, getting the insturment makes you more likely to get treated.\n",
    "\n",
    "### Part 10"
   ]
  },
  {
   "cell_type": "code",
   "execution_count": 8,
   "metadata": {},
   "outputs": [
    {
     "name": "stdout",
     "output_type": "stream",
     "text": [
      "compliers: 0.624664\n",
      "defiers: 0.0\n",
      "always takers: 0.308394\n",
      "never takers: 0.066942\n"
     ]
    }
   ],
   "source": [
    "c = ( (- beta_0x > ex) * (ex > - beta_0x -  beta_1x) ).astype(np.float) \n",
    "print 'compliers: %s'% (c.sum()/N)\n",
    "\n",
    "d = ( (- beta_0x  < ex) * (ex < - beta_0x -  beta_1x) ).astype(np.float) \n",
    "print 'defiers: %s'%(d.sum()/N)\n",
    "\n",
    "a =   ( (- beta_0x < ex)  ).astype(np.float) \n",
    "print 'always takers: %s'%(a.sum()/N)\n",
    "\n",
    "n= ( (- beta_0x -  beta_1x > ex)  ).astype(np.float) \n",
    "print 'never takers: %s'%(n.sum()/N)\n"
   ]
  },
  {
   "cell_type": "markdown",
   "metadata": {},
   "source": [
    "### Part 11"
   ]
  },
  {
   "cell_type": "code",
   "execution_count": 9,
   "metadata": {},
   "outputs": [
    {
     "name": "stdout",
     "output_type": "stream",
     "text": [
      "LATE: 1.0001576378184347\n"
     ]
    }
   ],
   "source": [
    "x1c = x*c #x is 1 and a complier\n",
    "x0c = (1-x)*c #x is 0 and a complier\n",
    "\n",
    "\n",
    "y1c = (y*x1c).sum()/x1c.sum()\n",
    "y0c =  (y*x0c).sum()/x0c.sum()\n",
    "\n",
    "print 'LATE: %s'%(y1c - y0c)"
   ]
  },
  {
   "cell_type": "markdown",
   "metadata": {},
   "source": [
    "### Part 12 \n",
    "\n",
    " The IV estimate is the LATE. The OLS estimator is not LATE.\n",
    "\n",
    "### Part 13\n",
    "\n",
    "Since $\\beta_{1jy} =1$ for all $j$, the treatment effect and the local average treatment effect should be the same. Everyone has the same treatment effect.\n",
    "\n",
    "### Part 14"
   ]
  },
  {
   "cell_type": "code",
   "execution_count": 10,
   "metadata": {},
   "outputs": [],
   "source": [
    "beta_1jy = np.random.normal(1, 1, size = N)\n",
    "\n",
    "yj = beta_0y + beta_1jy*x + ey"
   ]
  },
  {
   "cell_type": "markdown",
   "metadata": {},
   "source": [
    "### Part 15\n",
    "\n",
    "$$E(y(1) -y(0)) = $$\n",
    "$$E( (\\beta_{0y} + \\beta_{1jy} + \\epsilon_{yj}) - (\\beta_{0y} + \\epsilon_{yj}) ) =$$\n",
    "$$E(\\beta_{1jy}) = 1$$\n",
    "\n",
    "\n",
    "### Part 16\n",
    "\n",
    "It does not. The individual coefficient is independent from selection process. However, selection is still endogenously determined"
   ]
  },
  {
   "cell_type": "code",
   "execution_count": 11,
   "metadata": {},
   "outputs": [
    {
     "name": "stdout",
     "output_type": "stream",
     "text": [
      "                            OLS Regression Results                            \n",
      "==============================================================================\n",
      "Dep. Variable:                      y   R-squared:                       0.172\n",
      "Model:                            OLS   Adj. R-squared:                  0.172\n",
      "Method:                 Least Squares   F-statistic:                 2.080e+05\n",
      "Date:                Wed, 14 Nov 2018   Prob (F-statistic):               0.00\n",
      "Time:                        14:22:29   Log-Likelihood:            -1.6185e+06\n",
      "No. Observations:             1000000   AIC:                         3.237e+06\n",
      "Df Residuals:                  999998   BIC:                         3.237e+06\n",
      "Df Model:                           1                                         \n",
      "Covariance Type:            nonrobust                                         \n",
      "==============================================================================\n",
      "                 coef    std err          t      P>|t|      [0.025      0.975]\n",
      "------------------------------------------------------------------------------\n",
      "const          0.9447      0.002    549.669      0.000       0.941       0.948\n",
      "x1             1.1137      0.002    456.098      0.000       1.109       1.119\n",
      "==============================================================================\n",
      "Omnibus:                     3417.935   Durbin-Watson:                   1.998\n",
      "Prob(Omnibus):                  0.000   Jarque-Bera (JB):             4615.803\n",
      "Skew:                          -0.003   Prob(JB):                         0.00\n",
      "Kurtosis:                       3.333   Cond. No.                         2.61\n",
      "==============================================================================\n",
      "\n",
      "Warnings:\n",
      "[1] Standard Errors assume that the covariance matrix of the errors is correctly specified.\n"
     ]
    }
   ],
   "source": [
    "model = sm.OLS(yj, sm.add_constant(x))\n",
    "model = model.fit()\n",
    "print model.summary()"
   ]
  },
  {
   "cell_type": "markdown",
   "metadata": {},
   "source": [
    "### Part 17\n",
    "\n",
    "The IV estimator does recover the average treatment effect from question 15."
   ]
  },
  {
   "cell_type": "code",
   "execution_count": 12,
   "metadata": {},
   "outputs": [
    {
     "name": "stdout",
     "output_type": "stream",
     "text": [
      "                          IV2SLS Regression Results                           \n",
      "==============================================================================\n",
      "Dep. Variable:                      y   R-squared:                       0.171\n",
      "Model:                         IV2SLS   Adj. R-squared:                  0.171\n",
      "Method:                     Two Stage   F-statistic:                 5.567e+04\n",
      "                        Least Squares   Prob (F-statistic):               0.00\n",
      "Date:                Wed, 14 Nov 2018                                         \n",
      "Time:                        14:22:30                                         \n",
      "No. Observations:             1000000                                         \n",
      "Df Residuals:                  999998                                         \n",
      "Df Model:                           1                                         \n",
      "==============================================================================\n",
      "                 coef    std err          t      P>|t|      [0.025      0.975]\n",
      "------------------------------------------------------------------------------\n",
      "const          0.9974      0.002    408.377      0.000       0.993       1.002\n",
      "x1             1.0073      0.004    235.943      0.000       0.999       1.016\n",
      "==============================================================================\n",
      "Omnibus:                     3664.583   Durbin-Watson:                   1.998\n",
      "Prob(Omnibus):                  0.000   Jarque-Bera (JB):             4848.301\n",
      "Skew:                           0.041   Prob(JB):                         0.00\n",
      "Kurtosis:                       3.331   Cond. No.                         2.61\n",
      "==============================================================================\n"
     ]
    }
   ],
   "source": [
    "model =  IV2SLS(yj, sm.add_constant(x), sm.add_constant(z))\n",
    "model = model.fit()\n",
    "print model.summary()"
   ]
  },
  {
   "cell_type": "markdown",
   "metadata": {},
   "source": [
    "### Part 18\n",
    "\n",
    "They do not. The coefficient is random, but it does not depend on $\\epsilon_x$ or $\\epsilon_y$. Since selection into the treatment group is independent from the response to treatment, nothing changes.\n",
    "\n",
    "### Part 19"
   ]
  },
  {
   "cell_type": "code",
   "execution_count": 13,
   "metadata": {},
   "outputs": [
    {
     "name": "stdout",
     "output_type": "stream",
     "text": [
      "1.0019748933596002\n"
     ]
    }
   ],
   "source": [
    "yj1c = (yj*x1c).sum()/x1c.sum()\n",
    "yj0c =  (yj*x0c).sum()/x0c.sum()\n",
    "\n",
    "print yj1c - yj0c"
   ]
  },
  {
   "cell_type": "markdown",
   "metadata": {},
   "source": [
    "### Part 20\n",
    " 19 and 17 are roughly the same. 15 is biased upward due to selection\n",
    " \n",
    "### Part 21\n",
    "The local average treatment effect is the average treatment effect. This is because the average treatment effect is the same among all groups.\n",
    "### Part 22"
   ]
  },
  {
   "cell_type": "code",
   "execution_count": 14,
   "metadata": {},
   "outputs": [],
   "source": [
    "beta_1iy = np.random.normal(1 + ex, 1, size = N)\n",
    "\n",
    "yi = beta_0y + beta_1iy*x + ey"
   ]
  },
  {
   "cell_type": "markdown",
   "metadata": {},
   "source": [
    "### Part 23\n",
    "The average treatment effect increases. Because selection affects the treatment effect.\n",
    "\n",
    "$$E(y(1) -y(0)) = $$\n",
    "\n",
    "$$E( \\beta_{1jy}(1) - \\beta_{1jy}(0) )  = $$\n",
    "\n",
    "$$E( \\epsilon_{xj}(1) - \\epsilon_{xj}(0) ) =  $$\n",
    "\n",
    "\n",
    "$$E(\\epsilon_{xj}(1) |z_j =1 )Pr(z_j = 1) + E( \\epsilon_{xj}(1) | z_j = 0 )Pr(z_j = 0)  - E(\\epsilon_{xj}(0) | z_j=1)Pr(z_j=1) - E(\\epsilon_{xj}(0) | z_j=0)Pr(z_j=0)  = $$\n",
    "\n",
    "$$ [ E(\\epsilon_{xj}(1) |z_j =1 )Pr(z_j = 1) - E(\\epsilon_{xj}(0) | z_j=1) ]Pr(z_j=1) + [E( \\epsilon_{xj}(1) | z_j = 0 ) -  E(\\epsilon_{xj}(0) | z_j=0)]Pr(z_j=0)  $$\n",
    "\n",
    "Focusing on one of these terms one by one:\n",
    "\n",
    "$$ E( \\beta_{1jy}(1) | z_j = 0 ) = E(\\epsilon_{xj} | \\epsilon_{xj} > -\\beta_{1x} ) \\approx 1.141 $$\n",
    "\n",
    "$$ E(\\beta_{1jy}(0) |  z_j = 1 )  =  \\rho E(\\epsilon_{xj} | \\epsilon_{xj} < -\\beta_{0x} -\\beta_{1x} )  \\approx -1.939 $$\n",
    "\n",
    "$$ E( \\beta_{1jy}(1) | z_j = 1 ) =  \\rho E(\\epsilon_{xj} | \\epsilon_{xj} > -\\beta_{0x} -\\beta_{1x} )  \\approx .139 $$\n",
    "\n",
    "$$ E(\\beta_{1jy}(0) |  z_j = 0 )   =  \\rho E(\\epsilon_{xj} | \\epsilon_{xj} < -\\beta_{1x} )  \\approx -.509 $$\n",
    "\n",
    "\n",
    "\n",
    "Plugging in these terms we get, \n",
    "\n",
    "$$E(y(1) -y(0)) \\approx 1.779$$"
   ]
  },
  {
   "cell_type": "markdown",
   "metadata": {},
   "source": [
    "### Part 24\n",
    "Below we calculate the OLS estimator based on the numerical simulation. It does not recover the average treatment effect. We are biased downward"
   ]
  },
  {
   "cell_type": "code",
   "execution_count": 15,
   "metadata": {},
   "outputs": [
    {
     "name": "stdout",
     "output_type": "stream",
     "text": [
      "                            OLS Regression Results                            \n",
      "==============================================================================\n",
      "Dep. Variable:                      y   R-squared:                       0.267\n",
      "Model:                            OLS   Adj. R-squared:                  0.267\n",
      "Method:                 Least Squares   F-statistic:                 3.640e+05\n",
      "Date:                Wed, 14 Nov 2018   Prob (F-statistic):               0.00\n",
      "Time:                        14:22:37   Log-Likelihood:            -1.7577e+06\n",
      "No. Observations:             1000000   AIC:                         3.515e+06\n",
      "Df Residuals:                  999998   BIC:                         3.515e+06\n",
      "Df Model:                           1                                         \n",
      "Covariance Type:            nonrobust                                         \n",
      "==============================================================================\n",
      "                 coef    std err          t      P>|t|      [0.025      0.975]\n",
      "------------------------------------------------------------------------------\n",
      "const          0.9447      0.002    478.275      0.000       0.941       0.949\n",
      "x1             1.6931      0.003    603.293      0.000       1.688       1.699\n",
      "==============================================================================\n",
      "Omnibus:                    12237.483   Durbin-Watson:                   1.997\n",
      "Prob(Omnibus):                  0.000   Jarque-Bera (JB):            21981.436\n",
      "Skew:                          -0.032   Prob(JB):                         0.00\n",
      "Kurtosis:                       3.724   Cond. No.                         2.61\n",
      "==============================================================================\n",
      "\n",
      "Warnings:\n",
      "[1] Standard Errors assume that the covariance matrix of the errors is correctly specified.\n"
     ]
    }
   ],
   "source": [
    "model = sm.OLS(yi, sm.add_constant(x))\n",
    "model = model.fit()\n",
    "print model.summary()"
   ]
  },
  {
   "cell_type": "markdown",
   "metadata": {},
   "source": [
    "### Part 25\n",
    "\n",
    "Because of the heterogeneity, we do not recover the average treatment effect"
   ]
  },
  {
   "cell_type": "code",
   "execution_count": 16,
   "metadata": {},
   "outputs": [
    {
     "name": "stdout",
     "output_type": "stream",
     "text": [
      "                          IV2SLS Regression Results                           \n",
      "==============================================================================\n",
      "Dep. Variable:                      y   R-squared:                       0.165\n",
      "Model:                         IV2SLS   Adj. R-squared:                  0.165\n",
      "Method:                     Two Stage   F-statistic:                 1.526e+04\n",
      "                        Least Squares   Prob (F-statistic):               0.00\n",
      "Date:                Wed, 14 Nov 2018                                         \n",
      "Time:                        14:22:40                                         \n",
      "No. Observations:             1000000                                         \n",
      "Df Residuals:                  999998                                         \n",
      "Df Model:                           1                                         \n",
      "==============================================================================\n",
      "                 coef    std err          t      P>|t|      [0.025      0.975]\n",
      "------------------------------------------------------------------------------\n",
      "const          1.4632      0.003    488.868      0.000       1.457       1.469\n",
      "x1             0.6463      0.005    123.528      0.000       0.636       0.657\n",
      "==============================================================================\n",
      "Omnibus:                    35680.689   Durbin-Watson:                   1.999\n",
      "Prob(Omnibus):                  0.000   Jarque-Bera (JB):            41908.327\n",
      "Skew:                           0.435   Prob(JB):                         0.00\n",
      "Kurtosis:                       3.499   Cond. No.                         2.61\n",
      "==============================================================================\n"
     ]
    }
   ],
   "source": [
    "model =  IV2SLS(yi, sm.add_constant(x), sm.add_constant(z))\n",
    "model = model.fit()\n",
    "print model.summary()"
   ]
  },
  {
   "cell_type": "markdown",
   "metadata": {},
   "source": [
    "### Part 26\n",
    "\n",
    "The average treatment effect increases. The IV estimate decreases. Neither actually recover the average treatment effect. The IV estimate is just the LATE."
   ]
  },
  {
   "cell_type": "markdown",
   "metadata": {},
   "source": [
    "### Part 27\n",
    "\n",
    "The LATE is estimated by the IV as we can see below"
   ]
  },
  {
   "cell_type": "code",
   "execution_count": 17,
   "metadata": {},
   "outputs": [
    {
     "name": "stdout",
     "output_type": "stream",
     "text": [
      "0.6447214147103048\n"
     ]
    }
   ],
   "source": [
    "yi1c = (yi*x1c).sum()/x1c.sum()\n",
    "yi0c =  (yi*x0c).sum()/x0c.sum()\n",
    "\n",
    "print yi1c - yi0c"
   ]
  },
  {
   "cell_type": "markdown",
   "metadata": {},
   "source": [
    "### Part 28\n",
    "\n",
    "The IV estimate is the same as the LATE. It is different from the OLS estimate though"
   ]
  },
  {
   "cell_type": "code",
   "execution_count": null,
   "metadata": {},
   "outputs": [],
   "source": []
  }
 ],
 "metadata": {
  "kernelspec": {
   "display_name": "Python 2",
   "language": "python",
   "name": "python2"
  },
  "language_info": {
   "codemirror_mode": {
    "name": "ipython",
    "version": 2
   },
   "file_extension": ".py",
   "mimetype": "text/x-python",
   "name": "python",
   "nbconvert_exporter": "python",
   "pygments_lexer": "ipython2",
   "version": "2.7.15"
  }
 },
 "nbformat": 4,
 "nbformat_minor": 2
}
