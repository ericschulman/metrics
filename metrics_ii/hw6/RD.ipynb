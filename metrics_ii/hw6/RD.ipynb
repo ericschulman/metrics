{
 "cells": [
  {
   "cell_type": "markdown",
   "metadata": {},
   "source": [
    "# Econometrics II: Homework 5\n",
    "## Eric Schulman\n",
    "## November 27, 2018"
   ]
  },
  {
   "cell_type": "code",
   "execution_count": 1,
   "metadata": {},
   "outputs": [],
   "source": [
    "import pandas as pd\n",
    "import numpy as np\n",
    "import math\n",
    "\n",
    "import statsmodels.api as sm"
   ]
  },
  {
   "cell_type": "markdown",
   "metadata": {},
   "source": [
    "### Part 1 - Part 5"
   ]
  },
  {
   "cell_type": "code",
   "execution_count": 9,
   "metadata": {},
   "outputs": [],
   "source": [
    "N = 1000000\n",
    "\n",
    "#part 1 - I don't like STATA\n",
    "\n",
    "#part 2 - set up error\n",
    "e = np.random.normal(0,1 ,size = N)\n",
    "\n",
    "#part 3 - set up running variable\n",
    "z = np.random.uniform(low=0., high=100., size= N)\n",
    "\n",
    "#part 4 -set up cut off and X\n",
    "C = 70\n",
    "x = (z>C).astype(np.float)\n",
    "\n",
    "#part 5 - set up y\n",
    "beta = 3\n",
    "y = beta*x + e"
   ]
  },
  {
   "cell_type": "markdown",
   "metadata": {},
   "source": [
    "### Part 6\n",
    "\n",
    "$$E(y(1) - y(0)) = E(\\beta_j) = 3$$\n",
    "\n",
    "\n",
    "### Part 7\n",
    "\n",
    "$$E(y(1) - y(0) | Z = 70) = E(\\beta_j | Z = 70) = \\beta_j $$\n",
    "\n",
    "### Part 8\n",
    "\n",
    "A quick implementation of formula **21.101** in Wooldridge\n",
    "\n",
    "$$y = \\mu_{0c} + \\tau_c w + \\beta_0 (x-c) + \\delta w \\cdot(x-c) +r$$"
   ]
  },
  {
   "cell_type": "code",
   "execution_count": 16,
   "metadata": {},
   "outputs": [
    {
     "name": "stdout",
     "output_type": "stream",
     "text": [
      "(1000000, 4) (1000000,)\n",
      "                            OLS Regression Results                            \n",
      "==============================================================================\n",
      "Dep. Variable:                      y   R-squared:                       0.654\n",
      "Model:                            OLS   Adj. R-squared:                  0.654\n",
      "Method:                 Least Squares   F-statistic:                 6.292e+05\n",
      "Date:                Mon, 19 Nov 2018   Prob (F-statistic):               0.00\n",
      "Time:                        18:40:13   Log-Likelihood:            -1.4202e+06\n",
      "No. Observations:             1000000   AIC:                         2.841e+06\n",
      "Df Residuals:                  999996   BIC:                         2.841e+06\n",
      "Df Model:                           3                                         \n",
      "Covariance Type:            nonrobust                                         \n",
      "==============================================================================\n",
      "                 coef    std err          t      P>|t|      [0.025      0.975]\n",
      "------------------------------------------------------------------------------\n",
      "const          0.0005      0.002      0.206      0.837      -0.004       0.005\n",
      "x1             2.9988      0.004    686.436      0.000       2.990       3.007\n",
      "x2          9.619e-06   5.93e-05      0.162      0.871      -0.000       0.000\n",
      "x3             0.0001      0.000      0.610      0.542      -0.000       0.001\n",
      "==============================================================================\n",
      "Omnibus:                        0.536   Durbin-Watson:                   1.999\n",
      "Prob(Omnibus):                  0.765   Jarque-Bera (JB):                0.532\n",
      "Skew:                          -0.000   Prob(JB):                        0.766\n",
      "Kurtosis:                       3.004   Cond. No.                         162.\n",
      "==============================================================================\n",
      "\n",
      "Warnings:\n",
      "[1] Standard Errors assume that the covariance matrix of the errors is correctly specified.\n"
     ]
    }
   ],
   "source": [
    "def rd(y,x,c):\n",
    "    \"\"\"quick function to set up RD model\"\"\"\n",
    "    \n",
    "    #set up variable for RD\n",
    "    w = (x>c).astype(np.float)\n",
    "    \n",
    "    #set up X vector\n",
    "    X = np.array([w, x-c, w*(x-c)]).transpose()\n",
    "    X = sm.add_constant(X)\n",
    "    \n",
    "    print X.shape, y.shape\n",
    "    \n",
    "    #set up regression\n",
    "    model = sm.OLS(y,X)\n",
    "    \n",
    "    return model\n",
    "\n",
    "\n",
    "model = rd(y,z,C)\n",
    "model_fit = model.fit()\n",
    "print model_fit.summary()"
   ]
  },
  {
   "cell_type": "markdown",
   "metadata": {},
   "source": [
    "### Part 9\n",
    "They are the same, this is because the only thing that determines $y$ is $x$. The value of $z$ is indpedent from  $y$ given $x$.\n",
    "\n",
    "### Part 10"
   ]
  },
  {
   "cell_type": "code",
   "execution_count": 22,
   "metadata": {},
   "outputs": [],
   "source": [
    "beta_j =  np.random.normal((2.5 + z/100.), 1)\n",
    "yj = beta_j*x + e"
   ]
  },
  {
   "cell_type": "markdown",
   "metadata": {},
   "source": [
    "### Part 11\n",
    "\n",
    "$$E(y(1) - y(0)) = E(\\beta_j) = 2.5 + E(\\dfrac{Z}{100}) =  2.5 + .5 = 3.0$$\n",
    "\n",
    "\n",
    "### Part 12\n",
    "\n",
    "\n",
    "$$E(y(1) - y(0) | Z = 70) = E(\\beta_j | Z= 70)$$ \n",
    "\n",
    "$$= 2.5 + E(\\dfrac{Z}{100} | Z= 70) =  2.5 + .7 = 3.2$$\n",
    "\n",
    "### Part 13\n",
    "\n",
    "By estimating the average treatment effect using RD we see that being treated with $X$ increase $Y$ by 3.2. We know that this is the average treatment effect among those at the cut off as derived above."
   ]
  },
  {
   "cell_type": "code",
   "execution_count": 23,
   "metadata": {},
   "outputs": [
    {
     "name": "stdout",
     "output_type": "stream",
     "text": [
      "(1000000, 4) (1000000,)\n",
      "                            OLS Regression Results                            \n",
      "==============================================================================\n",
      "Dep. Variable:                      y   R-squared:                       0.644\n",
      "Model:                            OLS   Adj. R-squared:                  0.644\n",
      "Method:                 Least Squares   F-statistic:                 6.035e+05\n",
      "Date:                Mon, 19 Nov 2018   Prob (F-statistic):               0.00\n",
      "Time:                        18:48:13   Log-Likelihood:            -1.5511e+06\n",
      "No. Observations:             1000000   AIC:                         3.102e+06\n",
      "Df Residuals:                  999996   BIC:                         3.102e+06\n",
      "Df Model:                           3                                         \n",
      "Covariance Type:            nonrobust                                         \n",
      "==============================================================================\n",
      "                 coef    std err          t      P>|t|      [0.025      0.975]\n",
      "------------------------------------------------------------------------------\n",
      "const          0.0005      0.003      0.181      0.857      -0.005       0.006\n",
      "x1             3.2034      0.005    643.306      0.000       3.194       3.213\n",
      "x2          9.619e-06   6.76e-05      0.142      0.887      -0.000       0.000\n",
      "x3             0.0097      0.000     38.742      0.000       0.009       0.010\n",
      "==============================================================================\n",
      "Omnibus:                     4161.655   Durbin-Watson:                   1.998\n",
      "Prob(Omnibus):                  0.000   Jarque-Bera (JB):             5809.211\n",
      "Skew:                          -0.001   Prob(JB):                         0.00\n",
      "Kurtosis:                       3.373   Cond. No.                         162.\n",
      "==============================================================================\n",
      "\n",
      "Warnings:\n",
      "[1] Standard Errors assume that the covariance matrix of the errors is correctly specified.\n"
     ]
    }
   ],
   "source": [
    "model = rd(yj,z,C)\n",
    "model_fit = model.fit()\n",
    "print model_fit.summary()"
   ]
  },
  {
   "cell_type": "markdown",
   "metadata": {},
   "source": [
    "### Part 14\n",
    "\n",
    "The estimate rom question 13 is the same as the answer to question 12. RD recovered the ATE only among those at the cut off. This is the Local average treatment effect.\n",
    "\n",
    "### Part 15\n",
    "\n",
    "The result to 13 changed because there was heterogeneity among treatment effects. Not all people get the same treatement effect. As a result, we only see the treatment effect at the cutoff."
   ]
  },
  {
   "cell_type": "code",
   "execution_count": null,
   "metadata": {},
   "outputs": [],
   "source": []
  }
 ],
 "metadata": {
  "kernelspec": {
   "display_name": "Python 2",
   "language": "python",
   "name": "python2"
  },
  "language_info": {
   "codemirror_mode": {
    "name": "ipython",
    "version": 2
   },
   "file_extension": ".py",
   "mimetype": "text/x-python",
   "name": "python",
   "nbconvert_exporter": "python",
   "pygments_lexer": "ipython2",
   "version": "2.7.15"
  }
 },
 "nbformat": 4,
 "nbformat_minor": 2
}
