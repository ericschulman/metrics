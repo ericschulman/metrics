{
 "cells": [
  {
   "cell_type": "code",
   "execution_count": 1,
   "id": "be5fb161",
   "metadata": {},
   "outputs": [],
   "source": [
    "import numpy as np\n",
    "import pandas as pd\n",
    "import matplotlib.pyplot as plt"
   ]
  },
  {
   "cell_type": "markdown",
   "id": "fce7423d",
   "metadata": {},
   "source": [
    "There are a lot of python tutorials about differences in differences. Such as [this](https://towardsdatascience.com/analyze-causal-effect-using-diff-in-diff-model-85e07b17e7b7) or [this](https://www.kaggle.com/code/harrywang/difference-in-differences-in-python/notebook).\n",
    "\n",
    "This notebook is meant to illustrate how the counterfactual treatment effects on the treatment group are identified using the parallel trends assumption. It uses data from Card and Krueger 1995 to illustrate the concept. Although it is not possible to do pre-trends analysis with only 2 periods, it is still possible to see how the \"control\" group that is untreated by changes to the minimum wage serves as a counterfactual for the treatment group. The code included in this notebook produces pre-trends plots to demonstrate this concept."
   ]
  },
  {
   "cell_type": "code",
   "execution_count": 2,
   "id": "31915def",
   "metadata": {},
   "outputs": [
    {
     "name": "stderr",
     "output_type": "stream",
     "text": [
      "/tmp/ipykernel_79060/3070256012.py:15: SettingWithCopyWarning: \n",
      "A value is trying to be set on a copy of a slice from a DataFrame.\n",
      "Try using .loc[row_indexer,col_indexer] = value instead\n",
      "\n",
      "See the caveats in the documentation: https://pandas.pydata.org/pandas-docs/stable/user_guide/indexing.html#returning-a-view-versus-a-copy\n",
      "  df_1['t']=0\n",
      "/tmp/ipykernel_79060/3070256012.py:17: SettingWithCopyWarning: \n",
      "A value is trying to be set on a copy of a slice from a DataFrame.\n",
      "Try using .loc[row_indexer,col_indexer] = value instead\n",
      "\n",
      "See the caveats in the documentation: https://pandas.pydata.org/pandas-docs/stable/user_guide/indexing.html#returning-a-view-versus-a-copy\n",
      "  df_2['t']=1\n"
     ]
    }
   ],
   "source": [
    "# set up the card and krueger data\n",
    "\n",
    "dat = pd.read_table('../data/public.dat', sep=\"\\s+\", header=None)\n",
    "dat.columns = ['SHEET','CHAINr','CO_OWNED','STATE','SOUTHJ','CENTRALJ','NORTHJ','PA1','PA2',\n",
    "               'SHORE','NCALLS','EMPFT','EMPPT','NMGRS','WAGE_ST','INCTIME','FIRSTINC','BONUS',\n",
    "               'PCTAFF','MEAL','OPEN','HRSOPEN','PSODA','PFRY','PENTREE','NREGS','NREGS11','TYPE2',\n",
    "               'STATUS2','DATE2','NCALLS2','EMPFT2','EMPPT2','NMGRS2','WAGE_ST2','INCTIME2','FIRSTIN2',\n",
    "               'SPECIAL2','MEALS2','OPEN2R','HRSOPEN2','PSODA2','PFRY2','PENTREE2','NREGS2','NREGS112']\n",
    "\n",
    "dat = dat.replace('.', '').apply(pd.to_numeric)\n",
    "dat['EMPTOT']=dat['EMPPT']*0.5 + dat['EMPFT'] + dat['NMGRS']                                              \n",
    "dat['EMPTOT2']=dat['EMPPT2']*0.5 + dat['EMPFT2'] + dat['NMGRS2'] \n",
    "\n",
    "df_1 = dat[['STATE', 'EMPTOT']]\n",
    "df_1['t']=0\n",
    "df_2 = dat[['STATE', 'EMPTOT2']]\n",
    "df_2['t']=1\n",
    "df_2.columns = ['STATE', 'EMPTOT','t']\n",
    "df = pd.concat([df_1, df_2], axis=0)"
   ]
  },
  {
   "cell_type": "code",
   "execution_count": 3,
   "id": "21fb028c",
   "metadata": {
    "scrolled": false
   },
   "outputs": [
    {
     "data": {
      "image/png": "[encoded data removed]",
      "text/plain": [
       "<Figure size 432x288 with 1 Axes>"
      ]
     },
     "metadata": {
      "needs_background": "light"
     },
     "output_type": "display_data"
    },
    {
     "data": {
      "text/plain": [
       "(   t  STATE   EMPTOT\n",
       " 0  0      0  1796.50\n",
       " 1  1      0  1629.75,\n",
       "    t   EMPTOT\n",
       " 0  0  6561.05\n",
       " 1  1  6707.75,\n",
       "    t  STATE   EMPTOT\n",
       " 0  0      0  6561.05\n",
       " 1  1      0  6394.30)"
      ]
     },
     "execution_count": 3,
     "metadata": {},
     "output_type": "execute_result"
    }
   ],
   "source": [
    "\n",
    "\n",
    "def create_plot(data,intervention, begin, end, \n",
    "                treat_name = 'STATE',\n",
    "                time_name = 't',\n",
    "                y_name = 'EMPTOT'):    \n",
    "    \n",
    "    #treatment\n",
    "    data_treat = data[(data[treat_name]==1) & (data[time_name] >= begin) &\n",
    "                              (data[time_name] <= end) ][[y_name, time_name]]\n",
    "    data_treat =  data_treat.groupby(time_name,as_index=False).sum()\n",
    "    plt.plot(data_treat[time_name],data_treat[y_name],label='Treatment',color='blue')\n",
    "\n",
    "    \n",
    "    #control\n",
    "    data_control  = data[ (data[treat_name]==0) & (data[time_name] >= begin) &\n",
    "                              (data[time_name] <= end) ]\n",
    "    data_control =  data_control.groupby(time_name,as_index=False).sum()\n",
    "    plt.plot(data_control[time_name],data_control[y_name],label='Control',color='orange')\n",
    "    \n",
    "\n",
    "    #treat cf\n",
    "    data_treat_cf = data_control[ (data_control[time_name]>=intervention) & (data_control[time_name]<=end)]\n",
    "    \n",
    "    diff = (data_treat[y_name][data_treat[time_name]==intervention].mean() - \n",
    "                data_control[y_name][data_control[time_name]==intervention].mean())\n",
    "    \n",
    "    data_treat_cf[y_name] = data_treat_cf[y_name] + diff\n",
    "       \n",
    "    plt.plot(data_treat_cf[time_name],data_treat_cf[y_name],label='Treatment CF',color='blue',linestyle='--')\n",
    "\n",
    "    plt.xlabel('time period')\n",
    "    plt.ylabel('employment')\n",
    "    plt.legend()\n",
    "    plt.show()\n",
    "    return data_control, data_treat, data_treat_cf\n",
    "    \n",
    "create_plot(df,0,0,1)"
   ]
  },
  {
   "cell_type": "code",
   "execution_count": null,
   "id": "9dabce46",
   "metadata": {},
   "outputs": [],
   "source": []
  }
 ],
 "metadata": {
  "kernelspec": {
   "display_name": "Python 3 (ipykernel)",
   "language": "python",
   "name": "python3"
  },
  "language_info": {
   "codemirror_mode": {
    "name": "ipython",
    "version": 3
   },
   "file_extension": ".py",
   "mimetype": "text/x-python",
   "name": "python",
   "nbconvert_exporter": "python",
   "pygments_lexer": "ipython3",
   "version": "3.9.7"
  }
 },
 "nbformat": 4,
 "nbformat_minor": 5
}
