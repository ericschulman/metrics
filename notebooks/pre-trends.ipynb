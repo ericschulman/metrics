{
 "cells": [
  {
   "cell_type": "code",
   "execution_count": 14,
   "id": "be5fb161",
   "metadata": {},
   "outputs": [
    {
     "name": "stdout",
     "output_type": "stream",
     "text": [
      "The autoreload extension is already loaded. To reload it, use:\n",
      "  %reload_ext autoreload\n"
     ]
    }
   ],
   "source": [
    "%load_ext autoreload\n",
    "%autoreload 2\n",
    "\n",
    "import numpy as np\n",
    "import pandas as pd\n",
    "import datetime\n",
    "import scipy.stats as stats\n",
    "\n",
    "#graphing\n",
    "import matplotlib.pyplot as plt\n",
    "#stats\n",
    "import statsmodels.api as sm\n",
    "from statsmodels.base.model import GenericLikelihoodModel\n",
    "from sklearn.mixture import GaussianMixture \n",
    "#import testing\n",
    "import sys\n",
    "sys.path.append(\"../\")\n",
    "import selection_tests\n",
    "\n",
    "import itertools"
   ]
  },
  {
   "cell_type": "code",
   "execution_count": 15,
   "id": "31915def",
   "metadata": {},
   "outputs": [
    {
     "name": "stdout",
     "output_type": "stream",
     "text": [
      "        ssa  treatment\n",
      "0      1000          1\n",
      "1      1010          1\n",
      "2      1020          0\n",
      "3      1030          1\n",
      "4      1040          1\n",
      "...     ...        ...\n",
      "2186  53060          0\n",
      "2187  53120          0\n",
      "2188  53160          0\n",
      "2189  53200          0\n",
      "2190  53220          0\n",
      "\n",
      "[2191 rows x 2 columns]\n",
      "(30674, 19)\n"
     ]
    }
   ],
   "source": [
    "data = pd.read_stata(\"../data/all_plans_c_stata_2019.dta\")\n",
    "\n",
    "#create a variable that is just db \n",
    "treat = data[['ssa', 'double_bonus']].copy()\n",
    "treat = treat.groupby(['ssa'],as_index=False).max()\n",
    "treat = treat.rename(columns={'double_bonus':'treatment' })\n",
    "\n",
    "\n",
    "print(treat)\n",
    "print(data.shape)\n",
    "data = data.merge(treat, on=['ssa'],how='left')"
   ]
  },
  {
   "cell_type": "code",
   "execution_count": 16,
   "id": "21fb028c",
   "metadata": {
    "scrolled": false
   },
   "outputs": [
    {
     "name": "stderr",
     "output_type": "stream",
     "text": [
      "/tmp/ipykernel_130523/2106469193.py:28: SettingWithCopyWarning: \n",
      "A value is trying to be set on a copy of a slice from a DataFrame.\n",
      "Try using .loc[row_indexer,col_indexer] = value instead\n",
      "\n",
      "See the caveats in the documentation: https://pandas.pydata.org/pandas-docs/stable/user_guide/indexing.html#returning-a-view-versus-a-copy\n",
      "  data_treat_cf['y'] = data_treat_cf['y'] + diff\n"
     ]
    },
    {
     "data": {
      "image/png": "[encoded data removed]",
      "text/plain": [
       "<Figure size 432x288 with 1 Axes>"
      ]
     },
     "metadata": {
      "needs_background": "light"
     },
     "output_type": "display_data"
    },
    {
     "data": {
      "text/plain": [
       "(    year  penetration   enr_total  treatment         y\n",
       " 0   2006   131.870850  23728822.0          0  0.120856\n",
       " 1   2007   162.237015  24006278.0          0  0.131017\n",
       " 2   2008   225.589874  24360788.0          0  0.157292\n",
       " 3   2009   243.649323  24702544.0          0  0.167442\n",
       " 4   2010   253.080093  25245280.0          0  0.172996\n",
       " 5   2011   248.878082  25710872.0          0  0.176151\n",
       " 6   2012   266.071014  26675474.0          0  0.188204\n",
       " 7   2013   286.231995  27418118.0          0  0.199692\n",
       " 8   2014   297.617279  27911378.0          0  0.208847\n",
       " 9   2015   263.420807  32984912.0          0  0.189800\n",
       " 10  2016   273.677063  33754808.0          0  0.196950,\n",
       "     year  penetration   enr_total         y\n",
       " 0   2006    59.585571   7417512.0  0.256009\n",
       " 1   2007    64.282379   7535679.0  0.267676\n",
       " 2   2008    75.673065   7488031.0  0.302124\n",
       " 3   2009    80.482384   7564414.0  0.316614\n",
       " 4   2010    83.504379   7709438.0  0.327253\n",
       " 5   2011    85.226562   7879745.0  0.334914\n",
       " 6   2012    89.060013   8240389.0  0.350004\n",
       " 7   2013    93.571899   8571785.0  0.365200\n",
       " 8   2014    96.785942   8839430.0  0.376309\n",
       " 9   2015    86.274155  10342566.0  0.339080\n",
       " 10  2016    87.982552  10693841.0  0.346752,\n",
       "     year  penetration   enr_total  treatment         y\n",
       " 6   2012   266.071014  26675474.0          0  0.350004\n",
       " 7   2013   286.231995  27418118.0          0  0.361491\n",
       " 8   2014   297.617279  27911378.0          0  0.370646\n",
       " 9   2015   263.420807  32984912.0          0  0.351600\n",
       " 10  2016   273.677063  33754808.0          0  0.358749)"
      ]
     },
     "execution_count": 16,
     "metadata": {},
     "output_type": "execute_result"
    }
   ],
   "source": [
    "def create_plot_y(df):\n",
    "    df = df.copy()\n",
    "    df['y'] = df['penetration']*df['enr_total']\n",
    "    df_group = df.groupby('year',as_index=False).sum()\n",
    "    df_group['y'] = df_group['y']/df_group['enr_total']\n",
    "    return df_group.copy()\n",
    "\n",
    "\n",
    "def create_synth_plot(data,intervention,begin,end,name):    \n",
    "    #treatment\n",
    "    data_treat = data[(data['treatment']==1) & (data['year'] >= begin) &\n",
    "                              (data['year'] <= end) ][['penetration','year','enr_total']]\n",
    "    data_treat =  create_plot_y(data_treat)\n",
    "    plt.plot(data_treat['year'],data_treat['y'],label='Treatment',color='blue')\n",
    "\n",
    "    \n",
    "    #control\n",
    "    data_control  = data[ (data['treatment']==0) & (data['year'] >= begin) &\n",
    "                              (data['year'] <= end) ][['penetration','year','enr_total','treatment']]\n",
    "    data_control =  create_plot_y(data_control)\n",
    "    plt.plot(data_control['year'],data_control['y'],label='Control',color='orange')\n",
    "    \n",
    "\n",
    "    #treat cf\n",
    "    data_treat_cf = data_control[ (data_control['year']>=intervention) & (data_control['year']<=end)]\n",
    "    diff = (data_treat['y'][data_treat['year']==intervention].mean() - \n",
    "                data_control['y'][data_control['year']==intervention].mean())\n",
    "    data_treat_cf['y'] = data_treat_cf['y'] + diff\n",
    "    \n",
    "        \n",
    "    plt.plot(data_treat_cf['year'],data_treat_cf['y'],label='Treatment CF',color='blue',linestyle='--')\n",
    "\n",
    "    plt.xlabel('year')\n",
    "    plt.ylabel('penetration')\n",
    "    plt.legend()\n",
    "    plt.savefig(name,dpi=300)\n",
    "    plt.show()\n",
    "    return data_control, data_treat, data_treat_cf\n",
    "    \n",
    "create_synth_plot(data,2012,2006,2016,'double_bonus_intervention.png')"
   ]
  },
  {
   "cell_type": "code",
   "execution_count": 17,
   "id": "11962746",
   "metadata": {},
   "outputs": [
    {
     "name": "stderr",
     "output_type": "stream",
     "text": [
      "/tmp/ipykernel_130523/2106469193.py:28: SettingWithCopyWarning: \n",
      "A value is trying to be set on a copy of a slice from a DataFrame.\n",
      "Try using .loc[row_indexer,col_indexer] = value instead\n",
      "\n",
      "See the caveats in the documentation: https://pandas.pydata.org/pandas-docs/stable/user_guide/indexing.html#returning-a-view-versus-a-copy\n",
      "  data_treat_cf['y'] = data_treat_cf['y'] + diff\n"
     ]
    },
    {
     "data": {
      "image/png": "[encoded data removed]",
      "text/plain": [
       "<Figure size 432x288 with 1 Axes>"
      ]
     },
     "metadata": {
      "needs_background": "light"
     },
     "output_type": "display_data"
    },
    {
     "data": {
      "text/plain": [
       "(   year  penetration   enr_total  treatment         y\n",
       " 0  2006   131.870850  23728822.0          0  0.120856\n",
       " 1  2007   162.237015  24006278.0          0  0.131017\n",
       " 2  2008   225.589874  24360788.0          0  0.157292\n",
       " 3  2009   243.649323  24702544.0          0  0.167442\n",
       " 4  2010   253.080093  25245280.0          0  0.172996\n",
       " 5  2011   248.878082  25710872.0          0  0.176151\n",
       " 6  2012   266.071014  26675474.0          0  0.188204,\n",
       "    year  penetration  enr_total         y\n",
       " 0  2006    59.585571  7417512.0  0.256009\n",
       " 1  2007    64.282379  7535679.0  0.267676\n",
       " 2  2008    75.673065  7488031.0  0.302124\n",
       " 3  2009    80.482384  7564414.0  0.316614\n",
       " 4  2010    83.504379  7709438.0  0.327253\n",
       " 5  2011    85.226562  7879745.0  0.334914\n",
       " 6  2012    89.060013  8240389.0  0.350004,\n",
       "    year  penetration   enr_total  treatment         y\n",
       " 6  2012   266.071014  26675474.0          0  0.350004)"
      ]
     },
     "execution_count": 17,
     "metadata": {},
     "output_type": "execute_result"
    }
   ],
   "source": [
    "create_synth_plot(data,2012,2006,2012,'double_bonus_intervention-zoom.png')"
   ]
  },
  {
   "cell_type": "code",
   "execution_count": 6,
   "id": "16d89f12",
   "metadata": {},
   "outputs": [
    {
     "name": "stdout",
     "output_type": "stream",
     "text": [
      "898.3458862304688\n",
      "912.5452880859375\n",
      "14.198017120361328\n",
      "0        0.0\n",
      "1        0.0\n",
      "2        0.0\n",
      "3        0.0\n",
      "4        0.0\n",
      "        ... \n",
      "30669    0.0\n",
      "30670    0.0\n",
      "30671    0.0\n",
      "30672    0.0\n",
      "30673    0.0\n",
      "Length: 30674, dtype: float32\n"
     ]
    }
   ],
   "source": [
    "print(data['bm_ns'].mean())\n",
    "print(data['bmFFS'].mean())\n",
    "print(data['bmFFS_ns_diff'].mean())\n",
    "print(data['bm_ns']-data['bmFFS'])"
   ]
  },
  {
   "cell_type": "code",
   "execution_count": 18,
   "id": "8e9d567c",
   "metadata": {},
   "outputs": [
    {
     "name": "stdout",
     "output_type": "stream",
     "text": [
      "(30674, 18)\n",
      "(30674, 21)\n",
      "       bm_ns_2011  bm_ns_2012  bmFFS_2012  treatment_1  treatment_2  treatment\n",
      "0      952.801208  888.654602  904.911377     6.732423     1.829369      False\n",
      "1      952.801208  888.654602  904.911377     6.732423     1.829369      False\n",
      "2      952.801208  888.654602  904.911377     6.732423     1.829369      False\n",
      "3      952.801208  888.654602  904.911377     6.732423     1.829369      False\n",
      "4      952.801208  888.654602  904.911377     6.732423     1.829369      False\n",
      "...           ...         ...         ...          ...          ...        ...\n",
      "30669  863.120728  829.804260  853.839294     3.860001     2.896470      False\n",
      "30670  863.120728  829.804260  853.839294     3.860001     2.896470      False\n",
      "30671  863.120728  829.804260  853.839294     3.860001     2.896470      False\n",
      "30672  863.120728  829.804260  853.839294     3.860001     2.896470      False\n",
      "30673  863.120728  829.804260  853.839294     3.860001     2.896470      False\n",
      "\n",
      "[30674 rows x 6 columns]\n"
     ]
    }
   ],
   "source": [
    "cutoff1 = 10\n",
    "cutoff2 = 3\n",
    "\n",
    "#make a new treatment var...\n",
    "data_bm = data.copy()\n",
    "data_bm = data_bm.drop(['treatment','bm_ns_2012'],axis=1)\n",
    "\n",
    "treat = data[['ssa','bm_ns']].copy()\n",
    "treat_2011 = data[['ssa', 'bm_ns']][data['year']==2011]\n",
    "treat_2011 = treat_2011.groupby(['ssa'],as_index=False).max()\n",
    "\n",
    "treat_2012 = data[['ssa', 'bm_ns']][data['year']==2012]\n",
    "treat_2012 = treat_2012.groupby(['ssa'],as_index=False).max()\n",
    "\n",
    "\n",
    "treat_2012_2 = data[['ssa', 'bmFFS']][data['year']==2012]\n",
    "treat_2012_2 = treat_2012_2.groupby(['ssa'],as_index=False).max()\n",
    "\n",
    "treat = treat_2011.merge(treat_2012,on=['ssa'],suffixes=('_2011', '_2012'))\n",
    "treat = treat.merge(treat_2012_2,on=['ssa'])\n",
    "\n",
    "\n",
    "\n",
    "\n",
    "print(data_bm.shape)\n",
    "data_bm = data_bm.merge(treat, on=['ssa'],how='left',suffixes=('','_2012'))\n",
    "print(data_bm.shape)\n",
    "\n",
    "data_bm['treatment_1'] = 100*(data_bm['bm_ns_2011'] - data_bm['bm_ns_2012'])/data_bm['bm_ns_2011'] \n",
    "data_bm['treatment_2'] = 100*(data_bm['bmFFS_2012'] - data_bm['bm_ns_2012'])/data_bm['bm_ns_2012'] \n",
    "data_bm['treatment'] =  (data_bm['treatment_1'] > cutoff1 )*(data_bm['treatment_2'] < cutoff2)\n",
    "#data_bm['treatment_1']  + 2 >= data_bm['treatment_2'] \n",
    "print(data_bm[['bm_ns_2011','bm_ns_2012','bmFFS_2012','treatment_1','treatment_2','treatment']])\n",
    "\n",
    "#bm 5_star with some percent of bm cut"
   ]
  },
  {
   "cell_type": "code",
   "execution_count": 19,
   "id": "5bd866e5",
   "metadata": {},
   "outputs": [
    {
     "name": "stderr",
     "output_type": "stream",
     "text": [
      "/tmp/ipykernel_130523/2106469193.py:28: SettingWithCopyWarning: \n",
      "A value is trying to be set on a copy of a slice from a DataFrame.\n",
      "Try using .loc[row_indexer,col_indexer] = value instead\n",
      "\n",
      "See the caveats in the documentation: https://pandas.pydata.org/pandas-docs/stable/user_guide/indexing.html#returning-a-view-versus-a-copy\n",
      "  data_treat_cf['y'] = data_treat_cf['y'] + diff\n"
     ]
    },
    {
     "data": {
      "image/png": "[encoded data removed]",
      "text/plain": [
       "<Figure size 432x288 with 1 Axes>"
      ]
     },
     "metadata": {
      "needs_background": "light"
     },
     "output_type": "display_data"
    },
    {
     "name": "stdout",
     "output_type": "stream",
     "text": [
      "0     0.069917\n",
      "1     0.092539\n",
      "2     0.136833\n",
      "3     0.156061\n",
      "4     0.146140\n",
      "5     0.138616\n",
      "6     0.131758\n",
      "7     0.129600\n",
      "8     0.109313\n",
      "9     0.085476\n",
      "10    0.088020\n",
      "Name: y, dtype: float32\n"
     ]
    }
   ],
   "source": [
    "data_control, data_treat, data_treat_cf = create_synth_plot(data_bm,2012,2006,2016,'bm_cuts_intervention.png')\n",
    "\n",
    "print(data_treat['y'])"
   ]
  },
  {
   "cell_type": "code",
   "execution_count": null,
   "id": "9dabce46",
   "metadata": {},
   "outputs": [],
   "source": []
  }
 ],
 "metadata": {
  "kernelspec": {
   "display_name": "Python 3 (ipykernel)",
   "language": "python",
   "name": "python3"
  },
  "language_info": {
   "codemirror_mode": {
    "name": "ipython",
    "version": 3
   },
   "file_extension": ".py",
   "mimetype": "text/x-python",
   "name": "python",
   "nbconvert_exporter": "python",
   "pygments_lexer": "ipython3",
   "version": "3.9.7"
  }
 },
 "nbformat": 4,
 "nbformat_minor": 5
}
