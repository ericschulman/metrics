{
 "cells": [
  {
   "cell_type": "code",
   "execution_count": 1,
   "id": "7912f9cb",
   "metadata": {},
   "outputs": [],
   "source": [
    "import numpy as np\n",
    "import pandas as pd\n",
    "import statsmodels.api as sm"
   ]
  },
  {
   "cell_type": "markdown",
   "id": "88d276da",
   "metadata": {},
   "source": [
    "* Read in the `wagepan.dta` dataset  and pick the name of the covariates as global variables."
   ]
  },
  {
   "cell_type": "code",
   "execution_count": 2,
   "id": "19389ee0",
   "metadata": {},
   "outputs": [],
   "source": [
    "DATA = pd.read_stata(\"../data/wagepan.dta\")"
   ]
  },
  {
   "cell_type": "code",
   "execution_count": 3,
   "id": "a838b753",
   "metadata": {},
   "outputs": [],
   "source": [
    "X_NAME = ['educ','black', 'hisp','exper',\"expersq\",'married','union']\n",
    "Y_NAME = ['lwage'] "
   ]
  },
  {
   "cell_type": "markdown",
   "id": "91081634",
   "metadata": {},
   "source": [
    "* create a balanced panel. start by dropping observations with missing data.\n",
    "* the determine which individuals are present through out the panel. drop individuals that are not present throughout the entire panel.\n",
    "* put the two together to create the final dataset."
   ]
  },
  {
   "cell_type": "code",
   "execution_count": 4,
   "id": "6e2da8ae",
   "metadata": {},
   "outputs": [],
   "source": [
    "def drop_data(y_name, x_name, data, year_name='year',idv_name='nr'):\n",
    "    data = data.copy()\n",
    "    data = data[y_name + x_name + [year_name,idv_name] ]\n",
    "    missing_vals = ~data.isnull().max(axis=1)\n",
    "    data = data[missing_vals]\n",
    "    return data\n",
    "\n",
    "\n",
    "def make_balanced(y_name, x_name, data, year_name='year', idv_name='nr'):\n",
    "    \n",
    "    min_year = int(data[year_name].min())\n",
    "    max_year = int(data[year_name].max())\n",
    "    \n",
    "    idv_unique = list( data[idv_name][data[year_name]==min_year].unique() )\n",
    "    for year in range(min_year,max_year+1):\n",
    "        \n",
    "        idv_year = list(data[data[year_name]==year][idv_name].unique())\n",
    "        idv_unique_copy = []\n",
    "        for idv in idv_unique:\n",
    "            if idv in idv_year:\n",
    "                idv_unique_copy.append(idv)\n",
    "        idv_unique = idv_unique_copy\n",
    "    data = data[data[idv_name].isin(idv_unique)]\n",
    "    return data.copy()\n",
    "\n",
    "\n",
    "def setup_data(y_name, x_name, data, year_name='year', idv_name='nr'):\n",
    "    \n",
    "    min_year = int(data[year_name].min())\n",
    "    max_year = int(data[year_name].max())\n",
    "    \n",
    "    #subtract out the columns that are not in the data\n",
    "    all_xs = []\n",
    "    for col in data.columns:\n",
    "        if col in x_name:\n",
    "            all_xs.append(col)\n",
    "\n",
    "    #clean the data\n",
    "    data = data.copy()\n",
    "    data = drop_data(y_name, x_name, data, year_name = year_name, idv_name= idv_name)\n",
    "    data = make_balanced(y_name, x_name, data, year_name = year_name, idv_name= idv_name)\n",
    "    return data[y_name+all_xs+ [year_name,idv_name]]\n",
    "\n",
    "DATA_CLEAN = setup_data(Y_NAME,X_NAME,DATA)"
   ]
  },
  {
   "cell_type": "markdown",
   "id": "c2c3600f",
   "metadata": {},
   "source": [
    "* perform the within transformation\n",
    "\n",
    "$$\\dot{x}_{it} = x_{it} - \\sum_{t \\leq T} x_{it} \\qquad \\dot{y}_{it} = y_{it} - \\sum_{t \\leq T} y_{it}$$\n",
    "\n",
    "* The OLS estimator of the transformed variables:\n",
    "\n",
    "$$\\hat{\\beta} = (\\dot{X}' \\dot{X})^{-1}(\\dot{X} \\dot{Y})$$\n",
    "\n",
    "* This estimator consistently estimates $\\beta$ in the panel data model \n",
    "\n",
    "$$y_{it}  = x_{it} \\beta + \\gamma_i + \\delta_t + u_{it}$$\n",
    "\n",
    "* Notice that coefficients on observations that are not time varying are not identified."
   ]
  },
  {
   "cell_type": "code",
   "execution_count": 5,
   "id": "e3376785",
   "metadata": {},
   "outputs": [
    {
     "name": "stdout",
     "output_type": "stream",
     "text": [
      "                 Generalized Linear Model Regression Results                  \n",
      "==============================================================================\n",
      "Dep. Variable:                  lwage   No. Observations:                 4360\n",
      "Model:                            GLM   Df Residuals:                     4350\n",
      "Model Family:                Gaussian   Df Model:                            9\n",
      "Link Function:               identity   Scale:                         0.10776\n",
      "Method:                          IRLS   Log-Likelihood:                -1324.8\n",
      "Date:                Thu, 30 Mar 2023   Deviance:                       468.75\n",
      "Time:                        19:10:45   Pearson chi2:                     469.\n",
      "No. Iterations:                     3                                         \n",
      "Covariance Type:            nonrobust                                         \n",
      "==============================================================================\n",
      "                 coef    std err          z      P>|z|      [0.025      0.975]\n",
      "------------------------------------------------------------------------------\n",
      "educ                0          0        nan        nan           0           0\n",
      "black       3.287e-16   2.26e-17     14.533      0.000    2.84e-16    3.73e-16\n",
      "hisp        1.086e-17   1.52e-17      0.714      0.475   -1.89e-17    4.07e-17\n",
      "exper          0.1265      0.008     15.124      0.000       0.110       0.143\n",
      "expersq       -0.0052      0.001     -7.871      0.000      -0.006      -0.004\n",
      "married        0.0467      0.017      2.726      0.006       0.013       0.080\n",
      "union          0.0800      0.018      4.430      0.000       0.045       0.115\n",
      "1981           0.0247      0.018      1.355      0.176      -0.011       0.060\n",
      "1982       -2.898e-05      0.017     -0.002      0.999      -0.033       0.033\n",
      "1983          -0.0251      0.016     -1.610      0.107      -0.056       0.005\n",
      "1984          -0.0159      0.014     -1.125      0.261      -0.044       0.012\n",
      "1985          -0.0150      0.013     -1.168      0.243      -0.040       0.010\n",
      "1986           0.0065      0.013      0.517      0.605      -0.018       0.031\n",
      "1987           0.0395      0.014      2.757      0.006       0.011       0.068\n",
      "==============================================================================\n"
     ]
    }
   ],
   "source": [
    "def demean(y_name, x_name, data, year_name='year',idv_name='nr'): \n",
    "    \n",
    "    #add year dummy variables\n",
    "    years = pd.get_dummies(data[year_name],drop_first=True)\n",
    "    year_names = list(years.columns)\n",
    "    \n",
    "    data = data.copy().merge(years,left_index=True, right_index=True)\n",
    "    x_name = x_name + year_names\n",
    "    \n",
    "    #isolate x and y\n",
    "    y,X = data[ y_name], data[ x_name ]\n",
    "    y_dot = y.copy()\n",
    "    X_dot = X.copy()\n",
    "    \n",
    "    y_dot = y_dot - y.groupby(data[idv_name]).transform('mean')\n",
    "    X_dot = X_dot - X.groupby(data[idv_name]).transform('mean')\n",
    "\n",
    "    return y_dot, X_dot\n",
    "\n",
    "\n",
    "\n",
    "def print_results(y_name, x_name, data, year_name='year',idv_name='nr'):\n",
    "    y_dot,X_dot = demean(y_name,x_name,data, year_name = year_name, idv_name= idv_name)\n",
    "    model = sm.GLM(y_dot,X_dot)\n",
    "    model_fit = model.fit()\n",
    "    print(model_fit.summary())\n",
    "    \n",
    "print_results(Y_NAME,X_NAME,DATA_CLEAN)"
   ]
  },
  {
   "cell_type": "code",
   "execution_count": null,
   "id": "f1a7e4bc",
   "metadata": {},
   "outputs": [],
   "source": []
  },
  {
   "cell_type": "code",
   "execution_count": null,
   "id": "e4bba266",
   "metadata": {},
   "outputs": [],
   "source": []
  }
 ],
 "metadata": {
  "kernelspec": {
   "display_name": "Python 3 (ipykernel)",
   "language": "python",
   "name": "python3"
  },
  "language_info": {
   "codemirror_mode": {
    "name": "ipython",
    "version": 3
   },
   "file_extension": ".py",
   "mimetype": "text/x-python",
   "name": "python",
   "nbconvert_exporter": "python",
   "pygments_lexer": "ipython3",
   "version": "3.9.7"
  }
 },
 "nbformat": 4,
 "nbformat_minor": 5
}
