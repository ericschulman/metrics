{
 "cells": [
  {
   "cell_type": "code",
   "execution_count": 1,
   "metadata": {},
   "outputs": [],
   "source": [
    "import pandas as pd\n",
    "import math\n",
    "import numpy as np\n",
    "import matplotlib.pyplot as plt\n",
    "import statsmodels.api as sm\n",
    "from scipy.stats import norm "
   ]
  },
  {
   "cell_type": "code",
   "execution_count": 2,
   "metadata": {
    "scrolled": false
   },
   "outputs": [
    {
     "name": "stdout",
     "output_type": "stream",
     "text": [
      "faminc       29.026657\n",
      "cigtax       19.552954\n",
      "cigprice    130.559006\n",
      "bwght       118.699568\n",
      "fatheduc     13.186242\n",
      "motheduc     12.935833\n",
      "parity        1.632565\n",
      "male          0.520893\n",
      "white         0.784582\n",
      "cigs          2.087176\n",
      "lbwght        4.760031\n",
      "bwghtlbs      7.418723\n",
      "packs         0.104359\n",
      "lfaminc       3.071271\n",
      "dtype: float64\n"
     ]
    }
   ],
   "source": [
    "FNAME = '../data/bwght.csv'\n",
    "df = pd.read_csv(FNAME)\n",
    "\n",
    "#print summary info\n",
    "print df.mean()"
   ]
  },
  {
   "cell_type": "code",
   "execution_count": 3,
   "metadata": {},
   "outputs": [
    {
     "name": "stdout",
     "output_type": "stream",
     "text": [
      "Percentage smokers: 0.152737752161\n"
     ]
    }
   ],
   "source": [
    "############# part a) #############\n",
    "df['const'] = 1\n",
    "df['smokes'] = (df['cigs'] > 0).astype(int)\n",
    "\n",
    "#print percentage of mothers who smoked during pregnancy\n",
    "print 'Percentage smokers: %s'%df['smokes'].mean()"
   ]
  },
  {
   "cell_type": "code",
   "execution_count": 4,
   "metadata": {},
   "outputs": [
    {
     "name": "stdout",
     "output_type": "stream",
     "text": [
      "                            OLS Regression Results                            \n",
      "==============================================================================\n",
      "Dep. Variable:                 smokes   R-squared:                       0.063\n",
      "Model:                            OLS   Adj. R-squared:                  0.061\n",
      "Method:                 Least Squares   F-statistic:                     31.05\n",
      "Date:                Thu, 04 Oct 2018   Prob (F-statistic):           2.02e-19\n",
      "Time:                        09:02:16   Log-Likelihood:                -505.23\n",
      "No. Observations:                1387   AIC:                             1018.\n",
      "Df Residuals:                    1383   BIC:                             1039.\n",
      "Df Model:                           3                                         \n",
      "Covariance Type:            nonrobust                                         \n",
      "==============================================================================\n",
      "                 coef    std err          t      P>|t|      [0.025      0.975]\n",
      "------------------------------------------------------------------------------\n",
      "const          0.6255      0.054     11.638      0.000       0.520       0.731\n",
      "motheduc      -0.0293      0.004     -6.765      0.000      -0.038      -0.021\n",
      "white          0.0484      0.024      1.983      0.048       0.001       0.096\n",
      "lfaminc       -0.0427      0.012     -3.585      0.000      -0.066      -0.019\n",
      "==============================================================================\n",
      "Omnibus:                      394.747   Durbin-Watson:                   1.987\n",
      "Prob(Omnibus):                  0.000   Jarque-Bera (JB):              805.839\n",
      "Skew:                           1.723   Prob(JB):                    1.03e-175\n",
      "Kurtosis:                       4.437   Cond. No.                         78.3\n",
      "==============================================================================\n",
      "\n",
      "Warnings:\n",
      "[1] Standard Errors assume that the covariance matrix of the errors is correctly specified.\n"
     ]
    }
   ],
   "source": [
    "############# part b) i) #############\n",
    "linear_prob = sm.OLS(endog= df['smokes'],\n",
    "                     exog=df[['const','motheduc','white','lfaminc']],\n",
    "                     missing='drop')\n",
    "linear_results = linear_prob.fit()\n",
    "print linear_results.summary()"
   ]
  },
  {
   "cell_type": "code",
   "execution_count": 5,
   "metadata": {
    "scrolled": true
   },
   "outputs": [
    {
     "name": "stdout",
     "output_type": "stream",
     "text": [
      "Marginal Year of Education: -0.02932066021464503\n"
     ]
    }
   ],
   "source": [
    "#effect of extra year of educ on probability\n",
    "print 'Marginal Year of Education: %s'%linear_results.params[1]"
   ]
  },
  {
   "cell_type": "code",
   "execution_count": 6,
   "metadata": {},
   "outputs": [
    {
     "name": "stdout",
     "output_type": "stream",
     "text": [
      "Optimization terminated successfully.\n",
      "         Current function value: 0.394210\n",
      "         Iterations 6\n",
      "                          Probit Regression Results                           \n",
      "==============================================================================\n",
      "Dep. Variable:                 smokes   No. Observations:                 1387\n",
      "Model:                         Probit   Df Residuals:                     1383\n",
      "Method:                           MLE   Df Model:                            3\n",
      "Date:                Thu, 04 Oct 2018   Pseudo R-squ.:                 0.07812\n",
      "Time:                        09:02:46   Log-Likelihood:                -546.77\n",
      "converged:                       True   LL-Null:                       -593.11\n",
      "                                        LLR p-value:                 5.846e-20\n",
      "==============================================================================\n",
      "                 coef    std err          z      P>|z|      [0.025      0.975]\n",
      "------------------------------------------------------------------------------\n",
      "const          1.1263      0.250      4.497      0.000       0.635       1.617\n",
      "motheduc      -0.1451      0.021     -6.977      0.000      -0.186      -0.104\n",
      "white          0.1897      0.110      1.726      0.084      -0.026       0.405\n",
      "lfaminc       -0.1669      0.050     -3.346      0.001      -0.265      -0.069\n",
      "==============================================================================\n"
     ]
    }
   ],
   "source": [
    "############# part b) ii) ############# \n",
    "\n",
    "probit_mod = sm.Probit(endog= df['smokes'],\n",
    "                     exog=df[['const','motheduc','white','lfaminc']],\n",
    "                     missing='drop')\n",
    "\n",
    "probit_results = probit_mod.fit()\n",
    "print probit_results.summary()"
   ]
  },
  {
   "cell_type": "code",
   "execution_count": 7,
   "metadata": {},
   "outputs": [
    {
     "name": "stdout",
     "output_type": "stream",
     "text": [
      "Discrete Formula: -0.028635040736870176\n",
      "Continuous Formula: -0.03111541986179206\n"
     ]
    }
   ],
   "source": [
    "############# part b) ii) A)-B) #############\n",
    "\n",
    "beta = probit_results.params\n",
    "mean_x = np.array(df[['const','motheduc','white','lfaminc']].mean())\n",
    "x_beta = np.matmul(mean_x.transpose(),beta)\n",
    "\n",
    "#discrete impact of an extra year\n",
    "mean_x_plus = mean_x\n",
    "mean_x_plus[1] = mean_x_plus[1] + 1 #increase x by a unit\n",
    "x_beta_plus = np.matmul(mean_x_plus.transpose(),beta)\n",
    "\n",
    "#discrete formula\n",
    "#G(x'*beta) - G(x*beta)\n",
    "print 'Discrete Formula: %s'%(norm(0,1).cdf(x_beta_plus) - norm(0,1).cdf(x_beta))\n",
    "\n",
    "#cts formula\n",
    "#g(x*beta)*beta_j\n",
    "print 'Continuous Formula: %s'%(norm(0,1).pdf(x_beta) * beta[1])"
   ]
  },
  {
   "cell_type": "code",
   "execution_count": 8,
   "metadata": {},
   "outputs": [
    {
     "name": "stdout",
     "output_type": "stream",
     "text": [
      "       Probit Marginal Effects       \n",
      "=====================================\n",
      "Dep. Variable:                 smokes\n",
      "Method:                          dydx\n",
      "At:                              mean\n",
      "==============================================================================\n",
      "                dy/dx    std err          z      P>|z|      [0.025      0.975]\n",
      "------------------------------------------------------------------------------\n",
      "motheduc      -0.0311      0.004     -7.240      0.000      -0.040      -0.023\n",
      "white          0.0383      0.021      1.839      0.066      -0.003       0.079\n",
      "lfaminc       -0.0358      0.011     -3.348      0.001      -0.057      -0.015\n",
      "==============================================================================\n"
     ]
    }
   ],
   "source": [
    "############# part b) ii) C) #############\n",
    "\n",
    "probit_margeff = probit_results.get_margeff(at='mean',dummy=True)\n",
    "print probit_margeff.summary()\n",
    "\n",
    "##the marginal effect of education on the probability of smoking\n",
    "#is -.0311 according to the output. \n",
    "#Since education is discrete, it should -.0286\n",
    "\n",
    "#source:\n",
    "#https://www.statsmodels.org/dev/generated/statsmodels.discrete.discrete_model.CountResults.get_margeff.html"
   ]
  },
  {
   "cell_type": "code",
   "execution_count": 9,
   "metadata": {},
   "outputs": [
    {
     "name": "stdout",
     "output_type": "stream",
     "text": [
      "Optimization terminated successfully.\n",
      "         Current function value: 0.395626\n",
      "         Iterations 6\n",
      "                           Logit Regression Results                           \n",
      "==============================================================================\n",
      "Dep. Variable:                 smokes   No. Observations:                 1387\n",
      "Model:                          Logit   Df Residuals:                     1383\n",
      "Method:                           MLE   Df Model:                            3\n",
      "Date:                Thu, 04 Oct 2018   Pseudo R-squ.:                 0.07481\n",
      "Time:                        09:02:52   Log-Likelihood:                -548.73\n",
      "converged:                       True   LL-Null:                       -593.11\n",
      "                                        LLR p-value:                 4.078e-19\n",
      "==============================================================================\n",
      "                 coef    std err          z      P>|z|      [0.025      0.975]\n",
      "------------------------------------------------------------------------------\n",
      "const          2.0125      0.447      4.498      0.000       1.136       2.889\n",
      "motheduc      -0.2519      0.037     -6.770      0.000      -0.325      -0.179\n",
      "white          0.3439      0.200      1.718      0.086      -0.049       0.736\n",
      "lfaminc       -0.2962      0.087     -3.419      0.001      -0.466      -0.126\n",
      "==============================================================================\n"
     ]
    }
   ],
   "source": [
    "############# part b) iii) #############\n",
    "\n",
    "logit_mod = sm.Logit(endog= df['smokes'],\n",
    "                     exog=df[['const','motheduc','white','lfaminc']],\n",
    "                     missing='drop')\n",
    "logit_results = logit_mod.fit()\n",
    "print logit_results.summary()"
   ]
  },
  {
   "cell_type": "code",
   "execution_count": 10,
   "metadata": {},
   "outputs": [
    {
     "name": "stdout",
     "output_type": "stream",
     "text": [
      "        Logit Marginal Effects       \n",
      "=====================================\n",
      "Dep. Variable:                 smokes\n",
      "Method:                          dydx\n",
      "At:                              mean\n",
      "==============================================================================\n",
      "                dy/dx    std err          z      P>|z|      [0.025      0.975]\n",
      "------------------------------------------------------------------------------\n",
      "motheduc      -0.0288      0.004     -7.178      0.000      -0.037      -0.021\n",
      "white          0.0366      0.020      1.849      0.065      -0.002       0.075\n",
      "lfaminc       -0.0339      0.010     -3.441      0.001      -0.053      -0.015\n",
      "==============================================================================\n"
     ]
    }
   ],
   "source": [
    "logit_margeff = logit_results.get_margeff(at='mean',dummy=True)\n",
    "print logit_margeff.summary()\n",
    "\n",
    "#the marginal effect of an extra year of education \n",
    "#on the probability of smoking is -.0288"
   ]
  },
  {
   "cell_type": "code",
   "execution_count": 11,
   "metadata": {},
   "outputs": [],
   "source": [
    "############# part b) iv) #############\n",
    "\n",
    "#The marginal effects in all 3 models are roughly the same.\n",
    "#It is -.0293 in the LPM, -.0311 in the Probit and -.0288 in the logit.\n",
    "#They are not exactly the same, but they are close - as expected."
   ]
  },
  {
   "cell_type": "code",
   "execution_count": null,
   "metadata": {},
   "outputs": [],
   "source": []
  }
 ],
 "metadata": {
  "kernelspec": {
   "display_name": "Python 2",
   "language": "python",
   "name": "python2"
  },
  "language_info": {
   "codemirror_mode": {
    "name": "ipython",
    "version": 2
   },
   "file_extension": ".py",
   "mimetype": "text/x-python",
   "name": "python",
   "nbconvert_exporter": "python",
   "pygments_lexer": "ipython2",
   "version": "2.7.15"
  }
 },
 "nbformat": 4,
 "nbformat_minor": 2
}
