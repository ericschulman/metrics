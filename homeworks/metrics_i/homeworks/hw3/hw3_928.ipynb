{
 "cells": [
  {
   "cell_type": "code",
   "execution_count": 2,
   "metadata": {},
   "outputs": [
    {
     "name": "stderr",
     "output_type": "stream",
     "text": [
      "/home/erichschulman/anaconda2/lib/python2.7/site-packages/statsmodels/compat/pandas.py:56: FutureWarning: The pandas.core.datetools module is deprecated and will be removed in a future version. Please use the pandas.tseries module instead.\n",
      "  from pandas.core import datetools\n"
     ]
    }
   ],
   "source": [
    "import pandas\n",
    "import math\n",
    "import numpy as np\n",
    "import matplotlib.pyplot as plt\n",
    "import statsmodels.api as sm\n",
    "\n",
    "FNAME = '../cps09mar.dta'\n",
    "df0 = pandas.read_stata(FNAME)\n",
    "\n",
    "df = df0[ (df0.race == 2) ]"
   ]
  },
  {
   "cell_type": "code",
   "execution_count": 18,
   "metadata": {},
   "outputs": [],
   "source": [
    "#part b - model set up\n",
    "\n",
    "#dropped variables Hispanic, black, Americian Indian, Asian, Mixed Race from the table in 4.1\n",
    "y = pandas.DataFrame()\n",
    "y = df['lwage']\n",
    "X = df.loc[:,('educ','exp','female')]\n",
    "X['exp_sq'] = X['exp']**2/100\n",
    "X['male*union'] = (1.0-df['female']).multiply(df['union'])\n",
    "X['female*union'] = df['female'].multiply(df['union'])\n",
    "\n",
    "#Set up marital status dummy variables/interaction effects\n",
    "maritalstatus = pandas.get_dummies(df['marital']).loc[:,(1,2,3,4,5,6)]\n",
    "maritalstatus['married'] = maritalstatus[1] +maritalstatus[2] + maritalstatus[3]\n",
    "maritalstatus['former'] = maritalstatus[4] + maritalstatus[5] +maritalstatus[6]\n",
    "X['married*male'] = (1.0-df['female']).multiply(maritalstatus['married'])\n",
    "X['married*female'] = df['female'].multiply(maritalstatus['married'])\n",
    "X['former*male'] =  (1.0-df['female']).multiply(maritalstatus['married'])\n",
    "X['former*female'] = df['female'].multiply(maritalstatus['former'])\n",
    "\n",
    "X = sm.add_constant(X)"
   ]
  },
  {
   "cell_type": "code",
   "execution_count": 19,
   "metadata": {},
   "outputs": [
    {
     "data": {
      "text/html": [
       "<table class=\"simpletable\">\n",
       "<caption>GLS Regression Results</caption>\n",
       "<tr>\n",
       "  <th>Dep. Variable:</th>          <td>lwage</td>      <th>  R-squared:         </th> <td>   0.243</td> \n",
       "</tr>\n",
       "<tr>\n",
       "  <th>Model:</th>                   <td>GLS</td>       <th>  Adj. R-squared:    </th> <td>   0.242</td> \n",
       "</tr>\n",
       "<tr>\n",
       "  <th>Method:</th>             <td>Least Squares</td>  <th>  F-statistic:       </th> <td>   182.7</td> \n",
       "</tr>\n",
       "<tr>\n",
       "  <th>Date:</th>             <td>Wed, 21 Mar 2018</td> <th>  Prob (F-statistic):</th> <td>1.25e-301</td>\n",
       "</tr>\n",
       "<tr>\n",
       "  <th>Time:</th>                 <td>22:04:38</td>     <th>  Log-Likelihood:    </th> <td> -4145.7</td> \n",
       "</tr>\n",
       "<tr>\n",
       "  <th>No. Observations:</th>      <td>  5135</td>      <th>  AIC:               </th> <td>   8311.</td> \n",
       "</tr>\n",
       "<tr>\n",
       "  <th>Df Residuals:</th>          <td>  5125</td>      <th>  BIC:               </th> <td>   8377.</td> \n",
       "</tr>\n",
       "<tr>\n",
       "  <th>Df Model:</th>              <td>     9</td>      <th>                     </th>     <td> </td>    \n",
       "</tr>\n",
       "<tr>\n",
       "  <th>Covariance Type:</th>      <td>nonrobust</td>    <th>                     </th>     <td> </td>    \n",
       "</tr>\n",
       "</table>\n",
       "<table class=\"simpletable\">\n",
       "<tr>\n",
       "         <td></td>           <th>coef</th>     <th>std err</th>      <th>t</th>      <th>P>|t|</th>  <th>[0.025</th>    <th>0.975]</th>  \n",
       "</tr>\n",
       "<tr>\n",
       "  <th>const</th>          <td>    0.8652</td> <td>    0.054</td> <td>   16.044</td> <td> 0.000</td> <td>    0.759</td> <td>    0.971</td>\n",
       "</tr>\n",
       "<tr>\n",
       "  <th>educ</th>           <td>    0.1191</td> <td>    0.003</td> <td>   35.673</td> <td> 0.000</td> <td>    0.113</td> <td>    0.126</td>\n",
       "</tr>\n",
       "<tr>\n",
       "  <th>exp</th>            <td>    0.0240</td> <td>    0.002</td> <td>   10.198</td> <td> 0.000</td> <td>    0.019</td> <td>    0.029</td>\n",
       "</tr>\n",
       "<tr>\n",
       "  <th>female</th>         <td>   -0.1196</td> <td>    0.024</td> <td>   -4.953</td> <td> 0.000</td> <td>   -0.167</td> <td>   -0.072</td>\n",
       "</tr>\n",
       "<tr>\n",
       "  <th>exp_sq</th>         <td>   -0.0339</td> <td>    0.005</td> <td>   -7.206</td> <td> 0.000</td> <td>   -0.043</td> <td>   -0.025</td>\n",
       "</tr>\n",
       "<tr>\n",
       "  <th>male*union</th>     <td>    0.1449</td> <td>    0.075</td> <td>    1.920</td> <td> 0.055</td> <td>   -0.003</td> <td>    0.293</td>\n",
       "</tr>\n",
       "<tr>\n",
       "  <th>female*union</th>   <td>   -0.0130</td> <td>    0.078</td> <td>   -0.166</td> <td> 0.868</td> <td>   -0.167</td> <td>    0.141</td>\n",
       "</tr>\n",
       "<tr>\n",
       "  <th>married*male</th>   <td>    0.0603</td> <td>    0.011</td> <td>    5.308</td> <td> 0.000</td> <td>    0.038</td> <td>    0.083</td>\n",
       "</tr>\n",
       "<tr>\n",
       "  <th>married*female</th> <td>    0.0632</td> <td>    0.025</td> <td>    2.555</td> <td> 0.011</td> <td>    0.015</td> <td>    0.112</td>\n",
       "</tr>\n",
       "<tr>\n",
       "  <th>former*male</th>    <td>    0.0603</td> <td>    0.011</td> <td>    5.308</td> <td> 0.000</td> <td>    0.038</td> <td>    0.083</td>\n",
       "</tr>\n",
       "<tr>\n",
       "  <th>former*female</th>  <td>   -0.0105</td> <td>    0.028</td> <td>   -0.371</td> <td> 0.711</td> <td>   -0.066</td> <td>    0.045</td>\n",
       "</tr>\n",
       "</table>\n",
       "<table class=\"simpletable\">\n",
       "<tr>\n",
       "  <th>Omnibus:</th>       <td>2542.558</td> <th>  Durbin-Watson:     </th> <td>   1.815</td> \n",
       "</tr>\n",
       "<tr>\n",
       "  <th>Prob(Omnibus):</th>  <td> 0.000</td>  <th>  Jarque-Bera (JB):  </th> <td>66866.453</td>\n",
       "</tr>\n",
       "<tr>\n",
       "  <th>Skew:</th>           <td>-1.811</td>  <th>  Prob(JB):          </th> <td>    0.00</td> \n",
       "</tr>\n",
       "<tr>\n",
       "  <th>Kurtosis:</th>       <td>20.303</td>  <th>  Cond. No.          </th> <td>3.67e+17</td> \n",
       "</tr>\n",
       "</table>"
      ],
      "text/plain": [
       "<class 'statsmodels.iolib.summary.Summary'>\n",
       "\"\"\"\n",
       "                            GLS Regression Results                            \n",
       "==============================================================================\n",
       "Dep. Variable:                  lwage   R-squared:                       0.243\n",
       "Model:                            GLS   Adj. R-squared:                  0.242\n",
       "Method:                 Least Squares   F-statistic:                     182.7\n",
       "Date:                Wed, 21 Mar 2018   Prob (F-statistic):          1.25e-301\n",
       "Time:                        22:04:38   Log-Likelihood:                -4145.7\n",
       "No. Observations:                5135   AIC:                             8311.\n",
       "Df Residuals:                    5125   BIC:                             8377.\n",
       "Df Model:                           9                                         \n",
       "Covariance Type:            nonrobust                                         \n",
       "==================================================================================\n",
       "                     coef    std err          t      P>|t|      [0.025      0.975]\n",
       "----------------------------------------------------------------------------------\n",
       "const              0.8652      0.054     16.044      0.000       0.759       0.971\n",
       "educ               0.1191      0.003     35.673      0.000       0.113       0.126\n",
       "exp                0.0240      0.002     10.198      0.000       0.019       0.029\n",
       "female            -0.1196      0.024     -4.953      0.000      -0.167      -0.072\n",
       "exp_sq            -0.0339      0.005     -7.206      0.000      -0.043      -0.025\n",
       "male*union         0.1449      0.075      1.920      0.055      -0.003       0.293\n",
       "female*union      -0.0130      0.078     -0.166      0.868      -0.167       0.141\n",
       "married*male       0.0603      0.011      5.308      0.000       0.038       0.083\n",
       "married*female     0.0632      0.025      2.555      0.011       0.015       0.112\n",
       "former*male        0.0603      0.011      5.308      0.000       0.038       0.083\n",
       "former*female     -0.0105      0.028     -0.371      0.711      -0.066       0.045\n",
       "==============================================================================\n",
       "Omnibus:                     2542.558   Durbin-Watson:                   1.815\n",
       "Prob(Omnibus):                  0.000   Jarque-Bera (JB):            66866.453\n",
       "Skew:                          -1.811   Prob(JB):                         0.00\n",
       "Kurtosis:                      20.303   Cond. No.                     3.67e+17\n",
       "==============================================================================\n",
       "\n",
       "Warnings:\n",
       "[1] Standard Errors assume that the covariance matrix of the errors is correctly specified.\n",
       "[2] The smallest eigenvalue is 3.3e-29. This might indicate that there are\n",
       "strong multicollinearity problems or that the design matrix is singular.\n",
       "\"\"\""
      ]
     },
     "execution_count": 19,
     "metadata": {},
     "output_type": "execute_result"
    }
   ],
   "source": [
    "#part b\n",
    "\n",
    "#There are 4 restrictions. b7=0, b8=0, b9=0, and b10=0\n",
    "\n",
    "model = sm.GLS(y,X).fit()\n",
    "model.summary()"
   ]
  },
  {
   "cell_type": "code",
   "execution_count": 21,
   "metadata": {},
   "outputs": [
    {
     "data": {
      "text/plain": [
       "'<F test: F=array([[ 6.00907376]]), p=8.04377300306e-05, df_denom=5125, df_num=4>'"
      ]
     },
     "execution_count": 21,
     "metadata": {},
     "output_type": "execute_result"
    }
   ],
   "source": [
    "#Part c-d\n",
    "\n",
    "R = [[0,0,0,0,0,0,0,1,0,0,0],[0,0,0,0,0,0,0,0,1,0,0],[0,0,0,0,0,0,0,0,0,1,0],[0,0,0,0,0,0,0,0,0,0,1]]\n",
    "wtest = model.wald_test(R)\n",
    "wtest.summary()\n",
    "\n",
    "#The P-Value is essentially 0, we can reject the null Hypothesis"
   ]
  },
  {
   "cell_type": "code",
   "execution_count": null,
   "metadata": {
    "collapsed": true
   },
   "outputs": [],
   "source": []
  }
 ],
 "metadata": {
  "kernelspec": {
   "display_name": "Python 2",
   "language": "python",
   "name": "python2"
  },
  "language_info": {
   "codemirror_mode": {
    "name": "ipython",
    "version": 2
   },
   "file_extension": ".py",
   "mimetype": "text/x-python",
   "name": "python",
   "nbconvert_exporter": "python",
   "pygments_lexer": "ipython2",
   "version": "2.7.15"
  }
 },
 "nbformat": 4,
 "nbformat_minor": 2
}
