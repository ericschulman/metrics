{
 "cells": [
  {
   "cell_type": "code",
   "execution_count": 2,
   "metadata": {},
   "outputs": [
    {
     "name": "stderr",
     "output_type": "stream",
     "text": [
      "/home/erichschulman/anaconda2/lib/python2.7/site-packages/statsmodels/compat/pandas.py:56: FutureWarning: The pandas.core.datetools module is deprecated and will be removed in a future version. Please use the pandas.tseries module instead.\n",
      "  from pandas.core import datetools\n"
     ]
    }
   ],
   "source": [
    "import pandas\n",
    "import math\n",
    "import numpy as np\n",
    "import matplotlib.pyplot as plt\n",
    "import matplotlib.mlab as mlab\n",
    "import statsmodels.api as sm\n",
    "from statsmodels.formula.api import logit, probit\n",
    "\n",
    "df = pandas.read_stata('../MROZ.DTA')"
   ]
  },
  {
   "cell_type": "code",
   "execution_count": 3,
   "metadata": {},
   "outputs": [
    {
     "name": "stdout",
     "output_type": "stream",
     "text": [
      "['inlf', 'hours', 'kidslt6', 'kidsge6', 'age', 'educ', 'wage', 'repwage', 'hushrs', 'husage', 'huseduc', 'huswage', 'faminc', 'mtr', 'motheduc', 'fatheduc', 'unem', 'city', 'exper', 'nwifeinc', 'lwage', 'expersq']\n"
     ]
    }
   ],
   "source": [
    "print list(df)"
   ]
  },
  {
   "cell_type": "code",
   "execution_count": 5,
   "metadata": {},
   "outputs": [
    {
     "name": "stdout",
     "output_type": "stream",
     "text": [
      "Optimization terminated successfully.\n",
      "         Current function value: 0.593028\n",
      "         Iterations 5\n"
     ]
    },
    {
     "data": {
      "text/html": [
       "<table class=\"simpletable\">\n",
       "<caption>Probit Regression Results</caption>\n",
       "<tr>\n",
       "  <th>Dep. Variable:</th>    <td>participate</td>   <th>  No. Observations:  </th>  <td>   753</td>  \n",
       "</tr>\n",
       "<tr>\n",
       "  <th>Model:</th>              <td>Probit</td>      <th>  Df Residuals:      </th>  <td>   748</td>  \n",
       "</tr>\n",
       "<tr>\n",
       "  <th>Method:</th>               <td>MLE</td>       <th>  Df Model:          </th>  <td>     4</td>  \n",
       "</tr>\n",
       "<tr>\n",
       "  <th>Date:</th>          <td>Tue, 24 Apr 2018</td> <th>  Pseudo R-squ.:     </th>  <td>0.1327</td>  \n",
       "</tr>\n",
       "<tr>\n",
       "  <th>Time:</th>              <td>20:23:28</td>     <th>  Log-Likelihood:    </th> <td> -446.55</td> \n",
       "</tr>\n",
       "<tr>\n",
       "  <th>converged:</th>           <td>True</td>       <th>  LL-Null:           </th> <td> -514.87</td> \n",
       "</tr>\n",
       "<tr>\n",
       "  <th> </th>                      <td> </td>        <th>  LLR p-value:       </th> <td>1.475e-28</td>\n",
       "</tr>\n",
       "</table>\n",
       "<table class=\"simpletable\">\n",
       "<tr>\n",
       "      <td></td>         <th>coef</th>     <th>std err</th>      <th>z</th>      <th>P>|z|</th>  <th>[0.025</th>    <th>0.975]</th>  \n",
       "</tr>\n",
       "<tr>\n",
       "  <th>Intercept</th> <td>   -0.5153</td> <td>    0.143</td> <td>   -3.611</td> <td> 0.000</td> <td>   -0.795</td> <td>   -0.236</td>\n",
       "</tr>\n",
       "<tr>\n",
       "  <th>kidslt6</th>   <td>   -0.4194</td> <td>    0.098</td> <td>   -4.292</td> <td> 0.000</td> <td>   -0.611</td> <td>   -0.228</td>\n",
       "</tr>\n",
       "<tr>\n",
       "  <th>exper</th>     <td>    0.1318</td> <td>    0.018</td> <td>    7.428</td> <td> 0.000</td> <td>    0.097</td> <td>    0.167</td>\n",
       "</tr>\n",
       "<tr>\n",
       "  <th>expersq</th>   <td>   -0.0027</td> <td>    0.001</td> <td>   -4.716</td> <td> 0.000</td> <td>   -0.004</td> <td>   -0.002</td>\n",
       "</tr>\n",
       "<tr>\n",
       "  <th>huswage</th>   <td>   -0.0150</td> <td>    0.011</td> <td>   -1.306</td> <td> 0.192</td> <td>   -0.037</td> <td>    0.008</td>\n",
       "</tr>\n",
       "</table>"
      ],
      "text/plain": [
       "<class 'statsmodels.iolib.summary.Summary'>\n",
       "\"\"\"\n",
       "                          Probit Regression Results                           \n",
       "==============================================================================\n",
       "Dep. Variable:            participate   No. Observations:                  753\n",
       "Model:                         Probit   Df Residuals:                      748\n",
       "Method:                           MLE   Df Model:                            4\n",
       "Date:                Tue, 24 Apr 2018   Pseudo R-squ.:                  0.1327\n",
       "Time:                        20:23:28   Log-Likelihood:                -446.55\n",
       "converged:                       True   LL-Null:                       -514.87\n",
       "                                        LLR p-value:                 1.475e-28\n",
       "==============================================================================\n",
       "                 coef    std err          z      P>|z|      [0.025      0.975]\n",
       "------------------------------------------------------------------------------\n",
       "Intercept     -0.5153      0.143     -3.611      0.000      -0.795      -0.236\n",
       "kidslt6       -0.4194      0.098     -4.292      0.000      -0.611      -0.228\n",
       "exper          0.1318      0.018      7.428      0.000       0.097       0.167\n",
       "expersq       -0.0027      0.001     -4.716      0.000      -0.004      -0.002\n",
       "huswage       -0.0150      0.011     -1.306      0.192      -0.037       0.008\n",
       "==============================================================================\n",
       "\"\"\""
      ]
     },
     "execution_count": 5,
     "metadata": {},
     "output_type": "execute_result"
    }
   ],
   "source": [
    "#Using the data in MROZ.DTA estimate each of these models for hours (you pick\n",
    "#covariates that you think are appropriate) and see if the estimates satisfy the\n",
    "#conditions that you have derived.\n",
    "\n",
    "X = df.loc[:,['kidslt6','exper','expersq','huswage','wage','hours']]\n",
    "X['participate']  = (df['hours'] > 0).astype(int)\n",
    "X = sm.add_constant(X)\n",
    "X.dropna()\n",
    "model1 = probit('participate~kidslt6+exper+expersq+huswage',X)\n",
    "result1 = model1.fit()\n",
    "result1.summary()"
   ]
  },
  {
   "cell_type": "code",
   "execution_count": null,
   "metadata": {
    "collapsed": true
   },
   "outputs": [],
   "source": [
    "#tobit\n"
   ]
  },
  {
   "cell_type": "code",
   "execution_count": null,
   "metadata": {
    "collapsed": true
   },
   "outputs": [],
   "source": [
    "#mle with heckit"
   ]
  }
 ],
 "metadata": {
  "kernelspec": {
   "display_name": "Python 2",
   "language": "python",
   "name": "python2"
  },
  "language_info": {
   "codemirror_mode": {
    "name": "ipython",
    "version": 2
   },
   "file_extension": ".py",
   "mimetype": "text/x-python",
   "name": "python",
   "nbconvert_exporter": "python",
   "pygments_lexer": "ipython2",
   "version": "2.7.14"
  }
 },
 "nbformat": 4,
 "nbformat_minor": 2
}
