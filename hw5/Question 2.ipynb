{
 "cells": [
  {
   "cell_type": "code",
   "execution_count": 2,
   "metadata": {},
   "outputs": [
    {
     "name": "stderr",
     "output_type": "stream",
     "text": [
      "/home/erichschulman/anaconda2/lib/python2.7/site-packages/statsmodels/compat/pandas.py:56: FutureWarning: The pandas.core.datetools module is deprecated and will be removed in a future version. Please use the pandas.tseries module instead.\n",
      "  from pandas.core import datetools\n"
     ]
    }
   ],
   "source": [
    "import pandas\n",
    "import math\n",
    "import numpy as np\n",
    "import matplotlib.pyplot as plt\n",
    "import matplotlib.mlab as mlab\n",
    "import statsmodels.api as sm\n",
    "import statsmodels.formula.api as smf"
   ]
  },
  {
   "cell_type": "code",
   "execution_count": 5,
   "metadata": {},
   "outputs": [
    {
     "name": "stdout",
     "output_type": "stream",
     "text": [
      "['nr', 'year', 'agric', 'black', 'bus', 'construc', 'ent', 'exper', 'fin', 'hisp', 'poorhlth', 'hours', 'manuf', 'married', 'min', 'nrthcen', 'nrtheast', 'occ1', 'occ2', 'occ3', 'occ4', 'occ5', 'occ6', 'occ7', 'occ8', 'occ9', 'per', 'pro', 'pub', 'rur', 'south', 'educ', 'tra', 'trad', 'union', 'lwage', 'd81', 'd82', 'd83', 'd84', 'd85', 'd86', 'd87', 'expersq']\n"
     ]
    }
   ],
   "source": [
    "#Using the data in wagepan.dta estimate the wage equation using the explanatory vari-\n",
    "#ables: exper, expersq, educ, union, black, poohlth. Use each of the estimators consid-\n",
    "#ered in class (OLS, FE, RE) and compute appropriate standard errors. Also compute\n",
    "#the Hausman test that tests the assumption that the regressors are uncorrelated with\n",
    "#the \\ xed e ect\". Re-do the results using year dummy variables.\n",
    "\n",
    "df = pandas.read_stata('../wagepan.dta')\n",
    "print list(df)"
   ]
  },
  {
   "cell_type": "code",
   "execution_count": 38,
   "metadata": {},
   "outputs": [
    {
     "name": "stdout",
     "output_type": "stream",
     "text": [
      "nr          1.222308e+07\n",
      "lwage       2.836725e-01\n",
      "exper       7.985775e+00\n",
      "expersq     1.663174e+03\n",
      "educ        3.049150e+00\n",
      "union       1.845252e-01\n",
      "black       1.022587e-01\n",
      "poorhlth    1.668935e-02\n",
      "d81         1.094001e-01\n",
      "d82         1.094001e-01\n",
      "d83         1.094001e-01\n",
      "d84         1.094001e-01\n",
      "d85         1.094001e-01\n",
      "d86         1.094001e-01\n",
      "d87         1.094001e-01\n",
      "dtype: float32\n"
     ]
    },
    {
     "ename": "NameError",
     "evalue": "name 'method' is not defined",
     "output_type": "error",
     "traceback": [
      "\u001b[0;31m---------------------------------------------------------------------------\u001b[0m",
      "\u001b[0;31mNameError\u001b[0m                                 Traceback (most recent call last)",
      "\u001b[0;32m<ipython-input-38-fdd324276f2b>\u001b[0m in \u001b[0;36m<module>\u001b[0;34m()\u001b[0m\n\u001b[1;32m      5\u001b[0m model1 = smf.mixedlm('lwage~exper+expersq+educ+union+black+poorhlth',X,\n\u001b[1;32m      6\u001b[0m                    groups=X['nr'])\n\u001b[0;32m----> 7\u001b[0;31m \u001b[0mresult1\u001b[0m \u001b[0;34m=\u001b[0m \u001b[0mmodel\u001b[0m\u001b[0;34m.\u001b[0m\u001b[0mfit\u001b[0m\u001b[0;34m(\u001b[0m\u001b[0mmethod\u001b[0m\u001b[0;34m=\u001b[0m\u001b[0mmethod\u001b[0m\u001b[0;34m,\u001b[0m \u001b[0mstart_params\u001b[0m\u001b[0;34m=\u001b[0m\u001b[0;34m(\u001b[0m\u001b[0mnaive_start_params\u001b[0m \u001b[0;32mif\u001b[0m \u001b[0muse_start_params\u001b[0m \u001b[0;32melse\u001b[0m \u001b[0mNone\u001b[0m\u001b[0;34m)\u001b[0m\u001b[0;34m)\u001b[0m\u001b[0;34m\u001b[0m\u001b[0m\n\u001b[0m\u001b[1;32m      8\u001b[0m \u001b[0mresult1\u001b[0m\u001b[0;34m.\u001b[0m\u001b[0mmle_retvals\u001b[0m\u001b[0;34m\u001b[0m\u001b[0m\n",
      "\u001b[0;31mNameError\u001b[0m: name 'method' is not defined"
     ]
    }
   ],
   "source": [
    "X = df.loc[:,['nr','lwage','exper', 'expersq', 'educ', 'union', 'black',\n",
    "              'poorhlth','d81', 'd82', 'd83', 'd84', 'd85', 'd86', 'd87']]\n",
    "X = X.dropna()\n",
    "print X.var()\n",
    "model1 = smf.mixedlm('lwage~exper+expersq+educ+union+black+poorhlth',X,\n",
    "                   groups=X['nr'])\n",
    "result1 = model.fit(start_params=(naive_start_params if use_start_params else None))\n",
    "result1.mle_retvals"
   ]
  },
  {
   "cell_type": "code",
   "execution_count": null,
   "metadata": {},
   "outputs": [],
   "source": []
  },
  {
   "cell_type": "code",
   "execution_count": null,
   "metadata": {
    "collapsed": true
   },
   "outputs": [],
   "source": []
  }
 ],
 "metadata": {
  "kernelspec": {
   "display_name": "Python 2",
   "language": "python",
   "name": "python2"
  },
  "language_info": {
   "codemirror_mode": {
    "name": "ipython",
    "version": 2
   },
   "file_extension": ".py",
   "mimetype": "text/x-python",
   "name": "python",
   "nbconvert_exporter": "python",
   "pygments_lexer": "ipython2",
   "version": "2.7.14"
  }
 },
 "nbformat": 4,
 "nbformat_minor": 2
}
