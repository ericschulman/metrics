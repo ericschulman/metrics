{
 "cells": [
  {
   "cell_type": "markdown",
   "metadata": {},
   "source": [
    "# Question 3.23"
   ]
  },
  {
   "cell_type": "code",
   "execution_count": 5,
   "metadata": {},
   "outputs": [],
   "source": [
    "import pandas as pd\n",
    "import numpy as np\n",
    "import matplotlib.pyplot as plt\n",
    "import statsmodels.api as sm"
   ]
  },
  {
   "cell_type": "markdown",
   "metadata": {},
   "source": [
    "Read data from the path `../data/cps09mar.dta`"
   ]
  },
  {
   "cell_type": "code",
   "execution_count": 6,
   "metadata": {},
   "outputs": [],
   "source": [
    "data_path = \"../data/\"\n",
    "df = pd.read_stata(data_path+'cps09mar.dta')"
   ]
  },
  {
   "cell_type": "markdown",
   "metadata": {},
   "source": [
    "Filter matrix and load it into memory"
   ]
  },
  {
   "cell_type": "code",
   "execution_count": 7,
   "metadata": {},
   "outputs": [
    {
     "name": "stdout",
     "output_type": "stream",
     "text": [
      "4230\n"
     ]
    }
   ],
   "source": [
    "X = df[ (df.female == 0) & (df.hisp == 1) & (df.race == 1) ]\n",
    "print(X['educ'].count())\n",
    "y = X['lwage']"
   ]
  },
  {
   "cell_type": "markdown",
   "metadata": {},
   "source": [
    "* Start by doing a regression of $x_1$ and $x_2$ on $y$. \n",
    "* In this case, $x_1$ is educ\n",
    "* $x_2$ is experience and its square\n",
    "* $y$ is lwage"
   ]
  },
  {
   "cell_type": "code",
   "execution_count": 12,
   "metadata": {},
   "outputs": [
    {
     "name": "stdout",
     "output_type": "stream",
     "text": [
      "                            OLS Regression Results                            \n",
      "==============================================================================\n",
      "Dep. Variable:                  lwage   R-squared:                       0.218\n",
      "Model:                            OLS   Adj. R-squared:                  0.217\n",
      "Method:                 Least Squares   F-statistic:                     588.6\n",
      "Date:                Mon, 26 Oct 2020   Prob (F-statistic):          3.15e-226\n",
      "Time:                        17:16:07   Log-Likelihood:                -3693.6\n",
      "No. Observations:                4230   AIC:                             7393.\n",
      "Df Residuals:                    4227   BIC:                             7412.\n",
      "Df Model:                           2                                         \n",
      "Covariance Type:            nonrobust                                         \n",
      "==============================================================================\n",
      "                 coef    std err          t      P>|t|      [0.025      0.975]\n",
      "------------------------------------------------------------------------------\n",
      "const          1.3505      0.041     32.594      0.000       1.269       1.432\n",
      "educ           0.0928      0.003     33.703      0.000       0.087       0.098\n",
      "exp            0.0133      0.001     16.983      0.000       0.012       0.015\n",
      "==============================================================================\n",
      "Omnibus:                     1507.130   Durbin-Watson:                   1.768\n",
      "Prob(Omnibus):                  0.000   Jarque-Bera (JB):            31248.222\n",
      "Skew:                          -1.187   Prob(JB):                         0.00\n",
      "Kurtosis:                      16.102   Cond. No.                         123.\n",
      "==============================================================================\n",
      "\n",
      "Warnings:\n",
      "[1] Standard Errors assume that the covariance matrix of the errors is correctly specified.\n"
     ]
    }
   ],
   "source": [
    "X1 = X[['educ','exp']]\n",
    "X1 = sm.add_constant(X1)\n",
    "model1 = sm.OLS(y,X1).fit()\n",
    "print(model1.summary())"
   ]
  },
  {
   "cell_type": "markdown",
   "metadata": {},
   "source": [
    "Now $Z= X_1 -X_2$"
   ]
  },
  {
   "cell_type": "code",
   "execution_count": 17,
   "metadata": {},
   "outputs": [
    {
     "name": "stdout",
     "output_type": "stream",
     "text": [
      "112      29\n",
      "267     -11\n",
      "271      -6\n",
      "460      -3\n",
      "461      25\n",
      "         ..\n",
      "50635     9\n",
      "50643    26\n",
      "50659    17\n",
      "50670    15\n",
      "50703    21\n",
      "Name: exp-educ, Length: 4230, dtype: object\n",
      "                            OLS Regression Results                            \n",
      "==============================================================================\n",
      "Dep. Variable:                  lwage   R-squared:                       0.218\n",
      "Model:                            OLS   Adj. R-squared:                  0.217\n",
      "Method:                 Least Squares   F-statistic:                     588.6\n",
      "Date:                Mon, 26 Oct 2020   Prob (F-statistic):          3.15e-226\n",
      "Time:                        17:19:29   Log-Likelihood:                -3693.6\n",
      "No. Observations:                4230   AIC:                             7393.\n",
      "Df Residuals:                    4227   BIC:                             7412.\n",
      "Df Model:                           2                                         \n",
      "Covariance Type:            nonrobust                                         \n",
      "==============================================================================\n",
      "                 coef    std err          t      P>|t|      [0.025      0.975]\n",
      "------------------------------------------------------------------------------\n",
      "const          1.3505      0.041     32.594      0.000       1.269       1.432\n",
      "exp            0.1060      0.003     34.262      0.000       0.100       0.112\n",
      "exp-educ      -0.0928      0.003    -33.703      0.000      -0.098      -0.087\n",
      "==============================================================================\n",
      "Omnibus:                     1507.130   Durbin-Watson:                   1.768\n",
      "Prob(Omnibus):                  0.000   Jarque-Bera (JB):            31248.222\n",
      "Skew:                          -1.187   Prob(JB):                         0.00\n",
      "Kurtosis:                      16.102   Cond. No.                         135.\n",
      "==============================================================================\n",
      "\n",
      "Warnings:\n",
      "[1] Standard Errors assume that the covariance matrix of the errors is correctly specified.\n"
     ]
    },
    {
     "name": "stderr",
     "output_type": "stream",
     "text": [
      "/home/erichschulman/anaconda3/lib/python3.7/site-packages/ipykernel_launcher.py:2: SettingWithCopyWarning: \n",
      "A value is trying to be set on a copy of a slice from a DataFrame.\n",
      "Try using .loc[row_indexer,col_indexer] = value instead\n",
      "\n",
      "See the caveats in the documentation: http://pandas.pydata.org/pandas-docs/stable/user_guide/indexing.html#returning-a-view-versus-a-copy\n",
      "  \n"
     ]
    }
   ],
   "source": [
    "X2 = X[['exp']]\n",
    "X2['exp-educ'] = (X['exp'] - X['educ'])\n",
    "X2 = sm.add_constant(X2)\n",
    "model2 = sm.OLS(y,X2.astype(float)).fit()\n",
    "print(model2.summary())\n"
   ]
  },
  {
   "cell_type": "code",
   "execution_count": null,
   "metadata": {},
   "outputs": [],
   "source": []
  }
 ],
 "metadata": {
  "kernelspec": {
   "display_name": "Python 3 (ipykernel)",
   "language": "python",
   "name": "python3"
  },
  "language_info": {
   "codemirror_mode": {
    "name": "ipython",
    "version": 3
   },
   "file_extension": ".py",
   "mimetype": "text/x-python",
   "name": "python",
   "nbconvert_exporter": "python",
   "pygments_lexer": "ipython3",
   "version": "3.9.7"
  }
 },
 "nbformat": 4,
 "nbformat_minor": 2
}
