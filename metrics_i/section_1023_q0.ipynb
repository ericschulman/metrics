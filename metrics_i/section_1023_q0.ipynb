{
 "cells": [
  {
   "cell_type": "markdown",
   "metadata": {},
   "source": [
    "# Question 3.22"
   ]
  },
  {
   "cell_type": "code",
   "execution_count": 1,
   "metadata": {},
   "outputs": [],
   "source": [
    "import pandas as pd\n",
    "import numpy as np\n",
    "import matplotlib.pyplot as plt\n",
    "import statsmodels.api as sm"
   ]
  },
  {
   "cell_type": "markdown",
   "metadata": {},
   "source": [
    "Read data from the path `../data/cps09mar.dta`"
   ]
  },
  {
   "cell_type": "code",
   "execution_count": 2,
   "metadata": {},
   "outputs": [],
   "source": [
    "data_path = \"../data/\"\n",
    "df = pd.read_stata(data_path+'cps09mar.dta')"
   ]
  },
  {
   "cell_type": "markdown",
   "metadata": {},
   "source": [
    "Filter matrix and load it into memory"
   ]
  },
  {
   "cell_type": "code",
   "execution_count": 3,
   "metadata": {},
   "outputs": [
    {
     "name": "stdout",
     "output_type": "stream",
     "text": [
      "4230\n"
     ]
    }
   ],
   "source": [
    "X = df[ (df.female == 0) & (df.hisp == 1) & (df.race == 1) ]\n",
    "print(X['educ'].count())\n",
    "y = X['lwage']"
   ]
  },
  {
   "cell_type": "markdown",
   "metadata": {},
   "source": [
    "* Start by doing a regression of $x_1$ and $x_2$ on $y$. \n",
    "* In this case, $x_1$ is educ\n",
    "* $x_2$ is experience and its square\n",
    "* $y$ is lwage"
   ]
  },
  {
   "cell_type": "code",
   "execution_count": 4,
   "metadata": {},
   "outputs": [
    {
     "name": "stdout",
     "output_type": "stream",
     "text": [
      "                            OLS Regression Results                            \n",
      "==============================================================================\n",
      "Dep. Variable:                  lwage   R-squared:                       0.233\n",
      "Model:                            OLS   Adj. R-squared:                  0.233\n",
      "Method:                 Least Squares   F-statistic:                     428.8\n",
      "Date:                Fri, 23 Oct 2020   Prob (F-statistic):          3.57e-243\n",
      "Time:                        16:36:12   Log-Likelihood:                -3651.2\n",
      "No. Observations:                4230   AIC:                             7310.\n",
      "Df Residuals:                    4226   BIC:                             7336.\n",
      "Df Model:                           3                                         \n",
      "Covariance Type:            nonrobust                                         \n",
      "==============================================================================\n",
      "                 coef    std err          t      P>|t|      [0.025      0.975]\n",
      "------------------------------------------------------------------------------\n",
      "const          1.1852      0.045     26.488      0.000       1.097       1.273\n",
      "educ           0.0904      0.003     33.051      0.000       0.085       0.096\n",
      "exp            0.0354      0.003     14.083      0.000       0.030       0.040\n",
      "exp_sq        -0.0005   5.03e-05     -9.251      0.000      -0.001      -0.000\n",
      "==============================================================================\n",
      "Omnibus:                     1562.688   Durbin-Watson:                   1.770\n",
      "Prob(Omnibus):                  0.000   Jarque-Bera (JB):            34837.483\n",
      "Skew:                          -1.229   Prob(JB):                         0.00\n",
      "Kurtosis:                      16.843   Cond. No.                     4.31e+03\n",
      "==============================================================================\n",
      "\n",
      "Warnings:\n",
      "[1] Standard Errors assume that the covariance matrix of the errors is correctly specified.\n",
      "[2] The condition number is large, 4.31e+03. This might indicate that there are\n",
      "strong multicollinearity or other numerical problems.\n"
     ]
    },
    {
     "name": "stderr",
     "output_type": "stream",
     "text": [
      "/home/erichschulman/anaconda3/lib/python3.7/site-packages/numpy/core/fromnumeric.py:2495: FutureWarning: Method .ptp is deprecated and will be removed in a future version. Use numpy.ptp instead.\n",
      "  return ptp(axis=axis, out=out, **kwargs)\n"
     ]
    }
   ],
   "source": [
    "X1 = X.loc[:,('educ','exp')]\n",
    "X1['exp_sq'] = X1['exp']**2\n",
    "X1 = sm.add_constant(X1)\n",
    "model1 = sm.OLS(y,X1).fit()\n",
    "print(model1.summary())"
   ]
  },
  {
   "cell_type": "markdown",
   "metadata": {},
   "source": [
    "You estimate a least-squares regression. In this case $x_{1i}$ is experience and experience squared.\n",
    "\n",
    "$$y_i = x_{1i}' \\tilde{\\beta}_1 + \\tilde{u}_i $$"
   ]
  },
  {
   "cell_type": "code",
   "execution_count": 5,
   "metadata": {},
   "outputs": [
    {
     "name": "stdout",
     "output_type": "stream",
     "text": [
      "                            OLS Regression Results                            \n",
      "==============================================================================\n",
      "Dep. Variable:                  lwage   R-squared:                       0.035\n",
      "Model:                            OLS   Adj. R-squared:                  0.035\n",
      "Method:                 Least Squares   F-statistic:                     77.07\n",
      "Date:                Fri, 23 Oct 2020   Prob (F-statistic):           1.33e-33\n",
      "Time:                        16:37:17   Log-Likelihood:                -4137.4\n",
      "No. Observations:                4230   AIC:                             8281.\n",
      "Df Residuals:                    4227   BIC:                             8300.\n",
      "Df Model:                           2                                         \n",
      "Covariance Type:            nonrobust                                         \n",
      "==============================================================================\n",
      "                 coef    std err          t      P>|t|      [0.025      0.975]\n",
      "------------------------------------------------------------------------------\n",
      "const          2.3471      0.031     75.594      0.000       2.286       2.408\n",
      "exp            0.0344      0.003     12.195      0.000       0.029       0.040\n",
      "exp_sq        -0.0006   5.62e-05    -10.986      0.000      -0.001      -0.001\n",
      "==============================================================================\n",
      "Omnibus:                      965.638   Durbin-Watson:                   1.692\n",
      "Prob(Omnibus):                  0.000   Jarque-Bera (JB):            16245.042\n",
      "Skew:                          -0.633   Prob(JB):                         0.00\n",
      "Kurtosis:                      12.517   Cond. No.                     2.67e+03\n",
      "==============================================================================\n",
      "\n",
      "Warnings:\n",
      "[1] Standard Errors assume that the covariance matrix of the errors is correctly specified.\n",
      "[2] The condition number is large, 2.67e+03. This might indicate that there are\n",
      "strong multicollinearity or other numerical problems.\n"
     ]
    }
   ],
   "source": [
    "X2 = X1.loc[:,('exp','exp_sq')]\n",
    "X2 = sm.add_constant(X2)\n",
    "model2 = sm.OLS(y,X2).fit()\n",
    "print(model2.summary())\n",
    "\n",
    "#actual test part c\n",
    "u = model2.resid"
   ]
  },
  {
   "cell_type": "markdown",
   "metadata": {},
   "source": [
    "Then regress the residuals on another set of regressors. In this case it's education.\n",
    "\n",
    "$$\\tilde{u}_i = x_{2i}' \\tilde{\\beta}_2 + \\tilde{e}_i$$"
   ]
  },
  {
   "cell_type": "code",
   "execution_count": 6,
   "metadata": {},
   "outputs": [
    {
     "name": "stdout",
     "output_type": "stream",
     "text": [
      "                                 OLS Regression Results                                \n",
      "=======================================================================================\n",
      "Dep. Variable:                      y   R-squared (uncentered):                   0.015\n",
      "Model:                            OLS   Adj. R-squared (uncentered):              0.014\n",
      "Method:                 Least Squares   F-statistic:                              62.55\n",
      "Date:                Fri, 23 Oct 2020   Prob (F-statistic):                    3.29e-15\n",
      "Time:                        16:37:20   Log-Likelihood:                         -4106.4\n",
      "No. Observations:                4230   AIC:                                      8215.\n",
      "Df Residuals:                    4229   BIC:                                      8221.\n",
      "Df Model:                           1                                                  \n",
      "Covariance Type:            nonrobust                                                  \n",
      "==============================================================================\n",
      "                 coef    std err          t      P>|t|      [0.025      0.975]\n",
      "------------------------------------------------------------------------------\n",
      "educ           0.0064      0.001      7.909      0.000       0.005       0.008\n",
      "==============================================================================\n",
      "Omnibus:                     1018.817   Durbin-Watson:                   1.674\n",
      "Prob(Omnibus):                  0.000   Jarque-Bera (JB):            17892.617\n",
      "Skew:                          -0.683   Prob(JB):                         0.00\n",
      "Kurtosis:                      12.983   Cond. No.                         1.00\n",
      "==============================================================================\n",
      "\n",
      "Warnings:\n",
      "[1] Standard Errors assume that the covariance matrix of the errors is correctly specified.\n"
     ]
    }
   ],
   "source": [
    "model3 = sm.OLS(u,X1['educ']).fit()\n",
    "print(model3.summary())"
   ]
  },
  {
   "cell_type": "markdown",
   "metadata": {},
   "source": []
  }
 ],
 "metadata": {
  "kernelspec": {
   "display_name": "Python 3",
   "language": "python",
   "name": "python3"
  },
  "language_info": {
   "codemirror_mode": {
    "name": "ipython",
    "version": 3
   },
   "file_extension": ".py",
   "mimetype": "text/x-python",
   "name": "python",
   "nbconvert_exporter": "python",
   "pygments_lexer": "ipython3",
   "version": "3.7.4"
  }
 },
 "nbformat": 4,
 "nbformat_minor": 2
}
