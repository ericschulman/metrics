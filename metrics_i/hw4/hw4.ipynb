{
 "cells": [
  {
   "cell_type": "code",
   "execution_count": 47,
   "metadata": {},
   "outputs": [],
   "source": [
    "import pandas\n",
    "import math\n",
    "import numpy as np\n",
    "import matplotlib.pyplot as plt\n",
    "import statsmodels.api as sm\n",
    "from statsmodels.sandbox.regression.gmm import IVGMM\n",
    "from statsmodels.sandbox.regression.gmm import IV2SLS\n",
    "\n",
    "df = pandas.read_stata('../Card1995.dta')"
   ]
  },
  {
   "cell_type": "code",
   "execution_count": 48,
   "metadata": {
    "collapsed": true
   },
   "outputs": [],
   "source": [
    "#set up data\n",
    "X = pandas.DataFrame()\n",
    "X['lwage'] = df['lwage76']*1.0\n",
    "X['south'] = df['reg76r']*1.0\n",
    "X['urban'] = df['smsa76r']*1.0\n",
    "X['black'] = df['black']*1.0\n",
    "X['exp'] = (1.0*df['age76'] - 6.0).add(-1.0*df['ed76'])\n",
    "X['exp_sq'] = (X['exp']**2)/100\n",
    "X['nearc4a'] = df['nearc4a']*1.0\n",
    "X['nearc4b'] = df['nearc4b']*1.0\n",
    "X['educ'] = df['ed76']\n",
    "X = sm.add_constant(X)"
   ]
  },
  {
   "cell_type": "code",
   "execution_count": 49,
   "metadata": {},
   "outputs": [
    {
     "name": "stdout",
     "output_type": "stream",
     "text": [
      "                            OLS Regression Results                            \n",
      "==============================================================================\n",
      "Dep. Variable:                   educ   R-squared:                       0.476\n",
      "Model:                            OLS   Adj. R-squared:                  0.475\n",
      "Method:                 Least Squares   F-statistic:                     390.0\n",
      "Date:                Mon, 02 Apr 2018   Prob (F-statistic):               0.00\n",
      "Time:                        21:20:31   Log-Likelihood:                -6261.0\n",
      "No. Observations:                3010   AIC:                         1.254e+04\n",
      "Df Residuals:                    3002   BIC:                         1.259e+04\n",
      "Df Model:                           7                                         \n",
      "Covariance Type:            nonrobust                                         \n",
      "==============================================================================\n",
      "                 coef    std err          t      P>|t|      [0.025      0.975]\n",
      "------------------------------------------------------------------------------\n",
      "const         16.6573      0.176     94.579      0.000      16.312      17.003\n",
      "south         -0.2671      0.079     -3.361      0.001      -0.423      -0.111\n",
      "urban          0.3998      0.085      4.716      0.000       0.234       0.566\n",
      "black         -1.0063      0.090    -11.243      0.000      -1.182      -0.831\n",
      "exp           -0.4133      0.034    -12.278      0.000      -0.479      -0.347\n",
      "exp_sq         0.0928      0.165      0.563      0.574      -0.230       0.416\n",
      "nearc4a        0.4304      0.087      4.926      0.000       0.259       0.602\n",
      "nearc4b        0.1226      0.106      1.154      0.249      -0.086       0.331\n",
      "==============================================================================\n",
      "Omnibus:                       12.456   Durbin-Watson:                   1.767\n",
      "Prob(Omnibus):                  0.002   Jarque-Bera (JB):               12.583\n",
      "Skew:                           0.158   Prob(JB):                      0.00185\n",
      "Kurtosis:                       2.969   Cond. No.                         64.2\n",
      "==============================================================================\n",
      "\n",
      "Warnings:\n",
      "[1] Standard Errors assume that the covariance matrix of the errors is correctly specified.\n"
     ]
    }
   ],
   "source": [
    "#Part a - run stage 1 model (table 11.32)\n",
    "\n",
    "#set up variables\n",
    "X_clean = X.dropna()\n",
    "y = X_clean['lwage']\n",
    "X_a =  X_clean[['const','south','urban','black','exp','exp_sq','educ']]\n",
    "I_a = X_clean[['const','south','urban','black','exp','exp_sq','nearc4a','nearc4b']]\n",
    "\n",
    "#Reduced form stage 1\n",
    "model_a_s1 = sm.OLS(X_clean['educ'],I_a).fit()\n",
    "print model_a_s1.summary()"
   ]
  },
  {
   "cell_type": "code",
   "execution_count": 50,
   "metadata": {},
   "outputs": [
    {
     "name": "stdout",
     "output_type": "stream",
     "text": [
      "                          IV2SLS Regression Results                           \n",
      "==============================================================================\n",
      "Dep. Variable:                  lwage   R-squared:                       0.145\n",
      "Model:                         IV2SLS   Adj. R-squared:                  0.143\n",
      "Method:                     Two Stage   F-statistic:                     111.0\n",
      "                        Least Squares   Prob (F-statistic):          9.63e-127\n",
      "Date:                Mon, 02 Apr 2018                                         \n",
      "Time:                        21:20:32                                         \n",
      "No. Observations:                3010                                         \n",
      "Df Residuals:                    3003                                         \n",
      "Df Model:                           6                                         \n",
      "==============================================================================\n",
      "                 coef    std err          t      P>|t|      [0.025      0.975]\n",
      "------------------------------------------------------------------------------\n",
      "const          3.2680      0.687      4.756      0.000       1.921       4.615\n",
      "south         -0.0950      0.022     -4.389      0.000      -0.137      -0.053\n",
      "urban          0.1164      0.027      4.305      0.000       0.063       0.169\n",
      "black         -0.1017      0.045     -2.245      0.025      -0.191      -0.013\n",
      "exp            0.1193      0.018      6.564      0.000       0.084       0.155\n",
      "exp_sq        -0.2305      0.035     -6.582      0.000      -0.299      -0.162\n",
      "educ           0.1611      0.041      3.951      0.000       0.081       0.241\n",
      "==============================================================================\n",
      "Omnibus:                       41.821   Durbin-Watson:                   1.866\n",
      "Prob(Omnibus):                  0.000   Jarque-Bera (JB):               49.739\n",
      "Skew:                          -0.221   Prob(JB):                     1.58e-11\n",
      "Kurtosis:                       3.448   Cond. No.                         164.\n",
      "==============================================================================\n"
     ]
    }
   ],
   "source": [
    "#Stage 2\n",
    "model_a = IV2SLS(y,X_a,instrument=I_a).fit()\n",
    "print model_a.summary()"
   ]
  },
  {
   "cell_type": "code",
   "execution_count": 51,
   "metadata": {},
   "outputs": [
    {
     "name": "stdout",
     "output_type": "stream",
     "text": [
      "                          IV2SLS Regression Results                           \n",
      "==============================================================================\n",
      "Dep. Variable:                  lwage   R-squared:                       0.145\n",
      "Model:                         IV2SLS   Adj. R-squared:                  0.143\n",
      "Method:                     Two Stage   F-statistic:                     111.0\n",
      "                        Least Squares   Prob (F-statistic):          9.63e-127\n",
      "Date:                Mon, 02 Apr 2018                                         \n",
      "Time:                        21:20:32                                         \n",
      "No. Observations:                3010                                         \n",
      "Df Residuals:                    3003                                         \n",
      "Df Model:                           6                                         \n",
      "==============================================================================\n",
      "                 coef    std err          t      P>|t|      [0.025      0.975]\n",
      "------------------------------------------------------------------------------\n",
      "const          3.2680      0.687      4.756      0.000       1.921       4.615\n",
      "south         -0.0950      0.022     -4.389      0.000      -0.137      -0.053\n",
      "urban          0.1164      0.027      4.305      0.000       0.063       0.169\n",
      "black         -0.1017      0.045     -2.245      0.025      -0.191      -0.013\n",
      "exp            0.1193      0.018      6.564      0.000       0.084       0.155\n",
      "exp_sq        -0.2305      0.035     -6.582      0.000      -0.299      -0.162\n",
      "educ           0.1611      0.041      3.951      0.000       0.081       0.241\n",
      "==============================================================================\n",
      "Omnibus:                       41.821   Durbin-Watson:                   1.866\n",
      "Prob(Omnibus):                  0.000   Jarque-Bera (JB):               49.739\n",
      "Skew:                          -0.221   Prob(JB):                     1.58e-11\n",
      "Kurtosis:                       3.448   Cond. No.                         164.\n",
      "==============================================================================\n"
     ]
    }
   ],
   "source": [
    "#part b - add nearc2 as instrument\n",
    "Xb = X.copy()\n",
    "Xb['nearc2'] = df['nearc2']\n",
    "Xb_clean = Xb.dropna() \n",
    "\n",
    "model_b = IV2SLS(Xb_clean['lwage'],Xb_clean[['const','south','urban','black','exp','exp_sq','educ']], \n",
    "                 instrument=Xb_clean[['const','south','urban','black','exp','exp_sq','nearc4a','nearc4b','nearc2']]).fit()\n",
    "print model_a.summary()"
   ]
  },
  {
   "cell_type": "code",
   "execution_count": 52,
   "metadata": {},
   "outputs": [
    {
     "name": "stdout",
     "output_type": "stream",
     "text": [
      "                            OLS Regression Results                            \n",
      "==============================================================================\n",
      "Dep. Variable:                   educ   R-squared:                       0.649\n",
      "Model:                            OLS   Adj. R-squared:                  0.648\n",
      "Method:                 Least Squares   F-statistic:                     555.3\n",
      "Date:                Mon, 02 Apr 2018   Prob (F-statistic):               0.00\n",
      "Time:                        21:20:33   Log-Likelihood:                -5657.3\n",
      "No. Observations:                3010   AIC:                         1.134e+04\n",
      "Df Residuals:                    2999   BIC:                         1.140e+04\n",
      "Df Model:                          10                                         \n",
      "Covariance Type:            nonrobust                                         \n",
      "=======================================================================================\n",
      "                          coef    std err          t      P>|t|      [0.025      0.975]\n",
      "---------------------------------------------------------------------------------------\n",
      "const                  18.4171      0.153    120.433      0.000      18.117      18.717\n",
      "south                  -0.1919      0.065     -2.935      0.003      -0.320      -0.064\n",
      "urban                   0.2592      0.070      3.704      0.000       0.122       0.396\n",
      "black                  -0.6932      0.074     -9.386      0.000      -0.838      -0.548\n",
      "exp                    -0.6514      0.028    -23.040      0.000      -0.707      -0.596\n",
      "exp_sq                  0.4453      0.135      3.288      0.001       0.180       0.711\n",
      "nearc4a               -16.1600      0.465    -34.754      0.000     -17.072     -15.248\n",
      "nearc4b                 0.1418      0.087      1.625      0.104      -0.029       0.313\n",
      "nearc2                  0.0305      0.061      0.502      0.615      -0.088       0.149\n",
      "nearc4a*age76           0.5866      0.016     36.039      0.000       0.555       0.619\n",
      "nearc4a*age76^2/100     0.0043      0.056      0.077      0.939      -0.106       0.115\n",
      "==============================================================================\n",
      "Omnibus:                       58.182   Durbin-Watson:                   1.801\n",
      "Prob(Omnibus):                  0.000   Jarque-Bera (JB):               73.303\n",
      "Skew:                           0.258   Prob(JB):                     1.21e-16\n",
      "Kurtosis:                       3.563   Cond. No.                         341.\n",
      "==============================================================================\n",
      "\n",
      "Warnings:\n",
      "[1] Standard Errors assume that the covariance matrix of the errors is correctly specified.\n"
     ]
    }
   ],
   "source": [
    "#part c - even more insturments, reduced form\n",
    "Xc = Xb.copy()\n",
    "Xc['nearc4a*age76'] = df['nearc4a'].multiply(df['age76']*1.0)\n",
    "Xc['nearc4a*age76^2/100'] = df['nearc4a'].multiply(df['age76']**2/100)\n",
    "Xc_clean = Xc.dropna()\n",
    "y_c = Xc_clean['educ']\n",
    "X_c = Xc_clean[['const','south','urban','black','exp','exp_sq','educ']]\n",
    "I_c = Xc_clean[['const','south','urban','black','exp','exp_sq',\n",
    "                             'nearc4a','nearc4b','nearc2','nearc4a*age76','nearc4a*age76^2/100']]\n",
    "\n",
    "model_c_s1 = sm.OLS(Xc_clean['educ'], I_c ).fit()\n",
    "print model_c_s1.summary()"
   ]
  },
  {
   "cell_type": "code",
   "execution_count": 53,
   "metadata": {},
   "outputs": [
    {
     "name": "stdout",
     "output_type": "stream",
     "text": [
      "                          IV2SLS Regression Results                           \n",
      "==============================================================================\n",
      "Dep. Variable:                  lwage   R-squared:                       0.289\n",
      "Model:                         IV2SLS   Adj. R-squared:                  0.287\n",
      "Method:                     Two Stage   F-statistic:                     162.3\n",
      "                        Least Squares   Prob (F-statistic):          4.61e-179\n",
      "Date:                Mon, 02 Apr 2018                                         \n",
      "Time:                        21:20:33                                         \n",
      "No. Observations:                3010                                         \n",
      "Df Residuals:                    3003                                         \n",
      "Df Model:                           6                                         \n",
      "==============================================================================\n",
      "                 coef    std err          t      P>|t|      [0.025      0.975]\n",
      "------------------------------------------------------------------------------\n",
      "const          4.5674      0.107     42.653      0.000       4.357       4.777\n",
      "south         -0.1215      0.015     -7.975      0.000      -0.151      -0.092\n",
      "urban          0.1563      0.016      9.894      0.000       0.125       0.187\n",
      "black         -0.1797      0.018     -9.797      0.000      -0.216      -0.144\n",
      "exp            0.0876      0.007     12.599      0.000       0.074       0.101\n",
      "exp_sq        -0.2248      0.032     -7.064      0.000      -0.287      -0.162\n",
      "educ           0.0839      0.006     13.861      0.000       0.072       0.096\n",
      "==============================================================================\n",
      "Omnibus:                       59.054   Durbin-Watson:                   1.864\n",
      "Prob(Omnibus):                  0.000   Jarque-Bera (JB):               70.349\n",
      "Skew:                          -0.280   Prob(JB):                     5.30e-16\n",
      "Kurtosis:                       3.497   Cond. No.                         164.\n",
      "==============================================================================\n"
     ]
    }
   ],
   "source": [
    "#part d - 2SLS\n",
    "model_d = IV2SLS(Xc_clean['lwage'],Xb_clean[['const','south','urban','black','exp','exp_sq','educ']], \n",
    "                 Xc_clean[['const','south','urban','black','exp','exp_sq','nearc4a','nearc4b','nearc2',\n",
    "                           'nearc4a*age76','nearc4a*age76^2/100']]).fit()\n",
    "print model_d.summary()"
   ]
  },
  {
   "cell_type": "code",
   "execution_count": 54,
   "metadata": {},
   "outputs": [],
   "source": [
    "#part e - LIML ... Not enough time to implement from scratch in python..."
   ]
  },
  {
   "cell_type": "code",
   "execution_count": 55,
   "metadata": {},
   "outputs": [
    {
     "name": "stdout",
     "output_type": "stream",
     "text": [
      "________Linear GMM Parameters________\n",
      "[ 3.26801359 -0.09503551  0.11644814 -0.1017274   0.1193108  -0.23054157\n",
      "  0.16109165]\n"
     ]
    }
   ],
   "source": [
    "#12.21 part a - just parameters, SE estimates are unimplemented\n",
    "model_1221_a = LinearIVGMM(y,X_a,I_a)\n",
    "model_1221_a = LinearIVGMM(y,X_a,I_a).fitgmm(model_1221_a.fitstart())\n",
    "print '________Linear GMM Parameters________'\n",
    "print model_1221_a\n",
    "\n",
    "#results seem to be identical..."
   ]
  },
  {
   "cell_type": "code",
   "execution_count": 56,
   "metadata": {},
   "outputs": [
    {
     "name": "stdout",
     "output_type": "stream",
     "text": [
      "________Linear GMM Parameters________\n",
      "[ 4.56743017 -0.12147865  0.15632193 -0.17966148  0.08764663 -0.22482034\n",
      "  0.08388591]\n"
     ]
    }
   ],
   "source": [
    "#12.21 part b\n",
    "model_1221_b = LinearIVGMM(y,X_c,I_c)\n",
    "model_1221_b = LinearIVGMM(y,X_c,I_c).fitgmm(model_1221_b.fitstart())\n",
    "print '________Linear GMM Parameters________'\n",
    "print model_1221_b\n",
    "\n",
    "#results seem to be identical..."
   ]
  },
  {
   "cell_type": "code",
   "execution_count": null,
   "metadata": {
    "collapsed": true
   },
   "outputs": [],
   "source": [
    "#12.21 part c - Also, not implemented yet... in python"
   ]
  }
 ],
 "metadata": {
  "kernelspec": {
   "display_name": "Python 2",
   "language": "python",
   "name": "python2"
  },
  "language_info": {
   "codemirror_mode": {
    "name": "ipython",
    "version": 2
   },
   "file_extension": ".py",
   "mimetype": "text/x-python",
   "name": "python",
   "nbconvert_exporter": "python",
   "pygments_lexer": "ipython2",
   "version": "2.7.14"
  }
 },
 "nbformat": 4,
 "nbformat_minor": 2
}
