{
 "cells": [
  {
   "cell_type": "markdown",
   "metadata": {},
   "source": [
    "# Question 2"
   ]
  },
  {
   "cell_type": "code",
   "execution_count": 8,
   "metadata": {},
   "outputs": [],
   "source": [
    "import pandas as pd\n",
    "import numpy as np\n",
    "import matplotlib.pyplot as plt\n",
    "import statsmodels.api as sm"
   ]
  },
  {
   "cell_type": "markdown",
   "metadata": {},
   "source": [
    "Read data from the path `../data/cps09mar.dta`"
   ]
  },
  {
   "cell_type": "code",
   "execution_count": 9,
   "metadata": {},
   "outputs": [],
   "source": [
    "data_path = \"../data/\"\n",
    "df = pd.read_stata(data_path+'cps09mar.dta')"
   ]
  },
  {
   "cell_type": "markdown",
   "metadata": {},
   "source": [
    "Filter matrix and load it into memory"
   ]
  },
  {
   "cell_type": "code",
   "execution_count": 11,
   "metadata": {},
   "outputs": [
    {
     "name": "stdout",
     "output_type": "stream",
     "text": [
      "4230\n"
     ]
    }
   ],
   "source": [
    "X = df[ (df.female == 0) & (df.hisp == 1) & (df.race == 1) ]\n",
    "print(X['educ'].count())\n",
    "y = X['lwage']"
   ]
  },
  {
   "cell_type": "markdown",
   "metadata": {},
   "source": [
    "## Part a)\n",
    "\n",
    "For white hispanic males regress log wage on education, experience and experiencesquared. Save the residuals from this regression."
   ]
  },
  {
   "cell_type": "code",
   "execution_count": 12,
   "metadata": {},
   "outputs": [
    {
     "name": "stdout",
     "output_type": "stream",
     "text": [
      "                            OLS Regression Results                            \n",
      "==============================================================================\n",
      "Dep. Variable:                  lwage   R-squared:                       0.233\n",
      "Model:                            OLS   Adj. R-squared:                  0.233\n",
      "Method:                 Least Squares   F-statistic:                     428.8\n",
      "Date:                Wed, 21 Oct 2020   Prob (F-statistic):          3.57e-243\n",
      "Time:                        18:17:31   Log-Likelihood:                -3651.2\n",
      "No. Observations:                4230   AIC:                             7310.\n",
      "Df Residuals:                    4226   BIC:                             7336.\n",
      "Df Model:                           3                                         \n",
      "Covariance Type:            nonrobust                                         \n",
      "==============================================================================\n",
      "                 coef    std err          t      P>|t|      [0.025      0.975]\n",
      "------------------------------------------------------------------------------\n",
      "const          1.1852      0.045     26.488      0.000       1.097       1.273\n",
      "educ           0.0904      0.003     33.051      0.000       0.085       0.096\n",
      "exp            0.0354      0.003     14.083      0.000       0.030       0.040\n",
      "exp_sq        -0.0005   5.03e-05     -9.251      0.000      -0.001      -0.000\n",
      "==============================================================================\n",
      "Omnibus:                     1562.688   Durbin-Watson:                   1.770\n",
      "Prob(Omnibus):                  0.000   Jarque-Bera (JB):            34837.483\n",
      "Skew:                          -1.229   Prob(JB):                         0.00\n",
      "Kurtosis:                      16.843   Cond. No.                     4.31e+03\n",
      "==============================================================================\n",
      "\n",
      "Warnings:\n",
      "[1] Standard Errors assume that the covariance matrix of the errors is correctly specified.\n",
      "[2] The condition number is large, 4.31e+03. This might indicate that there are\n",
      "strong multicollinearity or other numerical problems.\n"
     ]
    }
   ],
   "source": [
    "X1 = X.loc[:,('educ','exp')]\n",
    "X1['exp_sq'] = X1['exp']**2\n",
    "X1 = sm.add_constant(X1)\n",
    "model1 = sm.OLS(y,X1).fit()\n",
    "print(model1.summary())"
   ]
  },
  {
   "cell_type": "markdown",
   "metadata": {},
   "source": [
    "## Part b) \n",
    "Show (numerically) that the residuals are exactly (up to numerical rounding error)mean zero and that they are (essentially) perfectly orthogonal to the regressorsin the model.\n",
    "\n",
    "* Why not sum e1? What is the constant?"
   ]
  },
  {
   "cell_type": "code",
   "execution_count": 15,
   "metadata": {},
   "outputs": [
    {
     "name": "stdout",
     "output_type": "stream",
     "text": [
      "const    -2.957457e-11\n",
      "educ     -3.823288e-10\n",
      "exp      -5.886296e-10\n",
      "exp_sq   -1.395983e-08\n",
      "dtype: float64\n"
     ]
    }
   ],
   "source": [
    "e1 = model1.resid\n",
    "print(np.matmul(e1,X1))"
   ]
  },
  {
   "cell_type": "markdown",
   "metadata": {},
   "source": [
    "## Part c)\n",
    "\n",
    "Regress log wage on experience and it's square and save the residuals from this regression. Are the residuals orthogonal to education? Explain."
   ]
  },
  {
   "cell_type": "code",
   "execution_count": 20,
   "metadata": {},
   "outputs": [],
   "source": [
    "X2 = X1.loc[:,('exp','exp_sq')]\n",
    "X2 = sm.add_constant(X2)\n",
    "model2 = sm.OLS(y,X2).fit()\n",
    "#print(model2.summary())\n",
    "#actual test part c"
   ]
  },
  {
   "cell_type": "code",
   "execution_count": 28,
   "metadata": {},
   "outputs": [
    {
     "name": "stdout",
     "output_type": "stream",
     "text": [
      "3977.683149378993\n"
     ]
    }
   ],
   "source": [
    "e2 = model2.resid\n",
    "print(np.matmul(e2,X1['educ'])/X1['educ'].count()) #why divide by # of observations?"
   ]
  },
  {
   "cell_type": "markdown",
   "metadata": {},
   "source": [
    "## Part d) \n",
    "\n",
    "Regress education on experience and it's square and save the residuals. Are these residuals orthonal to education?\n",
    "\n",
    "* Start with $y \\hat{e}'  = yy' - y \\hat{y}'$\n",
    "* Derive a the matrix with the quadratic form i.e. $\\hat{e} \\hat{e}'$."
   ]
  },
  {
   "cell_type": "code",
   "execution_count": 26,
   "metadata": {},
   "outputs": [],
   "source": [
    "model3 = sm.OLS(X1['educ'],X2).fit()\n",
    "#model3.summary()"
   ]
  },
  {
   "cell_type": "code",
   "execution_count": 27,
   "metadata": {},
   "outputs": [
    {
     "name": "stdout",
     "output_type": "stream",
     "text": [
      "10.39647810574552\n"
     ]
    }
   ],
   "source": [
    "e3 = model3.resid\n",
    "print(np.matmul(e3,X1['educ'])/X1['educ'].count())"
   ]
  },
  {
   "cell_type": "markdown",
   "metadata": {},
   "source": [
    "## Part e) \n",
    "\n",
    "Regress the residuals from c. on the residuals from d. and compare the coeffcient on the education residual with the coeffcient on education in a. They should be essentially the same value.\n",
    "* Take away: $e_2 = \\beta e_3$"
   ]
  },
  {
   "cell_type": "code",
   "execution_count": 29,
   "metadata": {},
   "outputs": [
    {
     "name": "stdout",
     "output_type": "stream",
     "text": [
      "                            OLS Regression Results                            \n",
      "==============================================================================\n",
      "Dep. Variable:                      y   R-squared:                       0.205\n",
      "Model:                            OLS   Adj. R-squared:                  0.205\n",
      "Method:                 Least Squares   F-statistic:                     1093.\n",
      "Date:                Wed, 21 Oct 2020   Prob (F-statistic):          2.26e-213\n",
      "Time:                        18:35:43   Log-Likelihood:                -3651.2\n",
      "No. Observations:                4230   AIC:                             7306.\n",
      "Df Residuals:                    4228   BIC:                             7319.\n",
      "Df Model:                           1                                         \n",
      "Covariance Type:            nonrobust                                         \n",
      "==============================================================================\n",
      "                 coef    std err          t      P>|t|      [0.025      0.975]\n",
      "------------------------------------------------------------------------------\n",
      "const       6.942e-15      0.009   7.87e-13      1.000      -0.017       0.017\n",
      "0              0.0904      0.003     33.059      0.000       0.085       0.096\n",
      "==============================================================================\n",
      "Omnibus:                     1562.688   Durbin-Watson:                   1.770\n",
      "Prob(Omnibus):                  0.000   Jarque-Bera (JB):            34837.483\n",
      "Skew:                          -1.229   Prob(JB):                         0.00\n",
      "Kurtosis:                      16.843   Cond. No.                         3.22\n",
      "==============================================================================\n",
      "\n",
      "Warnings:\n",
      "[1] Standard Errors assume that the covariance matrix of the errors is correctly specified.\n"
     ]
    }
   ],
   "source": [
    "model4 = sm.OLS(e2,sm.add_constant(e3)).fit()\n",
    "print(model4.summary())"
   ]
  },
  {
   "cell_type": "markdown",
   "metadata": {},
   "source": []
  }
 ],
 "metadata": {
  "kernelspec": {
   "display_name": "Python 3",
   "language": "python",
   "name": "python3"
  },
  "language_info": {
   "codemirror_mode": {
    "name": "ipython",
    "version": 3
   },
   "file_extension": ".py",
   "mimetype": "text/x-python",
   "name": "python",
   "nbconvert_exporter": "python",
   "pygments_lexer": "ipython3",
   "version": "3.7.4"
  }
 },
 "nbformat": 4,
 "nbformat_minor": 2
}
