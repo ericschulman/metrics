{
 "cells": [
  {
   "cell_type": "markdown",
   "metadata": {},
   "source": [
    "# Question 1"
   ]
  },
  {
   "cell_type": "code",
   "execution_count": 1,
   "metadata": {},
   "outputs": [],
   "source": [
    "import pandas as pd\n",
    "import numpy as np\n",
    "import matplotlib.pyplot as plt\n",
    "import statsmodels.api as sm"
   ]
  },
  {
   "cell_type": "markdown",
   "metadata": {},
   "source": [
    "Read data from the path `../data/cps09mar.dta`"
   ]
  },
  {
   "cell_type": "code",
   "execution_count": 2,
   "metadata": {},
   "outputs": [],
   "source": [
    "data_path = \"../data/\"\n",
    "df = pd.read_stata(data_path+'cps09mar.dta')"
   ]
  },
  {
   "cell_type": "markdown",
   "metadata": {},
   "source": [
    "Set up $X$ variables..."
   ]
  },
  {
   "cell_type": "code",
   "execution_count": 3,
   "metadata": {},
   "outputs": [],
   "source": [
    "df = pd.read_stata(data_path+'cps09mar.dta')\n",
    "df = df[(df.educ == 12) | (df.educ == 16)| (df.educ == 18)| (df.educ == 20)]\n",
    "\n",
    "#set up X matrix\n",
    "X = pd.get_dummies(df['educ'], prefix='educ')\n",
    "X = X[['educ_12','educ_16', 'educ_18', 'educ_20']]\n",
    "y = df['lwage']"
   ]
  },
  {
   "cell_type": "markdown",
   "metadata": {},
   "source": [
    "## Part a) \n",
    "\n",
    "How mny individuals went to college?"
   ]
  },
  {
   "cell_type": "code",
   "execution_count": 37,
   "metadata": {},
   "outputs": [
    {
     "name": "stdout",
     "output_type": "stream",
     "text": [
      "college number: 11640\n"
     ]
    }
   ],
   "source": [
    "print('college number: %s'% (y[X['educ_16']==1]).count())"
   ]
  },
  {
   "cell_type": "markdown",
   "metadata": {},
   "source": [
    "## Part b) \n",
    "\n",
    "Mean/variance... just for college"
   ]
  },
  {
   "cell_type": "code",
   "execution_count": 38,
   "metadata": {},
   "outputs": [
    {
     "name": "stdout",
     "output_type": "stream",
     "text": [
      "lwage mean: 3.201045274734497, lwage var:0.4156113266944885\n"
     ]
    }
   ],
   "source": [
    "print('lwage mean: %s, lwage var:%s'%(y[X['educ_16']==1].mean(),y[X['educ_16']==1].var()))"
   ]
  },
  {
   "cell_type": "markdown",
   "metadata": {},
   "source": [
    "## Part c) \n",
    "Find quantiles... just for college"
   ]
  },
  {
   "cell_type": "code",
   "execution_count": 39,
   "metadata": {},
   "outputs": [
    {
     "name": "stdout",
     "output_type": "stream",
     "text": [
      "quantile: 0.25, lwage: 2.838728427886963\n",
      "quantile: 0.5, lwage: 3.179655075073242\n",
      "quantile: 0.75, lwage: 3.58512020111084\n"
     ]
    }
   ],
   "source": [
    "for quantile in [0.25, .5, .75]:\n",
    "    quantile_result = np.quantile( y[X['educ_16']==1],quantile )\n",
    "    print('quantile: %s, lwage: %s'%(quantile,quantile_result))"
   ]
  },
  {
   "cell_type": "markdown",
   "metadata": {},
   "source": [
    "## Part d)\n",
    "\n",
    "difference between lwage of hs and college?"
   ]
  },
  {
   "cell_type": "code",
   "execution_count": 40,
   "metadata": {},
   "outputs": [
    {
     "name": "stdout",
     "output_type": "stream",
     "text": [
      "lwage difference: 0.4889204502105713\n"
     ]
    }
   ],
   "source": [
    "lwage_diff = y[X['educ_16']==1].mean() - y[X['educ_12']==1].mean()\n",
    "print('lwage difference: '+str(lwage_diff))"
   ]
  },
  {
   "cell_type": "markdown",
   "metadata": {},
   "source": [
    "## Part e) \n",
    "\n",
    "Is the difference statistically significant? Two sample T-test\n",
    "* Can just use test command in Stata\n",
    "* Here we'll do a Wald test, they should produce the same result."
   ]
  },
  {
   "cell_type": "markdown",
   "metadata": {},
   "source": [
    "## Part f) \n",
    "\n",
    "Regression on dummy variables... "
   ]
  },
  {
   "cell_type": "code",
   "execution_count": 44,
   "metadata": {},
   "outputs": [
    {
     "name": "stdout",
     "output_type": "stream",
     "text": [
      "                            OLS Regression Results                            \n",
      "==============================================================================\n",
      "Dep. Variable:                  lwage   R-squared:                       0.203\n",
      "Model:                            OLS   Adj. R-squared:                  0.203\n",
      "Method:                 Least Squares   F-statistic:                     2727.\n",
      "Date:                Wed, 21 Oct 2020   Prob (F-statistic):               0.00\n",
      "Time:                        17:56:21   Log-Likelihood:                -30104.\n",
      "No. Observations:               32081   AIC:                         6.022e+04\n",
      "Df Residuals:                   32077   BIC:                         6.025e+04\n",
      "Df Model:                           3                                         \n",
      "Covariance Type:            nonrobust                                         \n",
      "==============================================================================\n",
      "                 coef    std err          t      P>|t|      [0.025      0.975]\n",
      "------------------------------------------------------------------------------\n",
      "educ_12        2.7121      0.005    516.939      0.000       2.702       2.722\n",
      "educ_16        3.2011      0.006    558.409      0.000       3.190       3.212\n",
      "educ_18        3.3813      0.009    373.617      0.000       3.364       3.399\n",
      "educ_20        3.6890      0.014    258.284      0.000       3.661       3.717\n",
      "==============================================================================\n",
      "Omnibus:                    10460.946   Durbin-Watson:                   1.767\n",
      "Prob(Omnibus):                  0.000   Jarque-Bera (JB):           213631.163\n",
      "Skew:                          -1.068   Prob(JB):                         0.00\n",
      "Kurtosis:                      15.460   Cond. No.                         2.72\n",
      "==============================================================================\n",
      "\n",
      "Warnings:\n",
      "[1] Standard Errors assume that the covariance matrix of the errors is correctly specified.\n"
     ]
    }
   ],
   "source": [
    "#write result\n",
    "model_result = sm.OLS(y,X).fit()\n",
    "print(model_result.summary())"
   ]
  },
  {
   "cell_type": "markdown",
   "metadata": {},
   "source": [
    "Wald Test\n",
    "* $H_0: R \\beta = 0$\n",
    "* $H_1: R \\beta \\neq 0$\n",
    "* What is $R$? So that $\\beta_{educ_{12}} = \\beta_{educ_{16}}$?\n",
    "* Need $R= \\begin{bmatrix} -1 & 1 & 0 & 0\\end{bmatrix} $"
   ]
  },
  {
   "cell_type": "code",
   "execution_count": 52,
   "metadata": {},
   "outputs": [
    {
     "name": "stdout",
     "output_type": "stream",
     "text": [
      "<F test: F=array([[3958.47513214]]), p=0.0, df_denom=3.21e+04, df_num=1>\n"
     ]
    }
   ],
   "source": [
    "print(model_result.wald_test([-1,1,0,0]).summary())"
   ]
  },
  {
   "cell_type": "markdown",
   "metadata": {},
   "source": [
    "Regresion with intercept:\n",
    "* What is the intercept? Call it $\\alpha$\n",
    "* What is $\\alpha + \\beta_{educ_{16}}?$"
   ]
  },
  {
   "cell_type": "code",
   "execution_count": 43,
   "metadata": {},
   "outputs": [
    {
     "name": "stdout",
     "output_type": "stream",
     "text": [
      "                            OLS Regression Results                            \n",
      "==============================================================================\n",
      "Dep. Variable:                  lwage   R-squared:                       0.203\n",
      "Model:                            OLS   Adj. R-squared:                  0.203\n",
      "Method:                 Least Squares   F-statistic:                     2727.\n",
      "Date:                Wed, 21 Oct 2020   Prob (F-statistic):               0.00\n",
      "Time:                        17:56:15   Log-Likelihood:                -30104.\n",
      "No. Observations:               32081   AIC:                         6.022e+04\n",
      "Df Residuals:                   32077   BIC:                         6.025e+04\n",
      "Df Model:                           3                                         \n",
      "Covariance Type:            nonrobust                                         \n",
      "==============================================================================\n",
      "                 coef    std err          t      P>|t|      [0.025      0.975]\n",
      "------------------------------------------------------------------------------\n",
      "const          2.7121      0.005    516.939      0.000       2.702       2.722\n",
      "educ_16        0.4889      0.008     62.916      0.000       0.474       0.504\n",
      "educ_18        0.6692      0.010     63.969      0.000       0.649       0.690\n",
      "educ_20        0.9769      0.015     64.203      0.000       0.947       1.007\n",
      "==============================================================================\n",
      "Omnibus:                    10460.946   Durbin-Watson:                   1.767\n",
      "Prob(Omnibus):                  0.000   Jarque-Bera (JB):           213631.163\n",
      "Skew:                          -1.068   Prob(JB):                         0.00\n",
      "Kurtosis:                      15.460   Cond. No.                         4.98\n",
      "==============================================================================\n",
      "\n",
      "Warnings:\n",
      "[1] Standard Errors assume that the covariance matrix of the errors is correctly specified.\n"
     ]
    },
    {
     "name": "stderr",
     "output_type": "stream",
     "text": [
      "/home/erichschulman/anaconda3/lib/python3.7/site-packages/numpy/core/fromnumeric.py:2495: FutureWarning: Method .ptp is deprecated and will be removed in a future version. Use numpy.ptp instead.\n",
      "  return ptp(axis=axis, out=out, **kwargs)\n",
      "/home/erichschulman/anaconda3/lib/python3.7/site-packages/numpy/core/fromnumeric.py:2495: FutureWarning: Method .ptp is deprecated and will be removed in a future version. Use numpy.ptp instead.\n",
      "  return ptp(axis=axis, out=out, **kwargs)\n",
      "/home/erichschulman/anaconda3/lib/python3.7/site-packages/numpy/core/fromnumeric.py:2495: FutureWarning: Method .ptp is deprecated and will be removed in a future version. Use numpy.ptp instead.\n",
      "  return ptp(axis=axis, out=out, **kwargs)\n"
     ]
    }
   ],
   "source": [
    "X_intercept = X[['educ_16', 'educ_18', 'educ_20']]\n",
    "X_intercept = sm.add_constant(X_intercept)\n",
    "\n",
    "model_result = sm.OLS(y,X_intercept).fit()\n",
    "print(model_result.summary())"
   ]
  },
  {
   "cell_type": "code",
   "execution_count": null,
   "metadata": {},
   "outputs": [],
   "source": []
  }
 ],
 "metadata": {
  "kernelspec": {
   "display_name": "Python 3",
   "language": "python",
   "name": "python3"
  },
  "language_info": {
   "codemirror_mode": {
    "name": "ipython",
    "version": 3
   },
   "file_extension": ".py",
   "mimetype": "text/x-python",
   "name": "python",
   "nbconvert_exporter": "python",
   "pygments_lexer": "ipython3",
   "version": "3.7.4"
  }
 },
 "nbformat": 4,
 "nbformat_minor": 2
}
