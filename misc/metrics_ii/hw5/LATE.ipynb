{
 "cells": [
  {
   "cell_type": "markdown",
   "metadata": {},
   "source": [
    "# Econometrics II: Homework 5\n",
    "## Eric Schulman\n",
    "## November 15, 2018"
   ]
  },
  {
   "cell_type": "code",
   "execution_count": 1,
   "metadata": {},
   "outputs": [],
   "source": [
    "import pandas as pd\n",
    "import numpy as np\n",
    "import math\n",
    "\n",
    "import statsmodels.api as sm\n",
    "from statsmodels.sandbox.regression.gmm import IV2SLS"
   ]
  },
  {
   "cell_type": "markdown",
   "metadata": {},
   "source": [
    "### Part 1 - Part 4\n",
    "\n",
    "Setting up the hypothetical data"
   ]
  },
  {
   "cell_type": "code",
   "execution_count": 2,
   "metadata": {},
   "outputs": [],
   "source": [
    "sigma = .1\n",
    "var = [[1, sigma ], [sigma , 1]]\n",
    "mean = [0., 0.]\n",
    "N = int(1e6)\n",
    "\n",
    "ey, ex = np.random.multivariate_normal(mean, var, size = N).transpose()"
   ]
  },
  {
   "cell_type": "code",
   "execution_count": 3,
   "metadata": {},
   "outputs": [],
   "source": [
    "pz = .3\n",
    "\n",
    "z = np.random.binomial(1,pz,N).astype(np.float)"
   ]
  },
  {
   "cell_type": "code",
   "execution_count": 4,
   "metadata": {},
   "outputs": [],
   "source": [
    "beta_0x = -.5\n",
    "beta_1x = 2\n",
    "\n",
    "x = (beta_0x + beta_1x*z + ex > 0).astype(np.float) "
   ]
  },
  {
   "cell_type": "code",
   "execution_count": 5,
   "metadata": {},
   "outputs": [],
   "source": [
    "beta_0y = 1\n",
    "beta_1y = 1\n",
    "\n",
    "y = beta_0y + beta_1y*x + ey"
   ]
  },
  {
   "cell_type": "markdown",
   "metadata": {},
   "source": [
    "### Part 5\n",
    "\n",
    "$$E(y(1) -y(0)) = $$\n",
    "$$E( (\\beta_{0y} + \\beta_{1jy} + \\epsilon_{yj}) - (\\beta_{0y} + \\epsilon_{yj}) ) =$$\n",
    "$$E(\\beta_{1jy}) = \\beta_{1y} = 1$$\n",
    "\n",
    "### Part 6\n",
    "\n",
    "* What happens to the OLS estimator applied to this data?\n",
    "\n",
    "OLS is biased upward.\n",
    "\n",
    "* Is that expected or unexpected?\n",
    "\n",
    "This is expected since treatment is endogenously determined."
   ]
  },
  {
   "cell_type": "code",
   "execution_count": 6,
   "metadata": {},
   "outputs": [
    {
     "name": "stdout",
     "output_type": "stream",
     "text": [
      "                            OLS Regression Results                            \n",
      "==============================================================================\n",
      "Dep. Variable:                      y   R-squared:                       0.236\n",
      "Model:                            OLS   Adj. R-squared:                  0.236\n",
      "Method:                 Least Squares   F-statistic:                 3.097e+05\n",
      "Date:                Thu, 15 Nov 2018   Prob (F-statistic):               0.00\n",
      "Time:                        09:41:51   Log-Likelihood:            -1.4179e+06\n",
      "No. Observations:             1000000   AIC:                         2.836e+06\n",
      "Df Residuals:                  999998   BIC:                         2.836e+06\n",
      "Df Model:                           1                                         \n",
      "Covariance Type:            nonrobust                                         \n",
      "==============================================================================\n",
      "                 coef    std err          t      P>|t|      [0.025      0.975]\n",
      "------------------------------------------------------------------------------\n",
      "const          0.9440      0.001    671.325      0.000       0.941       0.947\n",
      "x1             1.1119      0.002    556.477      0.000       1.108       1.116\n",
      "==============================================================================\n",
      "Omnibus:                        0.431   Durbin-Watson:                   2.000\n",
      "Prob(Omnibus):                  0.806   Jarque-Bera (JB):                0.435\n",
      "Skew:                          -0.000   Prob(JB):                        0.805\n",
      "Kurtosis:                       2.997   Cond. No.                         2.61\n",
      "==============================================================================\n",
      "\n",
      "Warnings:\n",
      "[1] Standard Errors assume that the covariance matrix of the errors is correctly specified.\n"
     ]
    }
   ],
   "source": [
    "model = sm.OLS(y, sm.add_constant(x))\n",
    "model = model.fit()\n",
    "print model.summary()"
   ]
  },
  {
   "cell_type": "markdown",
   "metadata": {},
   "source": [
    "### Part 7\n",
    "\n",
    "Using the IV estimator recovers the average treatment effect."
   ]
  },
  {
   "cell_type": "code",
   "execution_count": 7,
   "metadata": {},
   "outputs": [
    {
     "name": "stdout",
     "output_type": "stream",
     "text": [
      "                          IV2SLS Regression Results                           \n",
      "==============================================================================\n",
      "Dep. Variable:                      y   R-squared:                       0.234\n",
      "Model:                         IV2SLS   Adj. R-squared:                  0.234\n",
      "Method:                     Two Stage   F-statistic:                 8.163e+04\n",
      "                        Least Squares   Prob (F-statistic):               0.00\n",
      "Date:                Thu, 15 Nov 2018                                         \n",
      "Time:                        09:41:52                                         \n",
      "No. Observations:             1000000                                         \n",
      "Df Residuals:                  999998                                         \n",
      "Df Model:                           1                                         \n",
      "==============================================================================\n",
      "                 coef    std err          t      P>|t|      [0.025      0.975]\n",
      "------------------------------------------------------------------------------\n",
      "const          1.0003      0.002    500.514      0.000       0.996       1.004\n",
      "x1             0.9981      0.003    285.705      0.000       0.991       1.005\n",
      "==============================================================================\n",
      "Omnibus:                        0.407   Durbin-Watson:                   2.000\n",
      "Prob(Omnibus):                  0.816   Jarque-Bera (JB):                0.410\n",
      "Skew:                          -0.000   Prob(JB):                        0.815\n",
      "Kurtosis:                       2.997   Cond. No.                         2.61\n",
      "==============================================================================\n"
     ]
    }
   ],
   "source": [
    "model =  IV2SLS(y, sm.add_constant(x), sm.add_constant(z))\n",
    "model = model.fit()\n",
    "print model.summary()"
   ]
  },
  {
   "cell_type": "markdown",
   "metadata": {},
   "source": [
    "### Part 8 \n",
    "\n",
    "\n",
    "* They are **compliers**:\n",
    "    \n",
    "    If $x_i = 1, z_i = 1$ and $x_i = 0, z_i = 0$ \n",
    "    \n",
    "    Thus, $\\epsilon_{xj} \\geq -\\beta_{0x} - \\beta_{1x}$ and $\\epsilon_{xj} < -\\beta_{0x} $\n",
    "\n",
    "*  They are **defiers**:\n",
    "    \n",
    "    If $x_i = 0, z_i = 1$ and $x_i = 1, z_i = 0$  \n",
    "    \n",
    "    Thus,  $\\epsilon_{xj} < -\\beta_{0x} - \n",
    "\\beta_{1x}$ and $\\epsilon_{xj} \\geq - \\beta_{0x}$\n",
    "\n",
    "* They are never **takers**:\n",
    "    \n",
    "    If $x_i = 0, z_i = 0$ and $x_i = 0, z_i = 1$ \n",
    "    \n",
    "    Thus, $\\epsilon_{xj} < -\\beta_{0x} $ and $\\epsilon_{xj} < -\\beta_{0x} -\\beta_{1x} $\n",
    "\n",
    "* They are **always takers**:\n",
    "    \n",
    "    If $x_i = 1, z_i = 0$ and $x_i = 1, z_i = 0$\n",
    "    \n",
    "    Thus, $\\epsilon_{xj} \\geq -\\beta_{0x}$ and  $\\epsilon_{xj} \\geq -\\beta_{0x} - \\beta_{1x}$ \n",
    "\n",
    "\n",
    "### Part 9 \n",
    "\n",
    "Above we can see that defiers have $\\epsilon_{xj} < -\\beta_{0x} - \n",
    "\\beta_{1x}$ and $\\epsilon_{xj} \\geq - \\beta_{0x}$\n",
    "\n",
    "\n",
    "When   $\\beta_{0x} < \\beta_{0x} + \\beta_{1x}$ we have no defiers. This is because the set of defiers is empty i.e. defiers have  $\\beta_{0x} \\geq - \\epsilon_{xj}  > \\beta_{0x} + \\beta_{1x}$. If    $\\beta_{0x} < \\beta_{0x} + \\beta_{1x}$, then this set is empty.\n",
    "\n",
    "This is essentially a monotone treatment selection assumption. Getting the insturment makes you more likely to get treated. Depending upon the application, this is a reasonable assumption\n",
    "\n",
    "### Part 10"
   ]
  },
  {
   "cell_type": "code",
   "execution_count": 8,
   "metadata": {},
   "outputs": [
    {
     "name": "stdout",
     "output_type": "stream",
     "text": [
      "compliers: 0.625091\n",
      "defiers: 0.0\n",
      "always takers: 0.307898\n",
      "never takers: 0.067011\n"
     ]
    }
   ],
   "source": [
    "#dummy variable for compliers\n",
    "c = ( (- beta_0x > ex) * (ex > - beta_0x -  beta_1x) ).astype(np.float) \n",
    "print 'compliers: %s'% (c.sum()/N)\n",
    "\n",
    "#dummy variable for defiers\n",
    "d = ( (- beta_0x  < ex) * (ex < - beta_0x -  beta_1x) ).astype(np.float) \n",
    "print 'defiers: %s'%(d.sum()/N)\n",
    "\n",
    "#dummy variable for always takers\n",
    "a =   ( (- beta_0x < ex)  ).astype(np.float) \n",
    "print 'always takers: %s'%(a.sum()/N)\n",
    "\n",
    "#dummy variable for never takers\n",
    "n= ( (- beta_0x -  beta_1x > ex)  ).astype(np.float) \n",
    "print 'never takers: %s'%(n.sum()/N)"
   ]
  },
  {
   "cell_type": "markdown",
   "metadata": {},
   "source": [
    "### Part 11"
   ]
  },
  {
   "cell_type": "code",
   "execution_count": 9,
   "metadata": {},
   "outputs": [
    {
     "name": "stdout",
     "output_type": "stream",
     "text": [
      "LATE: 0.9971690555607438\n"
     ]
    }
   ],
   "source": [
    "x1c = x*c #x is 1 and a complier\n",
    "x0c = (1-x)*c #x is 0 and a complier\n",
    "\n",
    "\n",
    "y1c = (y*x1c).sum()/x1c.sum()\n",
    "y0c =  (y*x0c).sum()/x0c.sum()\n",
    "\n",
    "print 'LATE: %s'%(y1c - y0c)"
   ]
  },
  {
   "cell_type": "markdown",
   "metadata": {},
   "source": [
    "### Part 12 \n",
    "\n",
    " The IV estimate is the LATE. The IV estimate is recovers the 'theoretical' average treatment effect. On the other hand, the OLS estimator is not equivalent to these.\n",
    "\n",
    "### Part 13\n",
    "\n",
    "Since $\\beta_{1jy} =1$ for all $j$, the average treatment effect and the local average treatment effect should be the same. Everyone has the same treatment effect because there is no heterogeneity.\n",
    "\n",
    "### Part 14"
   ]
  },
  {
   "cell_type": "code",
   "execution_count": 10,
   "metadata": {},
   "outputs": [],
   "source": [
    "beta_1jy = np.random.normal(1, 1, size = N)\n",
    "\n",
    "yj = beta_0y + beta_1jy*x + ey"
   ]
  },
  {
   "cell_type": "markdown",
   "metadata": {},
   "source": [
    "### Part 15\n",
    "\n",
    "$$E(y(1) -y(0)) = $$\n",
    "$$E( (\\beta_{0y} + \\beta_{1jy} + \\epsilon_{yj}) - (\\beta_{0y} + \\epsilon_{yj}) ) =$$\n",
    "$$E(\\beta_{1jy}) = 1$$\n",
    "\n",
    "\n",
    "### Part 16\n",
    "\n",
    "It does not. The individual coefficient is independent from selection process. However, selection is still endogenously determined"
   ]
  },
  {
   "cell_type": "code",
   "execution_count": 11,
   "metadata": {},
   "outputs": [
    {
     "name": "stdout",
     "output_type": "stream",
     "text": [
      "                            OLS Regression Results                            \n",
      "==============================================================================\n",
      "Dep. Variable:                      y   R-squared:                       0.172\n",
      "Model:                            OLS   Adj. R-squared:                  0.172\n",
      "Method:                 Least Squares   F-statistic:                 2.072e+05\n",
      "Date:                Thu, 15 Nov 2018   Prob (F-statistic):               0.00\n",
      "Time:                        09:41:53   Log-Likelihood:            -1.6189e+06\n",
      "No. Observations:             1000000   AIC:                         3.238e+06\n",
      "Df Residuals:                  999998   BIC:                         3.238e+06\n",
      "Df Model:                           1                                         \n",
      "Covariance Type:            nonrobust                                         \n",
      "==============================================================================\n",
      "                 coef    std err          t      P>|t|      [0.025      0.975]\n",
      "------------------------------------------------------------------------------\n",
      "const          0.9440      0.002    549.091      0.000       0.941       0.947\n",
      "x1             1.1121      0.002    455.229      0.000       1.107       1.117\n",
      "==============================================================================\n",
      "Omnibus:                     3570.310   Durbin-Watson:                   1.999\n",
      "Prob(Omnibus):                  0.000   Jarque-Bera (JB):             4856.474\n",
      "Skew:                          -0.000   Prob(JB):                         0.00\n",
      "Kurtosis:                       3.341   Cond. No.                         2.61\n",
      "==============================================================================\n",
      "\n",
      "Warnings:\n",
      "[1] Standard Errors assume that the covariance matrix of the errors is correctly specified.\n"
     ]
    }
   ],
   "source": [
    "model = sm.OLS(yj, sm.add_constant(x))\n",
    "model = model.fit()\n",
    "print model.summary()"
   ]
  },
  {
   "cell_type": "markdown",
   "metadata": {},
   "source": [
    "### Part 17\n",
    "\n",
    "The IV estimator does recover the average treatment effect from question 15."
   ]
  },
  {
   "cell_type": "code",
   "execution_count": 12,
   "metadata": {},
   "outputs": [
    {
     "name": "stdout",
     "output_type": "stream",
     "text": [
      "                          IV2SLS Regression Results                           \n",
      "==============================================================================\n",
      "Dep. Variable:                      y   R-squared:                       0.170\n",
      "Model:                         IV2SLS   Adj. R-squared:                  0.170\n",
      "Method:                     Two Stage   F-statistic:                 5.458e+04\n",
      "                        Least Squares   Prob (F-statistic):               0.00\n",
      "Date:                Thu, 15 Nov 2018                                         \n",
      "Time:                        09:41:53                                         \n",
      "No. Observations:             1000000                                         \n",
      "Df Residuals:                  999998                                         \n",
      "Df Model:                           1                                         \n",
      "==============================================================================\n",
      "                 coef    std err          t      P>|t|      [0.025      0.975]\n",
      "------------------------------------------------------------------------------\n",
      "const          1.0008      0.002    409.783      0.000       0.996       1.006\n",
      "x1             0.9973      0.004    233.629      0.000       0.989       1.006\n",
      "==============================================================================\n",
      "Omnibus:                     3909.608   Durbin-Watson:                   2.000\n",
      "Prob(Omnibus):                  0.000   Jarque-Bera (JB):             5181.558\n",
      "Skew:                           0.047   Prob(JB):                         0.00\n",
      "Kurtosis:                       3.340   Cond. No.                         2.61\n",
      "==============================================================================\n"
     ]
    }
   ],
   "source": [
    "model =  IV2SLS(yj, sm.add_constant(x), sm.add_constant(z))\n",
    "model = model.fit()\n",
    "print model.summary()"
   ]
  },
  {
   "cell_type": "markdown",
   "metadata": {},
   "source": [
    "### Part 18\n",
    "\n",
    "\n",
    "The selection process stays the same, so the groups should stay the same as well in parts 8 through 10.\n",
    "\n",
    "The coefficient is random, but it does not depend on $\\epsilon_x$ or $\\epsilon_y$. Since selection into the treatment group is independent from the response to treatment, nothing changes.\n",
    "\n",
    "### Part 19"
   ]
  },
  {
   "cell_type": "code",
   "execution_count": 13,
   "metadata": {},
   "outputs": [
    {
     "name": "stdout",
     "output_type": "stream",
     "text": [
      "LATE: 0.9971994618197411\n"
     ]
    }
   ],
   "source": [
    "yj1c = (yj*x1c).sum()/x1c.sum()\n",
    "yj0c =  (yj*x0c).sum()/x0c.sum()\n",
    "\n",
    "print 'LATE: %s'%(yj1c - yj0c)"
   ]
  },
  {
   "cell_type": "markdown",
   "metadata": {},
   "source": [
    "### Part 20\n",
    "15 19 and 17 are roughly the same. On the other hand, the OLS estimate is biased upward due to selection\n",
    " \n",
    "### Part 21\n",
    "The local average treatment effect is the average treatment effect. This is because the average treatment effect is the same among all groups. Heterogeniety is independent from the selection process.\n",
    "\n",
    "### Part 22"
   ]
  },
  {
   "cell_type": "code",
   "execution_count": 14,
   "metadata": {},
   "outputs": [],
   "source": [
    "beta_1iy = np.random.normal(1 + ex, 1, size = N)\n",
    "\n",
    "yi = beta_0y + beta_1iy*x + ey"
   ]
  },
  {
   "cell_type": "markdown",
   "metadata": {},
   "source": [
    "### Part 23\n",
    "The average treatment effect increases. Because selection affects the treatment effect.\n",
    "\n",
    "$$E(y(1) -y(0)) = $$\n",
    "\n",
    "$$E( \\beta_{1jy} )  = $$\n",
    "\n",
    "$$E( E( \\beta_{1jy} |\\epsilon_{xj}) ) = $$\n",
    "\n",
    "$$E( E(1 + \\epsilon_{xj} |\\epsilon_{xj}) ) =  1$$"
   ]
  },
  {
   "cell_type": "markdown",
   "metadata": {},
   "source": [
    "### Part 24\n",
    "Below we calculate the OLS estimator based on the numerical simulation. It does not recover the average treatment effect. We are biased upward"
   ]
  },
  {
   "cell_type": "code",
   "execution_count": 15,
   "metadata": {},
   "outputs": [
    {
     "name": "stdout",
     "output_type": "stream",
     "text": [
      "                            OLS Regression Results                            \n",
      "==============================================================================\n",
      "Dep. Variable:                      y   R-squared:                       0.265\n",
      "Model:                            OLS   Adj. R-squared:                  0.265\n",
      "Method:                 Least Squares   F-statistic:                 3.613e+05\n",
      "Date:                Thu, 15 Nov 2018   Prob (F-statistic):               0.00\n",
      "Time:                        09:41:55   Log-Likelihood:            -1.7578e+06\n",
      "No. Observations:             1000000   AIC:                         3.516e+06\n",
      "Df Residuals:                  999998   BIC:                         3.516e+06\n",
      "Df Model:                           1                                         \n",
      "Covariance Type:            nonrobust                                         \n",
      "==============================================================================\n",
      "                 coef    std err          t      P>|t|      [0.025      0.975]\n",
      "------------------------------------------------------------------------------\n",
      "const          0.9440      0.002    477.882      0.000       0.940       0.948\n",
      "x1             1.6871      0.003    601.059      0.000       1.682       1.693\n",
      "==============================================================================\n",
      "Omnibus:                    12065.053   Durbin-Watson:                   2.001\n",
      "Prob(Omnibus):                  0.000   Jarque-Bera (JB):            21618.283\n",
      "Skew:                          -0.028   Prob(JB):                         0.00\n",
      "Kurtosis:                       3.718   Cond. No.                         2.61\n",
      "==============================================================================\n",
      "\n",
      "Warnings:\n",
      "[1] Standard Errors assume that the covariance matrix of the errors is correctly specified.\n"
     ]
    }
   ],
   "source": [
    "model = sm.OLS(yi, sm.add_constant(x))\n",
    "model = model.fit()\n",
    "print model.summary()"
   ]
  },
  {
   "cell_type": "markdown",
   "metadata": {},
   "source": [
    "### Part 25\n",
    "\n",
    "Because of the heterogeneity, we do not recover the average treatment effect."
   ]
  },
  {
   "cell_type": "code",
   "execution_count": 16,
   "metadata": {},
   "outputs": [
    {
     "name": "stdout",
     "output_type": "stream",
     "text": [
      "                          IV2SLS Regression Results                           \n",
      "==============================================================================\n",
      "Dep. Variable:                      y   R-squared:                       0.163\n",
      "Model:                         IV2SLS   Adj. R-squared:                  0.163\n",
      "Method:                     Two Stage   F-statistic:                 1.501e+04\n",
      "                        Least Squares   Prob (F-statistic):               0.00\n",
      "Date:                Thu, 15 Nov 2018                                         \n",
      "Time:                        09:41:56                                         \n",
      "No. Observations:             1000000                                         \n",
      "Df Residuals:                  999998                                         \n",
      "Df Model:                           1                                         \n",
      "==============================================================================\n",
      "                 coef    std err          t      P>|t|      [0.025      0.975]\n",
      "------------------------------------------------------------------------------\n",
      "const          1.4622      0.003    488.782      0.000       1.456       1.468\n",
      "x1             0.6407      0.005    122.521      0.000       0.630       0.651\n",
      "==============================================================================\n",
      "Omnibus:                    35783.786   Durbin-Watson:                   2.003\n",
      "Prob(Omnibus):                  0.000   Jarque-Bera (JB):            42013.556\n",
      "Skew:                           0.436   Prob(JB):                         0.00\n",
      "Kurtosis:                       3.497   Cond. No.                         2.61\n",
      "==============================================================================\n"
     ]
    }
   ],
   "source": [
    "model =  IV2SLS(yi, sm.add_constant(x), sm.add_constant(z))\n",
    "model = model.fit()\n",
    "print model.summary()"
   ]
  },
  {
   "cell_type": "markdown",
   "metadata": {},
   "source": [
    "### Part 26\n",
    "\n",
    "The selection process stays the same, so the groups should stay the same as well in parts 8 through 10.\n",
    "\n",
    "The average treatment effect increases. The IV estimate decreases. Neither actually recover the average treatment effect. The IV estimate is just the LATE."
   ]
  },
  {
   "cell_type": "markdown",
   "metadata": {},
   "source": [
    "### Part 27\n",
    "\n",
    "The LATE is estimated by the IV as we can see below"
   ]
  },
  {
   "cell_type": "code",
   "execution_count": 17,
   "metadata": {},
   "outputs": [
    {
     "name": "stdout",
     "output_type": "stream",
     "text": [
      "LATE: 0.641608709852898\n"
     ]
    }
   ],
   "source": [
    "yi1c = (yi*x1c).sum()/x1c.sum()\n",
    "yi0c =  (yi*x0c).sum()/x0c.sum()\n",
    "\n",
    "print 'LATE: %s'%(yi1c - yi0c)"
   ]
  },
  {
   "cell_type": "markdown",
   "metadata": {},
   "source": [
    "### Part 28\n",
    "\n",
    "The IV estimate is the same as the LATE. It is different from the average treatment effect. Each of the groups has its own treatment effect."
   ]
  },
  {
   "cell_type": "code",
   "execution_count": null,
   "metadata": {},
   "outputs": [],
   "source": []
  }
 ],
 "metadata": {
  "kernelspec": {
   "display_name": "Python 2",
   "language": "python",
   "name": "python2"
  },
  "language_info": {
   "codemirror_mode": {
    "name": "ipython",
    "version": 2
   },
   "file_extension": ".py",
   "mimetype": "text/x-python",
   "name": "python",
   "nbconvert_exporter": "python",
   "pygments_lexer": "ipython2",
   "version": "2.7.15"
  }
 },
 "nbformat": 4,
 "nbformat_minor": 2
}
