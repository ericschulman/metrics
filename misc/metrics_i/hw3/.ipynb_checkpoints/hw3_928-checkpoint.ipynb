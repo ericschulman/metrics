{
 "cells": [
  {
   "cell_type": "code",
   "execution_count": 2,
   "metadata": {},
   "outputs": [
    {
     "name": "stderr",
     "output_type": "stream",
     "text": [
      "/home/erichschulman/anaconda2/lib/python2.7/site-packages/statsmodels/compat/pandas.py:56: FutureWarning: The pandas.core.datetools module is deprecated and will be removed in a future version. Please use the pandas.tseries module instead.\n",
      "  from pandas.core import datetools\n"
     ]
    }
   ],
   "source": [
    "import pandas\n",
    "import math\n",
    "import numpy as np\n",
    "import matplotlib.pyplot as plt\n",
    "import statsmodels.api as sm\n",
    "\n",
    "FNAME = '../cps09mar.dta'\n",
    "df0 = pandas.read_stata(FNAME)\n",
    "\n",
    "df = df0[ (df0.race == 2) ]"
   ]
  },
  {
   "cell_type": "code",
   "execution_count": 14,
   "metadata": {},
   "outputs": [],
   "source": [
    "#part b - model set up\n",
    "\n",
    "#dropped variables Hispanic, black, Americian Indian, Asian, Mixed Race from the table in 4.1\n",
    "y = pandas.DataFrame()\n",
    "y = df['lwage']\n",
    "X = df.loc[:,('educ','exp','female')]\n",
    "X['exp_sq'] = X['exp']**2/100\n",
    "X['union'] = df['union']\n",
    "X['female*union'] = df['female'].multiply(df['union'])\n",
    "\n",
    "#Set up marital status dummy variables/interaction effects\n",
    "maritalstatus = pandas.get_dummies(df['marital']).loc[:,(1,2,3,4,5,6)]\n",
    "maritalstatus['married'] = maritalstatus[1] +maritalstatus[2] + maritalstatus[3]\n",
    "maritalstatus['former'] = maritalstatus[4] + maritalstatus[5] +maritalstatus[6]\n",
    "X['married*male'] = (1-df['female']).multiply(maritalstatus['married'])\n",
    "X['married*female'] = df['female'].multiply(maritalstatus['married'])\n",
    "X['former*male'] =  (1-df['female']).multiply(maritalstatus['married'])\n",
    "X['former*female'] = df['female'].multiply(maritalstatus['former'])\n",
    "\n",
    "X = sm.add_constant(X)"
   ]
  },
  {
   "cell_type": "code",
   "execution_count": 15,
   "metadata": {},
   "outputs": [
    {
     "data": {
      "text/html": [
       "<table class=\"simpletable\">\n",
       "<caption>GLS Regression Results</caption>\n",
       "<tr>\n",
       "  <th>Dep. Variable:</th>          <td>lwage</td>      <th>  R-squared:         </th> <td>   0.244</td> \n",
       "</tr>\n",
       "<tr>\n",
       "  <th>Model:</th>                   <td>GLS</td>       <th>  Adj. R-squared:    </th> <td>   0.242</td> \n",
       "</tr>\n",
       "<tr>\n",
       "  <th>Method:</th>             <td>Least Squares</td>  <th>  F-statistic:       </th> <td>   165.0</td> \n",
       "</tr>\n",
       "<tr>\n",
       "  <th>Date:</th>             <td>Wed, 21 Mar 2018</td> <th>  Prob (F-statistic):</th> <td>1.61e-301</td>\n",
       "</tr>\n",
       "<tr>\n",
       "  <th>Time:</th>                 <td>21:03:05</td>     <th>  Log-Likelihood:    </th> <td> -4143.3</td> \n",
       "</tr>\n",
       "<tr>\n",
       "  <th>No. Observations:</th>      <td>  5135</td>      <th>  AIC:               </th> <td>   8309.</td> \n",
       "</tr>\n",
       "<tr>\n",
       "  <th>Df Residuals:</th>          <td>  5124</td>      <th>  BIC:               </th> <td>   8380.</td> \n",
       "</tr>\n",
       "<tr>\n",
       "  <th>Df Model:</th>              <td>    10</td>      <th>                     </th>     <td> </td>    \n",
       "</tr>\n",
       "<tr>\n",
       "  <th>Covariance Type:</th>      <td>nonrobust</td>    <th>                     </th>     <td> </td>    \n",
       "</tr>\n",
       "</table>\n",
       "<table class=\"simpletable\">\n",
       "<tr>\n",
       "         <td></td>           <th>coef</th>     <th>std err</th>      <th>t</th>      <th>P>|t|</th>  <th>[0.025</th>    <th>0.975]</th>  \n",
       "</tr>\n",
       "<tr>\n",
       "  <th>const</th>          <td>    0.8537</td> <td>    0.054</td> <td>   15.763</td> <td> 0.000</td> <td>    0.748</td> <td>    0.960</td>\n",
       "</tr>\n",
       "<tr>\n",
       "  <th>educ</th>           <td>    0.1187</td> <td>    0.003</td> <td>   35.514</td> <td> 0.000</td> <td>    0.112</td> <td>    0.125</td>\n",
       "</tr>\n",
       "<tr>\n",
       "  <th>exp</th>            <td>    0.0232</td> <td>    0.002</td> <td>    9.738</td> <td> 0.000</td> <td>    0.019</td> <td>    0.028</td>\n",
       "</tr>\n",
       "<tr>\n",
       "  <th>female</th>         <td>   -0.0925</td> <td>    0.027</td> <td>   -3.410</td> <td> 0.001</td> <td>   -0.146</td> <td>   -0.039</td>\n",
       "</tr>\n",
       "<tr>\n",
       "  <th>exp_sq</th>         <td>   -0.0330</td> <td>    0.005</td> <td>   -7.002</td> <td> 0.000</td> <td>   -0.042</td> <td>   -0.024</td>\n",
       "</tr>\n",
       "<tr>\n",
       "  <th>union</th>          <td>    0.1417</td> <td>    0.075</td> <td>    1.878</td> <td> 0.060</td> <td>   -0.006</td> <td>    0.290</td>\n",
       "</tr>\n",
       "<tr>\n",
       "  <th>female*union</th>   <td>   -0.1536</td> <td>    0.109</td> <td>   -1.412</td> <td> 0.158</td> <td>   -0.367</td> <td>    0.060</td>\n",
       "</tr>\n",
       "<tr>\n",
       "  <th>married</th>        <td>    0.1513</td> <td>    0.027</td> <td>    5.667</td> <td> 0.000</td> <td>    0.099</td> <td>    0.204</td>\n",
       "</tr>\n",
       "<tr>\n",
       "  <th>married*female</th> <td>   -0.0847</td> <td>    0.035</td> <td>   -2.411</td> <td> 0.016</td> <td>   -0.154</td> <td>   -0.016</td>\n",
       "</tr>\n",
       "<tr>\n",
       "  <th>former</th>         <td>    0.0793</td> <td>    0.036</td> <td>    2.190</td> <td> 0.029</td> <td>    0.008</td> <td>    0.150</td>\n",
       "</tr>\n",
       "<tr>\n",
       "  <th>former*female</th>  <td>   -0.0850</td> <td>    0.044</td> <td>   -1.924</td> <td> 0.054</td> <td>   -0.172</td> <td>    0.002</td>\n",
       "</tr>\n",
       "</table>\n",
       "<table class=\"simpletable\">\n",
       "<tr>\n",
       "  <th>Omnibus:</th>       <td>2538.089</td> <th>  Durbin-Watson:     </th> <td>   1.813</td> \n",
       "</tr>\n",
       "<tr>\n",
       "  <th>Prob(Omnibus):</th>  <td> 0.000</td>  <th>  Jarque-Bera (JB):  </th> <td>66919.857</td>\n",
       "</tr>\n",
       "<tr>\n",
       "  <th>Skew:</th>           <td>-1.806</td>  <th>  Prob(JB):          </th> <td>    0.00</td> \n",
       "</tr>\n",
       "<tr>\n",
       "  <th>Kurtosis:</th>       <td>20.313</td>  <th>  Cond. No.          </th> <td>    480.</td> \n",
       "</tr>\n",
       "</table>"
      ],
      "text/plain": [
       "<class 'statsmodels.iolib.summary.Summary'>\n",
       "\"\"\"\n",
       "                            GLS Regression Results                            \n",
       "==============================================================================\n",
       "Dep. Variable:                  lwage   R-squared:                       0.244\n",
       "Model:                            GLS   Adj. R-squared:                  0.242\n",
       "Method:                 Least Squares   F-statistic:                     165.0\n",
       "Date:                Wed, 21 Mar 2018   Prob (F-statistic):          1.61e-301\n",
       "Time:                        21:03:05   Log-Likelihood:                -4143.3\n",
       "No. Observations:                5135   AIC:                             8309.\n",
       "Df Residuals:                    5124   BIC:                             8380.\n",
       "Df Model:                          10                                         \n",
       "Covariance Type:            nonrobust                                         \n",
       "==================================================================================\n",
       "                     coef    std err          t      P>|t|      [0.025      0.975]\n",
       "----------------------------------------------------------------------------------\n",
       "const              0.8537      0.054     15.763      0.000       0.748       0.960\n",
       "educ               0.1187      0.003     35.514      0.000       0.112       0.125\n",
       "exp                0.0232      0.002      9.738      0.000       0.019       0.028\n",
       "female            -0.0925      0.027     -3.410      0.001      -0.146      -0.039\n",
       "exp_sq            -0.0330      0.005     -7.002      0.000      -0.042      -0.024\n",
       "union              0.1417      0.075      1.878      0.060      -0.006       0.290\n",
       "female*union      -0.1536      0.109     -1.412      0.158      -0.367       0.060\n",
       "married            0.1513      0.027      5.667      0.000       0.099       0.204\n",
       "married*female    -0.0847      0.035     -2.411      0.016      -0.154      -0.016\n",
       "former             0.0793      0.036      2.190      0.029       0.008       0.150\n",
       "former*female     -0.0850      0.044     -1.924      0.054      -0.172       0.002\n",
       "==============================================================================\n",
       "Omnibus:                     2538.089   Durbin-Watson:                   1.813\n",
       "Prob(Omnibus):                  0.000   Jarque-Bera (JB):            66919.857\n",
       "Skew:                          -1.806   Prob(JB):                         0.00\n",
       "Kurtosis:                      20.313   Cond. No.                         480.\n",
       "==============================================================================\n",
       "\n",
       "Warnings:\n",
       "[1] Standard Errors assume that the covariance matrix of the errors is correctly specified.\n",
       "\"\"\""
      ]
     },
     "execution_count": 15,
     "metadata": {},
     "output_type": "execute_result"
    }
   ],
   "source": [
    "#part b\n",
    "\n",
    "#There are 4 restrictions. b7=0, b8=0, b9=0, and b10=0\n",
    "\n",
    "model = sm.GLS(y,X).fit()\n",
    "model.summary()"
   ]
  },
  {
   "cell_type": "code",
   "execution_count": 7,
   "metadata": {},
   "outputs": [
    {
     "data": {
      "text/plain": [
       "'<F test: F=array([[ 16.82039289]]), p=1.04508123402e-13, df_denom=5125, df_num=4>'"
      ]
     },
     "execution_count": 7,
     "metadata": {},
     "output_type": "execute_result"
    }
   ],
   "source": [
    "#Part c-d\n",
    "\n",
    "R = [[0,0,0,0,0,0,1,0,0,0],[0,0,0,0,0,0,0,1,0,0],[0,0,0,0,0,0,0,0,1,0],[0,0,0,0,0,0,0,0,0,1]]\n",
    "wtest = model.wald_test(R)\n",
    "wtest.summary()\n",
    "\n",
    "#The P-Value is essentially 0, we can reject the null Hypothesis"
   ]
  },
  {
   "cell_type": "code",
   "execution_count": null,
   "metadata": {
    "collapsed": true
   },
   "outputs": [],
   "source": []
  }
 ],
 "metadata": {
  "kernelspec": {
   "display_name": "Python 2",
   "language": "python",
   "name": "python2"
  },
  "language_info": {
   "codemirror_mode": {
    "name": "ipython",
    "version": 2
   },
   "file_extension": ".py",
   "mimetype": "text/x-python",
   "name": "python",
   "nbconvert_exporter": "python",
   "pygments_lexer": "ipython2",
   "version": "2.7.14"
  }
 },
 "nbformat": 4,
 "nbformat_minor": 2
}
