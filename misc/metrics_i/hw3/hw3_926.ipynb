{
 "cells": [
  {
   "cell_type": "code",
   "execution_count": 1,
   "metadata": {},
   "outputs": [
    {
     "name": "stderr",
     "output_type": "stream",
     "text": [
      "/home/erichschulman/anaconda2/lib/python2.7/site-packages/statsmodels/compat/pandas.py:56: FutureWarning: The pandas.core.datetools module is deprecated and will be removed in a future version. Please use the pandas.tseries module instead.\n",
      "  from pandas.core import datetools\n"
     ]
    }
   ],
   "source": [
    "import pandas\n",
    "import math\n",
    "import numpy as np\n",
    "import matplotlib.pyplot as plt\n",
    "import statsmodels.api as sm\n",
    "\n",
    "FNAME = '../Nerlove1963.dta'\n",
    "df = pandas.read_stata(FNAME)"
   ]
  },
  {
   "cell_type": "code",
   "execution_count": 2,
   "metadata": {},
   "outputs": [
    {
     "name": "stdout",
     "output_type": "stream",
     "text": [
      "['cost', 'output', 'Plabor', 'Pfuel', 'Pcapital', 'lc', 'lq', 'lpl', 'lpf', 'lpc']\n"
     ]
    }
   ],
   "source": [
    "print list(df)"
   ]
  },
  {
   "cell_type": "code",
   "execution_count": 15,
   "metadata": {},
   "outputs": [
    {
     "data": {
      "text/html": [
       "<table class=\"simpletable\">\n",
       "<caption>GLS Regression Results</caption>\n",
       "<tr>\n",
       "  <th>Dep. Variable:</th>           <td>lc</td>        <th>  R-squared:         </th> <td>   0.926</td>\n",
       "</tr>\n",
       "<tr>\n",
       "  <th>Model:</th>                   <td>GLS</td>       <th>  Adj. R-squared:    </th> <td>   0.924</td>\n",
       "</tr>\n",
       "<tr>\n",
       "  <th>Method:</th>             <td>Least Squares</td>  <th>  F-statistic:       </th> <td>   437.7</td>\n",
       "</tr>\n",
       "<tr>\n",
       "  <th>Date:</th>             <td>Wed, 21 Mar 2018</td> <th>  Prob (F-statistic):</th> <td>4.82e-78</td>\n",
       "</tr>\n",
       "<tr>\n",
       "  <th>Time:</th>                 <td>20:35:39</td>     <th>  Log-Likelihood:    </th> <td> -67.542</td>\n",
       "</tr>\n",
       "<tr>\n",
       "  <th>No. Observations:</th>      <td>   145</td>      <th>  AIC:               </th> <td>   145.1</td>\n",
       "</tr>\n",
       "<tr>\n",
       "  <th>Df Residuals:</th>          <td>   140</td>      <th>  BIC:               </th> <td>   160.0</td>\n",
       "</tr>\n",
       "<tr>\n",
       "  <th>Df Model:</th>              <td>     4</td>      <th>                     </th>     <td> </td>   \n",
       "</tr>\n",
       "<tr>\n",
       "  <th>Covariance Type:</th>      <td>nonrobust</td>    <th>                     </th>     <td> </td>   \n",
       "</tr>\n",
       "</table>\n",
       "<table class=\"simpletable\">\n",
       "<tr>\n",
       "    <td></td>       <th>coef</th>     <th>std err</th>      <th>t</th>      <th>P>|t|</th>  <th>[0.025</th>    <th>0.975]</th>  \n",
       "</tr>\n",
       "<tr>\n",
       "  <th>const</th> <td>   -3.5265</td> <td>    1.774</td> <td>   -1.987</td> <td> 0.049</td> <td>   -7.035</td> <td>   -0.018</td>\n",
       "</tr>\n",
       "<tr>\n",
       "  <th>lq</th>    <td>    0.7204</td> <td>    0.017</td> <td>   41.244</td> <td> 0.000</td> <td>    0.686</td> <td>    0.755</td>\n",
       "</tr>\n",
       "<tr>\n",
       "  <th>lpl</th>   <td>    0.4363</td> <td>    0.291</td> <td>    1.499</td> <td> 0.136</td> <td>   -0.139</td> <td>    1.012</td>\n",
       "</tr>\n",
       "<tr>\n",
       "  <th>lpf</th>   <td>    0.4265</td> <td>    0.100</td> <td>    4.249</td> <td> 0.000</td> <td>    0.228</td> <td>    0.625</td>\n",
       "</tr>\n",
       "<tr>\n",
       "  <th>lpc</th>   <td>   -0.2199</td> <td>    0.339</td> <td>   -0.648</td> <td> 0.518</td> <td>   -0.891</td> <td>    0.451</td>\n",
       "</tr>\n",
       "</table>\n",
       "<table class=\"simpletable\">\n",
       "<tr>\n",
       "  <th>Omnibus:</th>       <td>51.403</td> <th>  Durbin-Watson:     </th> <td>   1.013</td>\n",
       "</tr>\n",
       "<tr>\n",
       "  <th>Prob(Omnibus):</th> <td> 0.000</td> <th>  Jarque-Bera (JB):  </th> <td> 175.700</td>\n",
       "</tr>\n",
       "<tr>\n",
       "  <th>Skew:</th>          <td> 1.303</td> <th>  Prob(JB):          </th> <td>7.03e-39</td>\n",
       "</tr>\n",
       "<tr>\n",
       "  <th>Kurtosis:</th>      <td> 7.721</td> <th>  Cond. No.          </th> <td>    506.</td>\n",
       "</tr>\n",
       "</table>"
      ],
      "text/plain": [
       "<class 'statsmodels.iolib.summary.Summary'>\n",
       "\"\"\"\n",
       "                            GLS Regression Results                            \n",
       "==============================================================================\n",
       "Dep. Variable:                     lc   R-squared:                       0.926\n",
       "Model:                            GLS   Adj. R-squared:                  0.924\n",
       "Method:                 Least Squares   F-statistic:                     437.7\n",
       "Date:                Wed, 21 Mar 2018   Prob (F-statistic):           4.82e-78\n",
       "Time:                        20:35:39   Log-Likelihood:                -67.542\n",
       "No. Observations:                 145   AIC:                             145.1\n",
       "Df Residuals:                     140   BIC:                             160.0\n",
       "Df Model:                           4                                         \n",
       "Covariance Type:            nonrobust                                         \n",
       "==============================================================================\n",
       "                 coef    std err          t      P>|t|      [0.025      0.975]\n",
       "------------------------------------------------------------------------------\n",
       "const         -3.5265      1.774     -1.987      0.049      -7.035      -0.018\n",
       "lq             0.7204      0.017     41.244      0.000       0.686       0.755\n",
       "lpl            0.4363      0.291      1.499      0.136      -0.139       1.012\n",
       "lpf            0.4265      0.100      4.249      0.000       0.228       0.625\n",
       "lpc           -0.2199      0.339     -0.648      0.518      -0.891       0.451\n",
       "==============================================================================\n",
       "Omnibus:                       51.403   Durbin-Watson:                   1.013\n",
       "Prob(Omnibus):                  0.000   Jarque-Bera (JB):              175.700\n",
       "Skew:                           1.303   Prob(JB):                     7.03e-39\n",
       "Kurtosis:                       7.721   Cond. No.                         506.\n",
       "==============================================================================\n",
       "\n",
       "Warnings:\n",
       "[1] Standard Errors assume that the covariance matrix of the errors is correctly specified.\n",
       "\"\"\""
      ]
     },
     "execution_count": 15,
     "metadata": {},
     "output_type": "execute_result"
    }
   ],
   "source": [
    "#part a, general model\n",
    "y = pandas.DataFrame()\n",
    "y['lc'] = df['lc']\n",
    "X1 = df[['lq','lpl','lpf','lpc']]\n",
    "X1 = sm.add_constant(X1)\n",
    "model1 = sm.GLS(y,X1).fit()\n",
    "model1.summary()"
   ]
  },
  {
   "cell_type": "code",
   "execution_count": 4,
   "metadata": {
    "collapsed": true
   },
   "outputs": [],
   "source": [
    "# part b\n",
    "\n",
    "#the restriction is ensuring constant returns to scale"
   ]
  },
  {
   "cell_type": "code",
   "execution_count": 16,
   "metadata": {},
   "outputs": [
    {
     "data": {
      "text/html": [
       "<table class=\"simpletable\">\n",
       "<caption>GLS Regression Results</caption>\n",
       "<tr>\n",
       "  <th>Dep. Variable:</th>         <td>lc-lpf</td>      <th>  R-squared:         </th> <td>   0.932</td>\n",
       "</tr>\n",
       "<tr>\n",
       "  <th>Model:</th>                   <td>GLS</td>       <th>  Adj. R-squared:    </th> <td>   0.930</td>\n",
       "</tr>\n",
       "<tr>\n",
       "  <th>Method:</th>             <td>Least Squares</td>  <th>  F-statistic:       </th> <td>   640.0</td>\n",
       "</tr>\n",
       "<tr>\n",
       "  <th>Date:</th>             <td>Wed, 21 Mar 2018</td> <th>  Prob (F-statistic):</th> <td>6.95e-82</td>\n",
       "</tr>\n",
       "<tr>\n",
       "  <th>Time:</th>                 <td>20:36:28</td>     <th>  Log-Likelihood:    </th> <td> -67.838</td>\n",
       "</tr>\n",
       "<tr>\n",
       "  <th>No. Observations:</th>      <td>   145</td>      <th>  AIC:               </th> <td>   143.7</td>\n",
       "</tr>\n",
       "<tr>\n",
       "  <th>Df Residuals:</th>          <td>   141</td>      <th>  BIC:               </th> <td>   155.6</td>\n",
       "</tr>\n",
       "<tr>\n",
       "  <th>Df Model:</th>              <td>     3</td>      <th>                     </th>     <td> </td>   \n",
       "</tr>\n",
       "<tr>\n",
       "  <th>Covariance Type:</th>      <td>nonrobust</td>    <th>                     </th>     <td> </td>   \n",
       "</tr>\n",
       "</table>\n",
       "<table class=\"simpletable\">\n",
       "<tr>\n",
       "     <td></td>        <th>coef</th>     <th>std err</th>      <th>t</th>      <th>P>|t|</th>  <th>[0.025</th>    <th>0.975]</th>  \n",
       "</tr>\n",
       "<tr>\n",
       "  <th>const</th>   <td>   -4.6908</td> <td>    0.885</td> <td>   -5.301</td> <td> 0.000</td> <td>   -6.440</td> <td>   -2.941</td>\n",
       "</tr>\n",
       "<tr>\n",
       "  <th>lq</th>      <td>    0.7207</td> <td>    0.017</td> <td>   41.334</td> <td> 0.000</td> <td>    0.686</td> <td>    0.755</td>\n",
       "</tr>\n",
       "<tr>\n",
       "  <th>lpl-lpf</th> <td>    0.5929</td> <td>    0.205</td> <td>    2.898</td> <td> 0.004</td> <td>    0.188</td> <td>    0.997</td>\n",
       "</tr>\n",
       "<tr>\n",
       "  <th>lpc-lpf</th> <td>   -0.0074</td> <td>    0.191</td> <td>   -0.039</td> <td> 0.969</td> <td>   -0.384</td> <td>    0.370</td>\n",
       "</tr>\n",
       "</table>\n",
       "<table class=\"simpletable\">\n",
       "<tr>\n",
       "  <th>Omnibus:</th>       <td>49.416</td> <th>  Durbin-Watson:     </th> <td>   1.015</td>\n",
       "</tr>\n",
       "<tr>\n",
       "  <th>Prob(Omnibus):</th> <td> 0.000</td> <th>  Jarque-Bera (JB):  </th> <td> 166.633</td>\n",
       "</tr>\n",
       "<tr>\n",
       "  <th>Skew:</th>          <td> 1.252</td> <th>  Prob(JB):          </th> <td>6.55e-37</td>\n",
       "</tr>\n",
       "<tr>\n",
       "  <th>Kurtosis:</th>      <td> 7.617</td> <th>  Cond. No.          </th> <td>    215.</td>\n",
       "</tr>\n",
       "</table>"
      ],
      "text/plain": [
       "<class 'statsmodels.iolib.summary.Summary'>\n",
       "\"\"\"\n",
       "                            GLS Regression Results                            \n",
       "==============================================================================\n",
       "Dep. Variable:                 lc-lpf   R-squared:                       0.932\n",
       "Model:                            GLS   Adj. R-squared:                  0.930\n",
       "Method:                 Least Squares   F-statistic:                     640.0\n",
       "Date:                Wed, 21 Mar 2018   Prob (F-statistic):           6.95e-82\n",
       "Time:                        20:36:28   Log-Likelihood:                -67.838\n",
       "No. Observations:                 145   AIC:                             143.7\n",
       "Df Residuals:                     141   BIC:                             155.6\n",
       "Df Model:                           3                                         \n",
       "Covariance Type:            nonrobust                                         \n",
       "==============================================================================\n",
       "                 coef    std err          t      P>|t|      [0.025      0.975]\n",
       "------------------------------------------------------------------------------\n",
       "const         -4.6908      0.885     -5.301      0.000      -6.440      -2.941\n",
       "lq             0.7207      0.017     41.334      0.000       0.686       0.755\n",
       "lpl-lpf        0.5929      0.205      2.898      0.004       0.188       0.997\n",
       "lpc-lpf       -0.0074      0.191     -0.039      0.969      -0.384       0.370\n",
       "==============================================================================\n",
       "Omnibus:                       49.416   Durbin-Watson:                   1.015\n",
       "Prob(Omnibus):                  0.000   Jarque-Bera (JB):              166.633\n",
       "Skew:                           1.252   Prob(JB):                     6.55e-37\n",
       "Kurtosis:                       7.617   Cond. No.                         215.\n",
       "==============================================================================\n",
       "\n",
       "Warnings:\n",
       "[1] Standard Errors assume that the covariance matrix of the errors is correctly specified.\n",
       "\"\"\""
      ]
     },
     "execution_count": 16,
     "metadata": {},
     "output_type": "execute_result"
    }
   ],
   "source": [
    "#part c, impose the restriction b5 = 1 - b3 - b4\n",
    "#i.e. y - x5 = b0 + b1 x1 + b2 x2 + b3 (x3 -x5) + b4 (x4-x5)\n",
    "X2 = pandas.DataFrame()\n",
    "y2 = pandas.DataFrame()\n",
    "y2['lc-lpf'] = y['lc'].add(-1.0*X1['lpf'])\n",
    "X2['lq'] = X1['lq']\n",
    "X2['lpl-lpf'] = X1['lpl'].add(-1.0*X1['lpf'])\n",
    "X2['lpc-lpf'] = X1['lpc'].add(-1.0*X1['lpf'])\n",
    "X2 = sm.add_constant(X2)\n",
    "model2 = sm.GLS(y2,X2).fit()\n",
    "model2.summary()"
   ]
  },
  {
   "cell_type": "code",
   "execution_count": 52,
   "metadata": {},
   "outputs": [
    {
     "name": "stdout",
     "output_type": "stream",
     "text": [
      "----Covariance Matrix----\n",
      "[[ 0.64567611 -0.01363163  0.1251872  -0.11646145]\n",
      " [-0.01363163  0.00102454 -0.00128702  0.0015356 ]\n",
      " [ 0.1251872  -0.00128702  0.02779562 -0.02311692]\n",
      " [-0.11646145  0.0015356  -0.02311692  0.02360139]]\n",
      "----Coeficients----\n",
      "const     -4.690789\n",
      "lq         0.720688\n",
      "lpl-lpf    0.592910\n",
      "lpc-lpf   -0.007381\n",
      "dtype: float64\n",
      "----SE----\n",
      "const      0.803540\n",
      "lq         0.032008\n",
      "lpl-lpf    0.166720\n",
      "lpc-lpf    0.153627\n",
      "dtype: float64\n"
     ]
    }
   ],
   "source": [
    "#part d\n",
    "print '----Covariance Matrix----'\n",
    "print model2.cov_HC0\n",
    "\n",
    "model3 = sm.GLS(y2,X2,weights=model2.cov_HC0).fit()\n",
    "\n",
    "#python is being tempermental about printing...\n",
    "print '----Coeficients----'\n",
    "print model3.params\n",
    "print '----SE----'\n",
    "print model3.HC0_se"
   ]
  },
  {
   "cell_type": "code",
   "execution_count": 27,
   "metadata": {},
   "outputs": [
    {
     "data": {
      "text/plain": [
       "<class 'statsmodels.stats.contrast.ContrastResults'>\n",
       "<F test: F=array([[ 0.57366045]]), p=0.450080906804, df_denom=140, df_num=1>"
      ]
     },
     "execution_count": 27,
     "metadata": {},
     "output_type": "execute_result"
    }
   ],
   "source": [
    "#part e\n",
    "model1.wald_test(([0,0,1,1,1],1))"
   ]
  },
  {
   "cell_type": "code",
   "execution_count": 26,
   "metadata": {},
   "outputs": [
    {
     "data": {
      "text/plain": [
       "<class 'statsmodels.stats.contrast.ContrastResults'>\n",
       "<F test: F=array([[ 0.57366045]]), p=0.450080906804, df_denom=140, df_num=1>"
      ]
     },
     "execution_count": 26,
     "metadata": {},
     "output_type": "execute_result"
    }
   ],
   "source": [
    "#part f\n",
    "model4 = sm.GLS(y,X1,weights=model1.cov_HC0).fit()\n",
    "model4.wald_test(([0,0,1,1,1],1))"
   ]
  },
  {
   "cell_type": "code",
   "execution_count": null,
   "metadata": {
    "collapsed": true
   },
   "outputs": [],
   "source": []
  }
 ],
 "metadata": {
  "kernelspec": {
   "display_name": "Python 2",
   "language": "python",
   "name": "python2"
  },
  "language_info": {
   "codemirror_mode": {
    "name": "ipython",
    "version": 2
   },
   "file_extension": ".py",
   "mimetype": "text/x-python",
   "name": "python",
   "nbconvert_exporter": "python",
   "pygments_lexer": "ipython2",
   "version": "2.7.14"
  }
 },
 "nbformat": 4,
 "nbformat_minor": 2
}
