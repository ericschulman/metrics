{
 "cells": [
  {
   "cell_type": "code",
   "execution_count": 32,
   "metadata": {
    "collapsed": true
   },
   "outputs": [],
   "source": [
    "import pandas\n",
    "import math\n",
    "import numpy as np\n",
    "import matplotlib.pyplot as plt\n",
    "import statsmodels.api as sm\n",
    "from statsmodels.sandbox.regression.gmm import LinearIVGMM\n",
    "from statsmodels.sandbox.regression.gmm import IV2SLS\n",
    "\n",
    "df = pandas.read_stata('../Card1995.dta').dropna()"
   ]
  },
  {
   "cell_type": "code",
   "execution_count": 33,
   "metadata": {
    "collapsed": true
   },
   "outputs": [],
   "source": [
    "#lwage76, ed76 , age76, smsa76r, reg76r, nearc2, nearc4, nearc4a, nearc4b\n",
    "\n",
    "#Set up X\n",
    "y = df['lwage76']*1.0\n",
    "X = pandas.DataFrame()\n",
    "X['south'] = df['reg76r']*1.0\n",
    "X['black'] = df['smsa76r']*1.0\n",
    "X['exp'] = (1.0*df['age76'] - 6.0).add(-1.0*df['ed76'])\n",
    "X['exp_sq'] = (X['exp']**2)/100\n",
    "\n",
    "#Set up IV\n",
    "I_a = pandas.DataFrame()\n",
    "I_a = X.copy()\n",
    "I_a['nearc4a'] = df['nearc4a']*1.0\n",
    "I_a['nearc4b'] = df['nearc4b']*1.0\n",
    "\n",
    "#Set Up Regular X\n",
    "X_a = X.copy()\n",
    "X_a['educ'] = df['ed76']\n",
    "#X_a = sm.add_constant(X_a)"
   ]
  },
  {
   "cell_type": "code",
   "execution_count": 72,
   "metadata": {},
   "outputs": [
    {
     "name": "stdout",
     "output_type": "stream",
     "text": [
      "________2SLS Parameters________\n",
      "south     0.007390\n",
      "black     0.217554\n",
      "exp       0.382367\n",
      "exp_sq   -1.326691\n",
      "educ      0.291469\n",
      "dtype: float64\n"
     ]
    }
   ],
   "source": [
    "#part a - run standard model\n",
    "model_a = IV2SLS(y,X_a,instrument=I_a).fit()\n",
    "print '________2SLS Parameters________'\n",
    "print model_a.params"
   ]
  },
  {
   "cell_type": "code",
   "execution_count": 71,
   "metadata": {},
   "outputs": [
    {
     "name": "stdout",
     "output_type": "stream",
     "text": [
      "south    -0.007523\n",
      "black     0.163510\n",
      "exp       0.335635\n",
      "exp_sq   -1.075060\n",
      "educ      0.308434\n",
      "dtype: float64\n"
     ]
    }
   ],
   "source": [
    "#part b - add nearc2 as instrument\n",
    "I_b = I_a.copy()\n",
    "I_b['nearc2'] = df['nearc2']\n",
    "\n",
    "model_b = IV2SLS(y,X_a,instrument=I_b).fit()\n",
    "print model_b.params"
   ]
  },
  {
   "cell_type": "code",
   "execution_count": 70,
   "metadata": {},
   "outputs": [
    {
     "name": "stdout",
     "output_type": "stream",
     "text": [
      "________OLS Parameters________\n",
      "south    -0.007523\n",
      "black     0.163510\n",
      "exp       0.335635\n",
      "exp_sq   -1.075060\n",
      "educ      0.308434\n",
      "dtype: float64\n"
     ]
    }
   ],
   "source": [
    "#part c - even more insturments, reduced form\n",
    "I_c = I_b.copy()\n",
    "I_c['nearc4a*age76'] = I_b['nearc4a'].multiply(df['age76']*1.0)\n",
    "I_c['nearc4a*age76^2/100'] = I_b['nearc4a'].multiply(df['age76']**2/100)\n",
    "\n",
    "model_c = sm.OLS(X_a['educ'],I_c).fit()\n",
    "print '________OLS Parameters________'\n",
    "print model_b.params"
   ]
  },
  {
   "cell_type": "code",
   "execution_count": 69,
   "metadata": {},
   "outputs": [
    {
     "name": "stdout",
     "output_type": "stream",
     "text": [
      "________2SLS Parameters________\n",
      "south     0.005668\n",
      "black     0.211316\n",
      "exp       0.376973\n",
      "exp_sq   -1.297649\n",
      "educ      0.293427\n",
      "dtype: float64\n"
     ]
    }
   ],
   "source": [
    "#part d - 2SLS\n",
    "I_c = I_b.copy()\n",
    "I_c['nearc4a*age76'] = I_b['nearc4a'].multiply(df['age76']*1.0)\n",
    "I_c['nearc4a*age76^2/100'] = I_b['nearc4a'].multiply(df['age76']**2/100)\n",
    "model_c = IV2SLS(y,X_a,I_c).fit()\n",
    "print '________2SLS Parameters________'\n",
    "print model_c.params"
   ]
  },
  {
   "cell_type": "code",
   "execution_count": 1,
   "metadata": {},
   "outputs": [
    {
     "name": "stderr",
     "output_type": "stream",
     "text": [
      "/home/erichschulman/anaconda2/lib/python2.7/site-packages/statsmodels/compat/pandas.py:56: FutureWarning: The pandas.core.datetools module is deprecated and will be removed in a future version. Please use the pandas.tseries module instead.\n",
      "  from pandas.core import datetools\n"
     ]
    }
   ],
   "source": [
    "#part e - LIML package doesn't exist yet..."
   ]
  },
  {
   "cell_type": "code",
   "execution_count": 68,
   "metadata": {},
   "outputs": [
    {
     "name": "stdout",
     "output_type": "stream",
     "text": [
      "________Linear GMM Parameters________\n",
      "[ 0.0073895   0.2175537   0.38236655 -1.32669071  0.29146924]\n"
     ]
    }
   ],
   "source": [
    "#12.21 part a\n",
    "model_1221_a = LinearIVGMM(y,X_a,I_a)\n",
    "model_1221_a = LinearIVGMM(y,X_a,I_a).fitgmm(model_1221_a.fitstart())\n",
    "print '________Linear GMM Parameters________'\n",
    "print model_1221_a"
   ]
  },
  {
   "cell_type": "code",
   "execution_count": 67,
   "metadata": {},
   "outputs": [
    {
     "name": "stdout",
     "output_type": "stream",
     "text": [
      "________Linear GMM Parameters________\n",
      "[-0.00752271  0.16350964  0.33563465 -1.07505988  0.30843416]\n"
     ]
    }
   ],
   "source": []
  },
  {
   "cell_type": "code",
   "execution_count": 66,
   "metadata": {
    "collapsed": true
   },
   "outputs": [],
   "source": []
  },
  {
   "cell_type": "code",
   "execution_count": null,
   "metadata": {
    "collapsed": true
   },
   "outputs": [],
   "source": []
  }
 ],
 "metadata": {
  "kernelspec": {
   "display_name": "Python 2",
   "language": "python",
   "name": "python2"
  },
  "language_info": {
   "codemirror_mode": {
    "name": "ipython",
    "version": 2
   },
   "file_extension": ".py",
   "mimetype": "text/x-python",
   "name": "python",
   "nbconvert_exporter": "python",
   "pygments_lexer": "ipython2",
   "version": "2.7.14"
  }
 },
 "nbformat": 4,
 "nbformat_minor": 2
}
