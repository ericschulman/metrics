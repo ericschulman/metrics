{
 "cells": [
  {
   "cell_type": "code",
   "execution_count": 6,
   "metadata": {},
   "outputs": [
    {
     "name": "stderr",
     "output_type": "stream",
     "text": [
      "/home/erichschulman/anaconda2/lib/python2.7/site-packages/statsmodels/compat/pandas.py:56: FutureWarning: The pandas.core.datetools module is deprecated and will be removed in a future version. Please use the pandas.tseries module instead.\n",
      "  from pandas.core import datetools\n"
     ]
    }
   ],
   "source": [
    "import pandas\n",
    "import math\n",
    "import numpy as np\n",
    "import matplotlib.pyplot as plt\n",
    "import statsmodels.api as sm\n",
    "\n",
    "df = pandas.read_stata('../Card1995.dta')"
   ]
  },
  {
   "cell_type": "code",
   "execution_count": 50,
   "metadata": {},
   "outputs": [
    {
     "name": "stdout",
     "output_type": "stream",
     "text": [
      "      south  black   exp  exp_sq\n",
      "5       0.0    1.0   8.0    0.64\n",
      "6       0.0    1.0   9.0    0.81\n",
      "7       0.0    1.0   9.0    0.81\n",
      "8       0.0    1.0  10.0    1.00\n",
      "9       0.0    1.0  11.0    1.21\n",
      "11      0.0    1.0   8.0    0.64\n",
      "13      0.0    1.0  13.0    1.69\n",
      "14      0.0    1.0   9.0    0.81\n",
      "18      0.0    1.0   9.0    0.81\n",
      "19      0.0    1.0  10.0    1.00\n",
      "23      0.0    1.0  10.0    1.00\n",
      "24      0.0    0.0  11.0    1.21\n",
      "26      0.0    1.0  14.0    1.96\n",
      "28      0.0    0.0  10.0    1.00\n",
      "31      0.0    1.0   7.0    0.49\n",
      "32      0.0    0.0   9.0    0.81\n",
      "39      0.0    1.0   8.0    0.64\n",
      "40      0.0    1.0  15.0    2.25\n",
      "41      0.0    1.0  10.0    1.00\n",
      "48      0.0    1.0  11.0    1.21\n",
      "49      0.0    1.0  17.0    2.89\n",
      "53      0.0    1.0   6.0    0.36\n",
      "54      0.0    1.0   5.0    0.25\n",
      "56      0.0    1.0   8.0    0.64\n",
      "61      0.0    1.0   9.0    0.81\n",
      "62      0.0    1.0   9.0    0.81\n",
      "66      0.0    1.0  10.0    1.00\n",
      "67      0.0    1.0  13.0    1.69\n",
      "71      0.0    1.0  12.0    1.44\n",
      "72      0.0    1.0   6.0    0.36\n",
      "...     ...    ...   ...     ...\n",
      "3506    1.0    1.0   7.0    0.49\n",
      "3507    1.0    1.0   2.0    0.04\n",
      "3508    1.0    1.0   3.0    0.09\n",
      "3509    1.0    1.0   4.0    0.16\n",
      "3511    1.0    1.0   9.0    0.81\n",
      "3512    0.0    1.0   6.0    0.36\n",
      "3513    1.0    1.0  11.0    1.21\n",
      "3515    1.0    1.0  14.0    1.96\n",
      "3520    1.0    0.0  14.0    1.96\n",
      "3523    1.0    0.0  12.0    1.44\n",
      "3524    1.0    0.0  14.0    1.96\n",
      "3529    1.0    0.0   5.0    0.25\n",
      "3531    1.0    1.0   6.0    0.36\n",
      "3535    1.0    1.0  15.0    2.25\n",
      "3539    1.0    0.0  13.0    1.69\n",
      "3543    1.0    1.0   9.0    0.81\n",
      "3549    1.0    0.0   7.0    0.49\n",
      "3550    1.0    0.0   6.0    0.36\n",
      "3558    1.0    0.0  10.0    1.00\n",
      "3561    1.0    1.0   9.0    0.81\n",
      "3568    1.0    0.0  11.0    1.21\n",
      "3574    1.0    0.0   8.0    0.64\n",
      "3588    1.0    0.0  11.0    1.21\n",
      "3589    1.0    0.0   9.0    0.81\n",
      "3590    1.0    0.0   7.0    0.49\n",
      "3597    1.0    1.0   8.0    0.64\n",
      "3601    1.0    0.0   8.0    0.64\n",
      "3604    1.0    0.0   6.0    0.36\n",
      "3609    1.0    0.0   6.0    0.36\n",
      "3610    1.0    0.0  13.0    1.69\n",
      "\n",
      "[1461 rows x 4 columns]\n"
     ]
    }
   ],
   "source": [
    "#lwage76, ed76 , age76, smsa76r, reg76r, nearc2, nearc4, nearc4a, nearc4b\n",
    "\n",
    "#Set up X\n",
    "y = df['lwage76']*1.0\n",
    "X = pandas.DataFrame()\n",
    "X['south'] = df['reg76r']*1.0\n",
    "X['black'] = df['smsa76r']*1.0\n",
    "X['exp'] = (1.0*df['age76'] - 6.0).add(-1.0*df['ed76'])\n",
    "X['exp_sq'] = (X['exp']**2)/100\n",
    "\n",
    "#Set up IV\n",
    "I_a = pandas.DataFrame()\n",
    "I_a = X.copy()\n",
    "I_a['nearc4a'] = df['nearc4a']*1.0\n",
    "I_a['nearc4b'] = df['nearc4b']*1.0"
   ]
  },
  {
   "cell_type": "code",
   "execution_count": 52,
   "metadata": {},
   "outputs": [
    {
     "name": "stdout",
     "output_type": "stream",
     "text": [
      "south       1.138565\n",
      "black       2.368978\n",
      "exp         2.526332\n",
      "exp_sq    -13.746867\n",
      "nearc4a     2.335940\n",
      "nearc4b     1.900388\n",
      "dtype: float64\n",
      "south     0.263592\n",
      "black     1.146069\n",
      "exp       1.185254\n",
      "exp_sq   -5.649886\n",
      "educ      0.282337\n",
      "dtype: float64\n"
     ]
    }
   ],
   "source": [
    "model_a_s1 = sm.OLS(df['ed76'],I_a,missing = 'drop').fit()\n",
    "print model_a_s1.params\n",
    "\n",
    "X_a = X.copy()\n",
    "X_a['educ'] = model_a_s1.resid\n",
    "#X_a = sm.add_constant(X_a)\n",
    "\n",
    "model_a_s2 = sm.OLS(y,X_a,missing = 'drop').fit()\n",
    "print model_a_s2.params"
   ]
  },
  {
   "cell_type": "code",
   "execution_count": 58,
   "metadata": {},
   "outputs": [
    {
     "name": "stdout",
     "output_type": "stream",
     "text": [
      "south       1.198372\n",
      "black       2.191121\n",
      "exp         2.484431\n",
      "exp_sq    -13.572628\n",
      "nearc4a     2.124810\n",
      "nearc4b     1.897187\n",
      "nearc2      0.990464\n",
      "dtype: float64\n"
     ]
    }
   ],
   "source": [
    "I_b = I_a.copy()\n",
    "I_b['nearc2'] = df['nearc2']\n",
    "\n",
    "model_b_s1 = sm.OLS(df['ed76'],I_b,missing = 'drop').fit()\n",
    "print model_b_s1.params"
   ]
  },
  {
   "cell_type": "code",
   "execution_count": 57,
   "metadata": {},
   "outputs": [
    {
     "name": "stdout",
     "output_type": "stream",
     "text": [
      "south                   1.214773\n",
      "black                   2.193927\n",
      "exp                     2.492723\n",
      "exp_sq                -13.679532\n",
      "nearc4a                 0.480176\n",
      "nearc4b                 1.915912\n",
      "nearc2                  0.993110\n",
      "nearc4a*age76           0.058507\n",
      "nearc4a*age76^2/100     0.172057\n",
      "dtype: float64\n"
     ]
    }
   ],
   "source": [
    "I_c = I_b.copy()\n",
    "I_c['nearc4a*age76'] = I_b['nearc4a'].multiply(df['age76']*1.0)\n",
    "I_c['nearc4a*age76^2/100'] = I_b['nearc4a'].multiply(df['age76']**2/100)\n",
    "\n",
    "model_c_s1 = sm.OLS(df['ed76'],I_c,missing = 'drop').fit()\n",
    "print model_c_s1.params"
   ]
  },
  {
   "cell_type": "code",
   "execution_count": 56,
   "metadata": {},
   "outputs": [
    {
     "name": "stdout",
     "output_type": "stream",
     "text": [
      "south     0.263592\n",
      "black     1.146069\n",
      "exp       1.185254\n",
      "exp_sq   -5.649886\n",
      "educ      0.282337\n",
      "dtype: float64\n"
     ]
    }
   ],
   "source": [
    "X_d = X.copy()\n",
    "X_d['educ'] = model_c_s1.resid\n",
    "#X_a = sm.add_constant(X_a)\n",
    "model_d_s2 = sm.OLS(y,X_d,missing = 'drop').fit()\n",
    "print model_a_s2.params"
   ]
  },
  {
   "cell_type": "code",
   "execution_count": null,
   "metadata": {
    "collapsed": true
   },
   "outputs": [],
   "source": []
  }
 ],
 "metadata": {
  "kernelspec": {
   "display_name": "Python 2",
   "language": "python",
   "name": "python2"
  },
  "language_info": {
   "codemirror_mode": {
    "name": "ipython",
    "version": 2
   },
   "file_extension": ".py",
   "mimetype": "text/x-python",
   "name": "python",
   "nbconvert_exporter": "python",
   "pygments_lexer": "ipython2",
   "version": "2.7.14"
  }
 },
 "nbformat": 4,
 "nbformat_minor": 2
}
